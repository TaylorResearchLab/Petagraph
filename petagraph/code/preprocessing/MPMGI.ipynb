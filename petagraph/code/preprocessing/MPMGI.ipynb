{
 "cells": [
  {
   "cell_type": "code",
   "execution_count": 1,
   "metadata": {},
   "outputs": [],
   "source": [
    "import warnings\n",
    "warnings.filterwarnings('ignore')\n",
    "import pandas as pd\n",
    "import numpy as np\n",
    "import re\n",
    "import matplotlib.pyplot  as plt\n",
    "import hashlib\n",
    "from collections import Counter\n",
    "import base64\n",
    "pd.options.display.max_columns = None"
   ]
  },
  {
   "cell_type": "code",
   "execution_count": 2,
   "metadata": {},
   "outputs": [],
   "source": [
    "def fill_missing_cols(df):\n",
    "    \n",
    "    if 'node_id' not in df.columns:\n",
    "        raise ValueError('Must have at least a \"node_id\" column.')\n",
    "        \n",
    "    all_cols = set([ 'node_label', 'node_synonyms', 'node_dbxrefs',\n",
    "            'node_definition','node_namespace','value','lowerbound','upperbound','unit'])\n",
    "   \n",
    "    missing_cols = list(all_cols - set(df.columns))\n",
    "    nan_cols_df = pd.DataFrame(np.full([len(df), len(missing_cols)], np.nan),columns=missing_cols)\n",
    "    nan_cols_df.index = df.index\n",
    "    return pd.concat([df,nan_cols_df],axis=1)"
   ]
  },
  {
   "cell_type": "code",
   "execution_count": 2,
   "metadata": {},
   "outputs": [],
   "source": [
    "#!jupyter nbconvert --to script IMPC_ftp_JS.ipynb"
   ]
  },
  {
   "cell_type": "markdown",
   "metadata": {},
   "source": [
    "# Main notebook for Mouse Phenotype (MP) - Mouse gene (MGI)\n",
    "\n",
    "# The end of this workflow is different from the original IMPC_ftp.ipynb notebook located in /Users/stearb/Dropbox/CHOP/R03/code/genotype_phenotype, we are using Jonathan Silversteins workflow for the Neo4j CSV creation (meaning the files produced by this workflow will be the inputs into JS's workflow) ...so we only need to create 2 files, a nodes.tsv and an edges.tsv (instead of the ~6 files, CUIs, CUI-CUIs, Code-CUIs, Terms, etc.)\n",
    "\n",
    "## The guide for how to create these new nodes and edges files can be found in the Data Distillerys [github](https://ubkg.docs.xconsortia.org/formats/)"
   ]
  },
  {
   "cell_type": "markdown",
   "metadata": {},
   "source": [
    "### Input files:\n",
    "    * IMPC\n",
    "        - genotype-phenotype-assertions-ALL.csv\n",
    "        - statistical-results-ALL.csv\n",
    "    * MGI\n",
    "        - MGI_PhenoGenoMP.rpt (Table 5)\n",
    "        - mgi_master_geno2pheno.csv\n",
    "\n",
    "### Output  files:\n",
    "        - nodes.tsv\n",
    "        - edges.tsv"
   ]
  },
  {
   "cell_type": "markdown",
   "metadata": {},
   "source": [
    "# IPMC README.txt\n",
    "http://ftp.ebi.ac.uk/pub/databases/impc/all-data-releases/latest/results/README.txt"
   ]
  },
  {
   "cell_type": "markdown",
   "metadata": {},
   "source": [
    "## Download and clean genotype-phenotype data from IMPC\n",
    "### First look at just the genotype-phenotype-assertions-ALL.csv file"
   ]
  },
  {
   "cell_type": "code",
   "execution_count": 3,
   "metadata": {},
   "outputs": [
    {
     "name": "stdout",
     "output_type": "stream",
     "text": [
      "(60174, 7)\n"
     ]
    },
    {
     "data": {
      "text/html": [
       "<div>\n",
       "<style scoped>\n",
       "    .dataframe tbody tr th:only-of-type {\n",
       "        vertical-align: middle;\n",
       "    }\n",
       "\n",
       "    .dataframe tbody tr th {\n",
       "        vertical-align: top;\n",
       "    }\n",
       "\n",
       "    .dataframe thead th {\n",
       "        text-align: right;\n",
       "    }\n",
       "</style>\n",
       "<table border=\"1\" class=\"dataframe\">\n",
       "  <thead>\n",
       "    <tr style=\"text-align: right;\">\n",
       "      <th></th>\n",
       "      <th>marker_symbol</th>\n",
       "      <th>allele_accession_id</th>\n",
       "      <th>parameter_name</th>\n",
       "      <th>top_level_mp_term_id</th>\n",
       "      <th>top_level_mp_term_name</th>\n",
       "      <th>mp_term_id</th>\n",
       "      <th>mp_term_name</th>\n",
       "    </tr>\n",
       "  </thead>\n",
       "  <tbody>\n",
       "    <tr>\n",
       "      <th>0</th>\n",
       "      <td>Gimap3</td>\n",
       "      <td>MGI:5883410</td>\n",
       "      <td>Cornea</td>\n",
       "      <td>MP:0005391</td>\n",
       "      <td>vision/eye phenotype</td>\n",
       "      <td>MP:0001312</td>\n",
       "      <td>abnormal cornea morphology</td>\n",
       "    </tr>\n",
       "    <tr>\n",
       "      <th>1</th>\n",
       "      <td>Prss8</td>\n",
       "      <td>MGI:5646004</td>\n",
       "      <td>Embryo Size</td>\n",
       "      <td>MP:0005380,MP:0005378</td>\n",
       "      <td>embryo phenotype,growth/size/body region pheno...</td>\n",
       "      <td>MP:0001697</td>\n",
       "      <td>abnormal embryo size</td>\n",
       "    </tr>\n",
       "    <tr>\n",
       "      <th>2</th>\n",
       "      <td>Pstpip2</td>\n",
       "      <td>MGI:5755044</td>\n",
       "      <td>Seminal vesicle</td>\n",
       "      <td>MP:0005389,MP:0005379</td>\n",
       "      <td>reproductive system phenotype,endocrine/exocri...</td>\n",
       "      <td>MP:0002059</td>\n",
       "      <td>abnormal seminal vesicle morphology</td>\n",
       "    </tr>\n",
       "  </tbody>\n",
       "</table>\n",
       "</div>"
      ],
      "text/plain": [
       "  marker_symbol allele_accession_id   parameter_name   top_level_mp_term_id   \n",
       "0        Gimap3         MGI:5883410           Cornea             MP:0005391  \\\n",
       "1         Prss8         MGI:5646004      Embryo Size  MP:0005380,MP:0005378   \n",
       "2       Pstpip2         MGI:5755044  Seminal vesicle  MP:0005389,MP:0005379   \n",
       "\n",
       "                              top_level_mp_term_name  mp_term_id   \n",
       "0                               vision/eye phenotype  MP:0001312  \\\n",
       "1  embryo phenotype,growth/size/body region pheno...  MP:0001697   \n",
       "2  reproductive system phenotype,endocrine/exocri...  MP:0002059   \n",
       "\n",
       "                          mp_term_name  \n",
       "0           abnormal cornea morphology  \n",
       "1                 abnormal embryo size  \n",
       "2  abnormal seminal vesicle morphology  "
      ]
     },
     "execution_count": 3,
     "metadata": {},
     "output_type": "execute_result"
    }
   ],
   "source": [
    "gno_phno = '/Users/stearb/desktop/DESKTOP_TRANSFER/R03_local/impc_ftp/genotype-phenotype-assertions-ALL.csv'\n",
    "\n",
    "cols_to_drop = ['phenotyping_center','colony_id','sex','zygosity','strain_name','project_name',\n",
    "                'project_fullname','pipeline_name','pipeline_stable_id','procedure_stable_id',\n",
    "                'parameter_stable_id','p_value','percentage_change','effect_size','statistical_method',\n",
    "                   'resource_name','strain_accession_id','allele_name','procedure_name','marker_accession_id',\n",
    "               'allele_symbol']\n",
    "\n",
    "df=pd.read_csv(gno_phno).drop(cols_to_drop,axis=1)\n",
    "\n",
    "print(df.shape)\n",
    "df.head(3)"
   ]
  },
  {
   "cell_type": "code",
   "execution_count": 4,
   "metadata": {},
   "outputs": [
    {
     "data": {
      "text/html": [
       "<div>\n",
       "<style scoped>\n",
       "    .dataframe tbody tr th:only-of-type {\n",
       "        vertical-align: middle;\n",
       "    }\n",
       "\n",
       "    .dataframe tbody tr th {\n",
       "        vertical-align: top;\n",
       "    }\n",
       "\n",
       "    .dataframe thead th {\n",
       "        text-align: right;\n",
       "    }\n",
       "</style>\n",
       "<table border=\"1\" class=\"dataframe\">\n",
       "  <thead>\n",
       "    <tr style=\"text-align: right;\">\n",
       "      <th></th>\n",
       "      <th>marker_symbol</th>\n",
       "      <th>allele_accession_id</th>\n",
       "      <th>parameter_name</th>\n",
       "      <th>top_level_mp_term_id</th>\n",
       "      <th>top_level_mp_term_name</th>\n",
       "      <th>mp_term_id</th>\n",
       "      <th>mp_term_name</th>\n",
       "    </tr>\n",
       "  </thead>\n",
       "  <tbody>\n",
       "    <tr>\n",
       "      <th>0</th>\n",
       "      <td>6007</td>\n",
       "      <td>6235</td>\n",
       "      <td>972</td>\n",
       "      <td>59</td>\n",
       "      <td>59</td>\n",
       "      <td>746</td>\n",
       "      <td>746</td>\n",
       "    </tr>\n",
       "  </tbody>\n",
       "</table>\n",
       "</div>"
      ],
      "text/plain": [
       "   marker_symbol  allele_accession_id  parameter_name  top_level_mp_term_id   \n",
       "0           6007                 6235             972                    59  \\\n",
       "\n",
       "   top_level_mp_term_name  mp_term_id  mp_term_name  \n",
       "0                      59         746           746  "
      ]
     },
     "execution_count": 4,
     "metadata": {},
     "output_type": "execute_result"
    }
   ],
   "source": [
    "# Show number of unique values in each column\n",
    "df.nunique().to_frame().T"
   ]
  },
  {
   "cell_type": "code",
   "execution_count": 5,
   "metadata": {},
   "outputs": [
    {
     "data": {
      "text/plain": [
       "marker_symbol                2\n",
       "allele_accession_id          2\n",
       "parameter_name               0\n",
       "top_level_mp_term_id      1150\n",
       "top_level_mp_term_name    1150\n",
       "mp_term_id                 877\n",
       "mp_term_name               877\n",
       "dtype: int64"
      ]
     },
     "execution_count": 5,
     "metadata": {},
     "output_type": "execute_result"
    }
   ],
   "source": [
    "# How many nulls in each col?\n",
    "df.isna().sum()"
   ]
  },
  {
   "cell_type": "code",
   "execution_count": 6,
   "metadata": {},
   "outputs": [
    {
     "name": "stdout",
     "output_type": "stream",
     "text": [
      "Dropped 1150 rows after getting rid of Nan\n"
     ]
    }
   ],
   "source": [
    "rows_w_na = df.shape[0]\n",
    "df.dropna(inplace=True)\n",
    "print(f'Dropped {rows_w_na-df.shape[0]} rows after getting rid of Nan')"
   ]
  },
  {
   "cell_type": "code",
   "execution_count": 7,
   "metadata": {},
   "outputs": [],
   "source": [
    "# Save to check consistency later\n",
    "#df[['marker_symbol','parameter_name',\n",
    "#    'allele_accession_id','mp_term_id',\n",
    "#    'mp_term_name','top_level_mp_term_id']].to_csv(\n",
    "#    '/Users/stearb/desktop/R03_local/data/ingest_files/genopheno/geno2pheno_mapping.csv')"
   ]
  },
  {
   "cell_type": "code",
   "execution_count": 8,
   "metadata": {},
   "outputs": [
    {
     "data": {
      "text/plain": [
       "(36671, 7)"
      ]
     },
     "execution_count": 8,
     "metadata": {},
     "output_type": "execute_result"
    }
   ],
   "source": [
    "df_dropdup = df.drop_duplicates(['marker_symbol','mp_term_id','mp_term_name','allele_accession_id','parameter_name'])\n",
    "df_dropdup.shape"
   ]
  },
  {
   "cell_type": "code",
   "execution_count": 9,
   "metadata": {},
   "outputs": [
    {
     "name": "stdout",
     "output_type": "stream",
     "text": [
      "There are 24 unique top level MP terms in this dataset.\n"
     ]
    }
   ],
   "source": [
    "# Seperate the 'top_level_mp_term_id'  column by '|'\n",
    "all_top_level_mp_terms = np.ravel(list(df['top_level_mp_term_id'].apply(lambda x: x.split('|')).values))\n",
    "\n",
    "# Split results by ','\n",
    "all_top_level_mp_terms_ = list([i.split(',') for i in all_top_level_mp_terms])\n",
    "\n",
    "# Flatten it.\n",
    "flat_list = [item for sublist in all_top_level_mp_terms_ for item in sublist]\n",
    "\n",
    "print('There are '+str(len(np.unique(flat_list))) + ' unique top level MP terms in this dataset.')"
   ]
  },
  {
   "cell_type": "code",
   "execution_count": 10,
   "metadata": {},
   "outputs": [
    {
     "name": "stdout",
     "output_type": "stream",
     "text": [
      "There are 740 unique MP terms in this dataset.\n"
     ]
    }
   ],
   "source": [
    "print('There are '+str(len(df['mp_term_id'].unique()))+' unique MP terms in this dataset.')"
   ]
  },
  {
   "cell_type": "code",
   "execution_count": 11,
   "metadata": {},
   "outputs": [
    {
     "name": "stdout",
     "output_type": "stream",
     "text": [
      "There are 5966 unique genes in this dataset.\n"
     ]
    }
   ],
   "source": [
    "print('There are '+str(df['marker_symbol'].unique().shape[0])+' unique genes in this dataset.')"
   ]
  },
  {
   "cell_type": "markdown",
   "metadata": {},
   "source": [
    "## Now look at another IMPC file called statistical-results-ALL.csv file"
   ]
  },
  {
   "cell_type": "code",
   "execution_count": 12,
   "metadata": {},
   "outputs": [],
   "source": [
    "##### This is a larger file, slighlty over 1 GB\n",
    "stats_file = '/Users/stearb/Desktop/DESKTOP_TRANSFER/R03_local/data/use_config/R03_DATA/statistical-results-ALL.csv'\n",
    "stats = pd.read_csv(stats_file)"
   ]
  },
  {
   "cell_type": "code",
   "execution_count": 13,
   "metadata": {},
   "outputs": [],
   "source": [
    "#list(stats.columns)  # See all available columns,  there are 87 columns"
   ]
  },
  {
   "cell_type": "code",
   "execution_count": 14,
   "metadata": {},
   "outputs": [
    {
     "name": "stdout",
     "output_type": "stream",
     "text": [
      "(1905809, 87)\n"
     ]
    },
    {
     "data": {
      "text/html": [
       "<div>\n",
       "<style scoped>\n",
       "    .dataframe tbody tr th:only-of-type {\n",
       "        vertical-align: middle;\n",
       "    }\n",
       "\n",
       "    .dataframe tbody tr th {\n",
       "        vertical-align: top;\n",
       "    }\n",
       "\n",
       "    .dataframe thead th {\n",
       "        text-align: right;\n",
       "    }\n",
       "</style>\n",
       "<table border=\"1\" class=\"dataframe\">\n",
       "  <thead>\n",
       "    <tr style=\"text-align: right;\">\n",
       "      <th></th>\n",
       "      <th>marker_symbol</th>\n",
       "      <th>parameter_name</th>\n",
       "      <th>allele_name</th>\n",
       "      <th>marker_accession_id</th>\n",
       "      <th>mp_term_id</th>\n",
       "      <th>mp_term_name</th>\n",
       "      <th>top_level_mp_term_id</th>\n",
       "      <th>top_level_mp_term_name</th>\n",
       "      <th>allele_symbol</th>\n",
       "      <th>allele_accession_id</th>\n",
       "    </tr>\n",
       "  </thead>\n",
       "  <tbody>\n",
       "    <tr>\n",
       "      <th>0</th>\n",
       "      <td>Gpank1</td>\n",
       "      <td>Skeletal muscle</td>\n",
       "      <td>tm1.1(KOMP)Vlcg</td>\n",
       "      <td>MGI:2148975</td>\n",
       "      <td>NaN</td>\n",
       "      <td>NaN</td>\n",
       "      <td>NaN</td>\n",
       "      <td>NaN</td>\n",
       "      <td>Gpank1&lt;tm1.1(KOMP)Vlcg&gt;</td>\n",
       "      <td>MGI:5574607</td>\n",
       "    </tr>\n",
       "    <tr>\n",
       "      <th>1</th>\n",
       "      <td>Prrc2c</td>\n",
       "      <td>Tail Morphology</td>\n",
       "      <td>em1(IMPC)J</td>\n",
       "      <td>MGI:1913754</td>\n",
       "      <td>NaN</td>\n",
       "      <td>NaN</td>\n",
       "      <td>MP:0005371</td>\n",
       "      <td>limbs/digits/tail phenotype</td>\n",
       "      <td>Prrc2c&lt;em1(IMPC)J&gt;</td>\n",
       "      <td>MGI:6143826</td>\n",
       "    </tr>\n",
       "    <tr>\n",
       "      <th>2</th>\n",
       "      <td>Adh5</td>\n",
       "      <td>Thyroid</td>\n",
       "      <td>tm1b(EUCOMM)Wtsi</td>\n",
       "      <td>MGI:87929</td>\n",
       "      <td>NaN</td>\n",
       "      <td>NaN</td>\n",
       "      <td>NaN</td>\n",
       "      <td>NaN</td>\n",
       "      <td>Adh5&lt;tm1b(EUCOMM)Wtsi&gt;</td>\n",
       "      <td>MGI:5548916</td>\n",
       "    </tr>\n",
       "  </tbody>\n",
       "</table>\n",
       "</div>"
      ],
      "text/plain": [
       "  marker_symbol   parameter_name       allele_name marker_accession_id   \n",
       "0        Gpank1  Skeletal muscle   tm1.1(KOMP)Vlcg         MGI:2148975  \\\n",
       "1        Prrc2c  Tail Morphology        em1(IMPC)J         MGI:1913754   \n",
       "2          Adh5          Thyroid  tm1b(EUCOMM)Wtsi           MGI:87929   \n",
       "\n",
       "  mp_term_id mp_term_name top_level_mp_term_id       top_level_mp_term_name   \n",
       "0        NaN          NaN                  NaN                          NaN  \\\n",
       "1        NaN          NaN           MP:0005371  limbs/digits/tail phenotype   \n",
       "2        NaN          NaN                  NaN                          NaN   \n",
       "\n",
       "             allele_symbol allele_accession_id  \n",
       "0  Gpank1<tm1.1(KOMP)Vlcg>         MGI:5574607  \n",
       "1       Prrc2c<em1(IMPC)J>         MGI:6143826  \n",
       "2   Adh5<tm1b(EUCOMM)Wtsi>         MGI:5548916  "
      ]
     },
     "execution_count": 14,
     "metadata": {},
     "output_type": "execute_result"
    }
   ],
   "source": [
    "\n",
    "# Just select the most important columns right now.\n",
    "stats_cols_to_include = ['marker_symbol','parameter_name','allele_name','marker_accession_id',\n",
    "                         'mp_term_id','mp_term_name','top_level_mp_term_id','top_level_mp_term_name',\n",
    "                         'allele_symbol','allele_accession_id']\n",
    "\n",
    "stats_slct = stats[stats_cols_to_include]\n",
    "\n",
    "print(stats.shape)\n",
    "stats_slct.head(3) "
   ]
  },
  {
   "cell_type": "code",
   "execution_count": 15,
   "metadata": {},
   "outputs": [
    {
     "data": {
      "text/html": [
       "<div>\n",
       "<style scoped>\n",
       "    .dataframe tbody tr th:only-of-type {\n",
       "        vertical-align: middle;\n",
       "    }\n",
       "\n",
       "    .dataframe tbody tr th {\n",
       "        vertical-align: top;\n",
       "    }\n",
       "\n",
       "    .dataframe thead th {\n",
       "        text-align: right;\n",
       "    }\n",
       "</style>\n",
       "<table border=\"1\" class=\"dataframe\">\n",
       "  <thead>\n",
       "    <tr style=\"text-align: right;\">\n",
       "      <th></th>\n",
       "      <th>marker_symbol</th>\n",
       "      <th>parameter_name</th>\n",
       "      <th>allele_name</th>\n",
       "      <th>marker_accession_id</th>\n",
       "      <th>mp_term_id</th>\n",
       "      <th>mp_term_name</th>\n",
       "      <th>top_level_mp_term_id</th>\n",
       "      <th>top_level_mp_term_name</th>\n",
       "      <th>allele_symbol</th>\n",
       "      <th>allele_accession_id</th>\n",
       "    </tr>\n",
       "  </thead>\n",
       "  <tbody>\n",
       "    <tr>\n",
       "      <th>0</th>\n",
       "      <td>1</td>\n",
       "      <td>0</td>\n",
       "      <td>42155</td>\n",
       "      <td>1</td>\n",
       "      <td>1871375</td>\n",
       "      <td>1871376</td>\n",
       "      <td>770079</td>\n",
       "      <td>770079</td>\n",
       "      <td>1</td>\n",
       "      <td>1</td>\n",
       "    </tr>\n",
       "  </tbody>\n",
       "</table>\n",
       "</div>"
      ],
      "text/plain": [
       "   marker_symbol  parameter_name  allele_name  marker_accession_id   \n",
       "0              1               0        42155                    1  \\\n",
       "\n",
       "   mp_term_id  mp_term_name  top_level_mp_term_id  top_level_mp_term_name   \n",
       "0     1871375       1871376                770079                  770079  \\\n",
       "\n",
       "   allele_symbol  allele_accession_id  \n",
       "0              1                    1  "
      ]
     },
     "execution_count": 15,
     "metadata": {},
     "output_type": "execute_result"
    }
   ],
   "source": [
    "# How many nans per column?\n",
    "stats_slct.isna().sum().to_frame().T"
   ]
  },
  {
   "cell_type": "code",
   "execution_count": 16,
   "metadata": {},
   "outputs": [
    {
     "name": "stdout",
     "output_type": "stream",
     "text": [
      "(33157, 10)\n"
     ]
    },
    {
     "data": {
      "text/html": [
       "<div>\n",
       "<style scoped>\n",
       "    .dataframe tbody tr th:only-of-type {\n",
       "        vertical-align: middle;\n",
       "    }\n",
       "\n",
       "    .dataframe tbody tr th {\n",
       "        vertical-align: top;\n",
       "    }\n",
       "\n",
       "    .dataframe thead th {\n",
       "        text-align: right;\n",
       "    }\n",
       "</style>\n",
       "<table border=\"1\" class=\"dataframe\">\n",
       "  <thead>\n",
       "    <tr style=\"text-align: right;\">\n",
       "      <th></th>\n",
       "      <th>marker_symbol</th>\n",
       "      <th>parameter_name</th>\n",
       "      <th>allele_name</th>\n",
       "      <th>marker_accession_id</th>\n",
       "      <th>mp_term_id</th>\n",
       "      <th>mp_term_name</th>\n",
       "      <th>top_level_mp_term_id</th>\n",
       "      <th>top_level_mp_term_name</th>\n",
       "      <th>allele_symbol</th>\n",
       "      <th>allele_accession_id</th>\n",
       "    </tr>\n",
       "  </thead>\n",
       "  <tbody>\n",
       "    <tr>\n",
       "      <th>23</th>\n",
       "      <td>Cd3eap</td>\n",
       "      <td>Limb Plate Morphology</td>\n",
       "      <td>tm1b(KOMP)Wtsi</td>\n",
       "      <td>MGI:1917583</td>\n",
       "      <td>MP:0004576</td>\n",
       "      <td>abnormal embryonic autopod plate morphology</td>\n",
       "      <td>MP:0005371</td>\n",
       "      <td>limbs/digits/tail phenotype</td>\n",
       "      <td>Cd3eap&lt;tm1b(KOMP)Wtsi&gt;</td>\n",
       "      <td>MGI:5692700</td>\n",
       "    </tr>\n",
       "    <tr>\n",
       "      <th>73</th>\n",
       "      <td>Pxdn</td>\n",
       "      <td>Whole arena average speed</td>\n",
       "      <td>em1(IMPC)J</td>\n",
       "      <td>MGI:1916925</td>\n",
       "      <td>MP:0003313</td>\n",
       "      <td>abnormal locomotor activation</td>\n",
       "      <td>MP:0005386</td>\n",
       "      <td>behavior/neurological phenotype</td>\n",
       "      <td>Pxdn&lt;em1(IMPC)J&gt;</td>\n",
       "      <td>MGI:5829376</td>\n",
       "    </tr>\n",
       "    <tr>\n",
       "      <th>110</th>\n",
       "      <td>Mkrn3</td>\n",
       "      <td>Fasted blood glucose concentration</td>\n",
       "      <td>em1(IMPC)Tcp</td>\n",
       "      <td>MGI:2181178</td>\n",
       "      <td>MP:0013277</td>\n",
       "      <td>abnormal fasting circulating glucose level</td>\n",
       "      <td>MP:0005376</td>\n",
       "      <td>homeostasis/metabolism phenotype</td>\n",
       "      <td>Mkrn3&lt;em1(IMPC)Tcp&gt;</td>\n",
       "      <td>MGI:6156558</td>\n",
       "    </tr>\n",
       "  </tbody>\n",
       "</table>\n",
       "</div>"
      ],
      "text/plain": [
       "    marker_symbol                      parameter_name     allele_name   \n",
       "23         Cd3eap               Limb Plate Morphology  tm1b(KOMP)Wtsi  \\\n",
       "73           Pxdn           Whole arena average speed      em1(IMPC)J   \n",
       "110         Mkrn3  Fasted blood glucose concentration    em1(IMPC)Tcp   \n",
       "\n",
       "    marker_accession_id  mp_term_id   \n",
       "23          MGI:1917583  MP:0004576  \\\n",
       "73          MGI:1916925  MP:0003313   \n",
       "110         MGI:2181178  MP:0013277   \n",
       "\n",
       "                                    mp_term_name top_level_mp_term_id   \n",
       "23   abnormal embryonic autopod plate morphology           MP:0005371  \\\n",
       "73                 abnormal locomotor activation           MP:0005386   \n",
       "110   abnormal fasting circulating glucose level           MP:0005376   \n",
       "\n",
       "               top_level_mp_term_name           allele_symbol   \n",
       "23        limbs/digits/tail phenotype  Cd3eap<tm1b(KOMP)Wtsi>  \\\n",
       "73    behavior/neurological phenotype        Pxdn<em1(IMPC)J>   \n",
       "110  homeostasis/metabolism phenotype     Mkrn3<em1(IMPC)Tcp>   \n",
       "\n",
       "    allele_accession_id  \n",
       "23          MGI:5692700  \n",
       "73          MGI:5829376  \n",
       "110         MGI:6156558  "
      ]
     },
     "execution_count": 16,
     "metadata": {},
     "output_type": "execute_result"
    }
   ],
   "source": [
    "stats_slct.dropna(inplace=True) \n",
    "print(stats_slct.shape)\n",
    "stats_slct.head(3)"
   ]
  },
  {
   "cell_type": "code",
   "execution_count": 17,
   "metadata": {},
   "outputs": [
    {
     "data": {
      "text/plain": [
       "(694,)"
      ]
     },
     "execution_count": 17,
     "metadata": {},
     "output_type": "execute_result"
    }
   ],
   "source": [
    "# There are only 694 unique MP terms in the statistical-results-ALL.csv dataset.\n",
    "stats_slct['mp_term_id'].unique().shape"
   ]
  },
  {
   "cell_type": "code",
   "execution_count": 18,
   "metadata": {},
   "outputs": [
    {
     "data": {
      "text/plain": [
       "[('MP:0003313', 2014),\n",
       " ('MP:0011100', 1790),\n",
       " ('MP:0001515', 698),\n",
       " ('MP:0011110', 663),\n",
       " ('MP:0001697', 651)]"
      ]
     },
     "execution_count": 18,
     "metadata": {},
     "output_type": "execute_result"
    }
   ],
   "source": [
    "# Lets see the most common MP terms in this dataset.\n",
    "Counter(stats_slct['mp_term_id'].values).most_common(5)"
   ]
  },
  {
   "cell_type": "code",
   "execution_count": 19,
   "metadata": {},
   "outputs": [],
   "source": [
    "# Top 3 most common MP terms\n",
    "#print(stats_slct[stats_slct['mp_term_id'] == 'MP:0003313']['mp_term_name'].unique()[0])\n",
    "#print(stats_slct[stats_slct['mp_term_id'] == 'MP:0011100']['mp_term_name'].unique()[0])\n",
    "#print(stats_slct[stats_slct['mp_term_id'] == 'MP:0001515']['mp_term_name'].unique()[0])"
   ]
  },
  {
   "cell_type": "markdown",
   "metadata": {},
   "source": [
    "## Now lets compare the first genotype-phenotype IMPC dataset we looked at (genotype-phenotype-assertions-ALL.csv) with genotype-phenotype datasets from MGI from http://www.informatics.jax.org/downloads/reports/index.html#pheno"
   ]
  },
  {
   "cell_type": "markdown",
   "metadata": {},
   "source": [
    "# Lets look at the MGI Table 5 Dataset \n",
    "### All Genotypes and Mammalian Phenotype Annotations (tab-delimited)"
   ]
  },
  {
   "cell_type": "code",
   "execution_count": 20,
   "metadata": {},
   "outputs": [
    {
     "name": "stdout",
     "output_type": "stream",
     "text": [
      "(270193, 2)\n"
     ]
    },
    {
     "data": {
      "text/html": [
       "<div>\n",
       "<style scoped>\n",
       "    .dataframe tbody tr th:only-of-type {\n",
       "        vertical-align: middle;\n",
       "    }\n",
       "\n",
       "    .dataframe tbody tr th {\n",
       "        vertical-align: top;\n",
       "    }\n",
       "\n",
       "    .dataframe thead th {\n",
       "        text-align: right;\n",
       "    }\n",
       "</style>\n",
       "<table border=\"1\" class=\"dataframe\">\n",
       "  <thead>\n",
       "    <tr style=\"text-align: right;\">\n",
       "      <th></th>\n",
       "      <th>Mammalian Phenotype ID</th>\n",
       "      <th>Gene</th>\n",
       "    </tr>\n",
       "  </thead>\n",
       "  <tbody>\n",
       "    <tr>\n",
       "      <th>0</th>\n",
       "      <td>MP:0000600</td>\n",
       "      <td>Rb1</td>\n",
       "    </tr>\n",
       "    <tr>\n",
       "      <th>1</th>\n",
       "      <td>MP:0001716</td>\n",
       "      <td>Rb1</td>\n",
       "    </tr>\n",
       "    <tr>\n",
       "      <th>2</th>\n",
       "      <td>MP:0001698</td>\n",
       "      <td>Rb1</td>\n",
       "    </tr>\n",
       "  </tbody>\n",
       "</table>\n",
       "</div>"
      ],
      "text/plain": [
       "  Mammalian Phenotype ID Gene\n",
       "0             MP:0000600  Rb1\n",
       "1             MP:0001716  Rb1\n",
       "2             MP:0001698  Rb1"
      ]
     },
     "execution_count": 20,
     "metadata": {},
     "output_type": "execute_result"
    }
   ],
   "source": [
    "mgi_table5_extracted_geno_pheno_data = '/Users/stearb/dropbox/CHOP/DataDistillery/code/ingestion_notebooks/genotype_phenotype/geno2pheno_MGI_table5.csv'\n",
    "\n",
    "mgi5 =pd.read_csv(mgi_table5_extracted_geno_pheno_data,sep='\\t',index_col=0)\n",
    "print(mgi5.shape)\n",
    "mgi5.head(3)  "
   ]
  },
  {
   "cell_type": "markdown",
   "metadata": {},
   "source": [
    "### Lets see the overlap in MP terms \n",
    "#### All of  the MP terms in the genotype-phenotype-assertions-ALL IMPC dataset are in the MGI Table 5 dataset."
   ]
  },
  {
   "cell_type": "code",
   "execution_count": 21,
   "metadata": {},
   "outputs": [
    {
     "name": "stdout",
     "output_type": "stream",
     "text": [
      "Total unique MP terms in IMPC dataset: 740\n",
      "Total unique MP terms in MGI Table 5 dataset: 10525\n",
      "Overlap in MP terms between the 2 datasets: 740\n"
     ]
    }
   ],
   "source": [
    "print('Total unique MP terms in IMPC dataset: ' + str(len(df['mp_term_id'].unique())))\n",
    "print('Total unique MP terms in MGI Table 5 dataset: ' + str(len(mgi5['Mammalian Phenotype ID'].unique())))\n",
    "\n",
    "o = len(set(mgi5['Mammalian Phenotype ID']).intersection(set(df['mp_term_id'])))\n",
    "print(f'Overlap in MP terms between the 2 datasets: {o}')\n"
   ]
  },
  {
   "cell_type": "markdown",
   "metadata": {},
   "source": [
    "#### Side Note: Most (97%; 5825/5966) of the genes in both datasets overlap, so we still might want to include data set in the master phenotype to genotype list to get those 3% of genes. "
   ]
  },
  {
   "cell_type": "code",
   "execution_count": 22,
   "metadata": {},
   "outputs": [
    {
     "name": "stdout",
     "output_type": "stream",
     "text": [
      "There are 5966 unique genes in the IMPC dataset.\n",
      "There are 23518 unique genes in the  MGI Table 5 dataset.\n",
      "Overlap in genes between the 2 datasets: 5825\n"
     ]
    }
   ],
   "source": [
    "print('There are '+str(df['marker_symbol'].unique().shape[0])+' unique genes in the IMPC dataset.')\n",
    "print('There are '+str(mgi5['Gene'].unique().shape[0])+ ' unique genes in the  MGI Table 5 dataset.')\n",
    "g = len(set(mgi5['Gene']).intersection(set(df['marker_symbol'])))\n",
    "print(f'Overlap in genes between the 2 datasets: {g}')\n"
   ]
  },
  {
   "cell_type": "markdown",
   "metadata": {},
   "source": [
    "### So, by including the MGI Table 5 dataset, we increase the number of MP terms (that are mapped to at least one gene) from 740 to 10,525. Lets see if there is more overlap between these MP terms and the MP terms that were cross-linked from HPO by Tiffany. This is where the bottleneck in the graph was when we were using just the 740 MP terms from the IMPC dataset."
   ]
  },
  {
   "cell_type": "code",
   "execution_count": 23,
   "metadata": {},
   "outputs": [
    {
     "name": "stdout",
     "output_type": "stream",
     "text": [
      "(1221, 5)\n"
     ]
    },
    {
     "data": {
      "text/html": [
       "<div>\n",
       "<style scoped>\n",
       "    .dataframe tbody tr th:only-of-type {\n",
       "        vertical-align: middle;\n",
       "    }\n",
       "\n",
       "    .dataframe tbody tr th {\n",
       "        vertical-align: top;\n",
       "    }\n",
       "\n",
       "    .dataframe thead th {\n",
       "        text-align: right;\n",
       "    }\n",
       "</style>\n",
       "<table border=\"1\" class=\"dataframe\">\n",
       "  <thead>\n",
       "    <tr style=\"text-align: right;\">\n",
       "      <th></th>\n",
       "      <th>HP_ID</th>\n",
       "      <th>HP_LABEL</th>\n",
       "      <th>HP_SYNONYM</th>\n",
       "      <th>MPO_URI</th>\n",
       "      <th>MPO_LABEL</th>\n",
       "    </tr>\n",
       "  </thead>\n",
       "  <tbody>\n",
       "    <tr>\n",
       "      <th>0</th>\n",
       "      <td>HP:0000011</td>\n",
       "      <td>neurogenic bladder</td>\n",
       "      <td>lack of bladder control due to nervous system ...</td>\n",
       "      <td>MP:0005302</td>\n",
       "      <td>neurogenic bladder</td>\n",
       "    </tr>\n",
       "    <tr>\n",
       "      <th>1</th>\n",
       "      <td>HP:0000023</td>\n",
       "      <td>inguinal hernia</td>\n",
       "      <td>NaN</td>\n",
       "      <td>MP:0006077</td>\n",
       "      <td>inguinal hernia</td>\n",
       "    </tr>\n",
       "    <tr>\n",
       "      <th>2</th>\n",
       "      <td>HP:0000028</td>\n",
       "      <td>cryptorchidism</td>\n",
       "      <td>undescended testes | undescended testis | cryp...</td>\n",
       "      <td>MP:0002286</td>\n",
       "      <td>cryptorchism</td>\n",
       "    </tr>\n",
       "  </tbody>\n",
       "</table>\n",
       "</div>"
      ],
      "text/plain": [
       "        HP_ID            HP_LABEL   \n",
       "0  HP:0000011  neurogenic bladder  \\\n",
       "1  HP:0000023     inguinal hernia   \n",
       "2  HP:0000028      cryptorchidism   \n",
       "\n",
       "                                          HP_SYNONYM     MPO_URI   \n",
       "0  lack of bladder control due to nervous system ...  MP:0005302  \\\n",
       "1                                                NaN  MP:0006077   \n",
       "2  undescended testes | undescended testis | cryp...  MP:0002286   \n",
       "\n",
       "            MPO_LABEL  \n",
       "0  neurogenic bladder  \n",
       "1     inguinal hernia  \n",
       "2        cryptorchism  "
      ]
     },
     "execution_count": 23,
     "metadata": {},
     "output_type": "execute_result"
    }
   ],
   "source": [
    "hpo2mp = pd.read_csv('/Users/stearb/dropbox/CHOP/R03/code/phenotype_mapping/tiffs_mappings_ravel.csv',index_col=0)\n",
    "print(hpo2mp.shape)\n",
    "hpo2mp.head(3)"
   ]
  },
  {
   "cell_type": "code",
   "execution_count": 24,
   "metadata": {},
   "outputs": [
    {
     "data": {
      "text/plain": [
       "436"
      ]
     },
     "execution_count": 24,
     "metadata": {},
     "output_type": "execute_result"
    }
   ],
   "source": [
    "len(set(hpo2mp['MPO_URI'].unique()).intersection(set(mgi5['Mammalian Phenotype ID'].unique())))"
   ]
  },
  {
   "cell_type": "markdown",
   "metadata": {},
   "source": [
    "About 9x better coverage, there were only ~50 MP terms overlapping in Tiffanys dataset (hpo--mp mappings) and the MP terms in the genotype-phenotype-assertions-ALL.csv IMPC dataset. \n",
    "\n",
    "By Including the MGI Table 5 dataset we increase our coverage to 436!  Meaning we have 436 (of the ~462 unique Kids First phenotypes) fully connected in our graph. Fully connected means we have HP--MP--Mouse_genes-Human_genes. The MP--Mouse_genes connections are what we are examining in this notebook. "
   ]
  },
  {
   "cell_type": "markdown",
   "metadata": {},
   "source": [
    "Lets see exactly which MP terms we have covered now"
   ]
  },
  {
   "cell_type": "code",
   "execution_count": 25,
   "metadata": {},
   "outputs": [
    {
     "data": {
      "text/html": [
       "<div>\n",
       "<style scoped>\n",
       "    .dataframe tbody tr th:only-of-type {\n",
       "        vertical-align: middle;\n",
       "    }\n",
       "\n",
       "    .dataframe tbody tr th {\n",
       "        vertical-align: top;\n",
       "    }\n",
       "\n",
       "    .dataframe thead th {\n",
       "        text-align: right;\n",
       "    }\n",
       "</style>\n",
       "<table border=\"1\" class=\"dataframe\">\n",
       "  <thead>\n",
       "    <tr style=\"text-align: right;\">\n",
       "      <th></th>\n",
       "      <th>HP_ID</th>\n",
       "      <th>HP_LABEL</th>\n",
       "      <th>HP_SYNONYM</th>\n",
       "      <th>MPO_URI</th>\n",
       "      <th>MPO_LABEL</th>\n",
       "    </tr>\n",
       "  </thead>\n",
       "  <tbody>\n",
       "    <tr>\n",
       "      <th>0</th>\n",
       "      <td>HP:0000011</td>\n",
       "      <td>neurogenic bladder</td>\n",
       "      <td>lack of bladder control due to nervous system ...</td>\n",
       "      <td>MP:0005302</td>\n",
       "      <td>neurogenic bladder</td>\n",
       "    </tr>\n",
       "    <tr>\n",
       "      <th>1</th>\n",
       "      <td>HP:0000023</td>\n",
       "      <td>inguinal hernia</td>\n",
       "      <td>NaN</td>\n",
       "      <td>MP:0006077</td>\n",
       "      <td>inguinal hernia</td>\n",
       "    </tr>\n",
       "    <tr>\n",
       "      <th>2</th>\n",
       "      <td>HP:0000028</td>\n",
       "      <td>cryptorchidism</td>\n",
       "      <td>undescended testes | undescended testis | cryp...</td>\n",
       "      <td>MP:0002286</td>\n",
       "      <td>cryptorchism</td>\n",
       "    </tr>\n",
       "  </tbody>\n",
       "</table>\n",
       "</div>"
      ],
      "text/plain": [
       "        HP_ID            HP_LABEL   \n",
       "0  HP:0000011  neurogenic bladder  \\\n",
       "1  HP:0000023     inguinal hernia   \n",
       "2  HP:0000028      cryptorchidism   \n",
       "\n",
       "                                          HP_SYNONYM     MPO_URI   \n",
       "0  lack of bladder control due to nervous system ...  MP:0005302  \\\n",
       "1                                                NaN  MP:0006077   \n",
       "2  undescended testes | undescended testis | cryp...  MP:0002286   \n",
       "\n",
       "            MPO_LABEL  \n",
       "0  neurogenic bladder  \n",
       "1     inguinal hernia  \n",
       "2        cryptorchism  "
      ]
     },
     "execution_count": 25,
     "metadata": {},
     "output_type": "execute_result"
    }
   ],
   "source": [
    "# Extract rows from Tiffs hpo-mp mapping file that overlap so we can see the names of the 276 MP terms.\n",
    "overlapping_mp = hpo2mp[hpo2mp['MPO_URI'].isin(mgi5['Mammalian Phenotype ID'].unique())]\n",
    "overlap = overlapping_mp.drop_duplicates(['MPO_URI'])\n",
    "overlap.head(3)"
   ]
  },
  {
   "cell_type": "markdown",
   "metadata": {},
   "source": [
    "# Create a master list of MP--mouseGene relationships from the 2 IMPC datasets and then add in the MGI master list created in MGI.ipynb"
   ]
  },
  {
   "cell_type": "code",
   "execution_count": 26,
   "metadata": {},
   "outputs": [],
   "source": [
    "# Lets get the MP terms and the associated mouse genes from each of the 2 IMPC datasets. Add the MGI table 5 \n",
    "# data to the master MGI list\n",
    "\n",
    "# 1st IMPC dataset ( genotype-phenotype-assertions-ALL.csv)\n",
    "impc_1 = df[['mp_term_id','marker_symbol']]\n",
    "\n",
    "# 2nd IMPC dataset (statistical-resultsabs-ALL.csv)\n",
    "impc_2 = stats_slct[['mp_term_id','marker_symbol']].dropna() # There are only 34,434 rows here where mp_term_id is NOT NAN  \n",
    "\n",
    "# This is already included in the MGI master list, MGI Table 5 dataset\n",
    "#mgi_5 = mgi5[['Mammalian Phenotype ID','Gene']]"
   ]
  },
  {
   "cell_type": "code",
   "execution_count": 27,
   "metadata": {},
   "outputs": [],
   "source": [
    "# Rename the columns in each dataframe to 'MP_term'  and 'Gene'\n",
    "impc_1.columns = ['MP_term','Gene']\n",
    "impc_2.columns = ['MP_term','Gene']\n",
    "#mgi_5.columns = ['MP_term','Gene']\n",
    "\n",
    "# Rename the columns in each dataframe to 'MP_term'  and 'Gene'\n",
    "impc_1.columns = impc_2.columns = ['MP_term','Gene']"
   ]
  },
  {
   "cell_type": "code",
   "execution_count": 28,
   "metadata": {},
   "outputs": [
    {
     "data": {
      "text/plain": [
       "(92181, 2)"
      ]
     },
     "execution_count": 28,
     "metadata": {},
     "output_type": "execute_result"
    }
   ],
   "source": [
    "# Combine just impc_1 and impc_2\n",
    "# Dont include mgi_5 here, put it in the master_mgi list with mgi table 9 and 10.\n",
    "master_impc_list = pd.concat([impc_1,impc_2])#,mgi_5])\n",
    "master_impc_list.shape"
   ]
  },
  {
   "cell_type": "code",
   "execution_count": 29,
   "metadata": {},
   "outputs": [
    {
     "data": {
      "text/plain": [
       "(30757, 2)"
      ]
     },
     "execution_count": 29,
     "metadata": {},
     "output_type": "execute_result"
    }
   ],
   "source": [
    "# Only drop if the row is a duplicate of both MP term and gene \n",
    "master_impc_filt = master_impc_list.drop_duplicates() # .drop_duplicates(['MP_term','Gene'])  \n",
    "master_impc_filt.shape"
   ]
  },
  {
   "cell_type": "code",
   "execution_count": 30,
   "metadata": {},
   "outputs": [
    {
     "data": {
      "text/plain": [
       "MP_term     740\n",
       "Gene       5966\n",
       "dtype: int64"
      ]
     },
     "execution_count": 30,
     "metadata": {},
     "output_type": "execute_result"
    }
   ],
   "source": [
    "# How many unique mp terms and genes?\n",
    "master_impc_filt.nunique()"
   ]
  },
  {
   "cell_type": "markdown",
   "metadata": {},
   "source": [
    "## Combine IMPC master list with MGI master list"
   ]
  },
  {
   "cell_type": "code",
   "execution_count": 31,
   "metadata": {},
   "outputs": [
    {
     "name": "stdout",
     "output_type": "stream",
     "text": [
      "(232890, 2)\n"
     ]
    },
    {
     "data": {
      "text/html": [
       "<div>\n",
       "<style scoped>\n",
       "    .dataframe tbody tr th:only-of-type {\n",
       "        vertical-align: middle;\n",
       "    }\n",
       "\n",
       "    .dataframe tbody tr th {\n",
       "        vertical-align: top;\n",
       "    }\n",
       "\n",
       "    .dataframe thead th {\n",
       "        text-align: right;\n",
       "    }\n",
       "</style>\n",
       "<table border=\"1\" class=\"dataframe\">\n",
       "  <thead>\n",
       "    <tr style=\"text-align: right;\">\n",
       "      <th></th>\n",
       "      <th>MP_term</th>\n",
       "      <th>Gene</th>\n",
       "    </tr>\n",
       "  </thead>\n",
       "  <tbody>\n",
       "    <tr>\n",
       "      <th>0</th>\n",
       "      <td>MP:0000600</td>\n",
       "      <td>Rb1</td>\n",
       "    </tr>\n",
       "    <tr>\n",
       "      <th>1</th>\n",
       "      <td>MP:0001716</td>\n",
       "      <td>Rb1</td>\n",
       "    </tr>\n",
       "    <tr>\n",
       "      <th>2</th>\n",
       "      <td>MP:0001698</td>\n",
       "      <td>Rb1</td>\n",
       "    </tr>\n",
       "  </tbody>\n",
       "</table>\n",
       "</div>"
      ],
      "text/plain": [
       "      MP_term Gene\n",
       "0  MP:0000600  Rb1\n",
       "1  MP:0001716  Rb1\n",
       "2  MP:0001698  Rb1"
      ]
     },
     "execution_count": 31,
     "metadata": {},
     "output_type": "execute_result"
    }
   ],
   "source": [
    "mgi_master_list = pd.read_csv('mgi_master_geno2pheno.csv') # this file is from the MGI.ipynb\n",
    "print(mgi_master_list.shape)\n",
    "mgi_master_list.columns = ['MP_term','Gene']\n",
    "mgi_master_list.head(3)"
   ]
  },
  {
   "cell_type": "code",
   "execution_count": 32,
   "metadata": {},
   "outputs": [
    {
     "name": "stdout",
     "output_type": "stream",
     "text": [
      "(263647, 2)\n"
     ]
    },
    {
     "data": {
      "text/html": [
       "<div>\n",
       "<style scoped>\n",
       "    .dataframe tbody tr th:only-of-type {\n",
       "        vertical-align: middle;\n",
       "    }\n",
       "\n",
       "    .dataframe tbody tr th {\n",
       "        vertical-align: top;\n",
       "    }\n",
       "\n",
       "    .dataframe thead th {\n",
       "        text-align: right;\n",
       "    }\n",
       "</style>\n",
       "<table border=\"1\" class=\"dataframe\">\n",
       "  <thead>\n",
       "    <tr style=\"text-align: right;\">\n",
       "      <th></th>\n",
       "      <th>MP_term</th>\n",
       "      <th>Gene</th>\n",
       "    </tr>\n",
       "  </thead>\n",
       "  <tbody>\n",
       "    <tr>\n",
       "      <th>0</th>\n",
       "      <td>MP:0001312</td>\n",
       "      <td>Gimap3</td>\n",
       "    </tr>\n",
       "    <tr>\n",
       "      <th>1</th>\n",
       "      <td>MP:0001697</td>\n",
       "      <td>Prss8</td>\n",
       "    </tr>\n",
       "    <tr>\n",
       "      <th>2</th>\n",
       "      <td>MP:0002059</td>\n",
       "      <td>Pstpip2</td>\n",
       "    </tr>\n",
       "  </tbody>\n",
       "</table>\n",
       "</div>"
      ],
      "text/plain": [
       "      MP_term     Gene\n",
       "0  MP:0001312   Gimap3\n",
       "1  MP:0001697    Prss8\n",
       "2  MP:0002059  Pstpip2"
      ]
     },
     "execution_count": 32,
     "metadata": {},
     "output_type": "execute_result"
    }
   ],
   "source": [
    "# Create the master genotype-phenotype (gene - phenotype term)\n",
    "MASTER_G2P = pd.concat([master_impc_filt,mgi_master_list])\n",
    "print(MASTER_G2P.shape)\n",
    "MASTER_G2P.head(3)"
   ]
  },
  {
   "cell_type": "code",
   "execution_count": 33,
   "metadata": {},
   "outputs": [],
   "source": [
    "MASTER_G2P.dropna(inplace=True)"
   ]
  },
  {
   "cell_type": "code",
   "execution_count": 34,
   "metadata": {},
   "outputs": [
    {
     "name": "stdout",
     "output_type": "stream",
     "text": [
      "(234054, 2)\n"
     ]
    },
    {
     "data": {
      "text/plain": [
       "(234042, 2)"
      ]
     },
     "execution_count": 34,
     "metadata": {},
     "output_type": "execute_result"
    }
   ],
   "source": [
    "MASTER_G2P.drop_duplicates(inplace=True)\n",
    "print(MASTER_G2P.shape)\n",
    "\n",
    "# Before saving, check for the weird gene entries again (we already did for the MGI master list in MGI.ipynb)\n",
    "# ie. Tg(Thy1-MAPT*)1Avil, bc we are not including them right now\n",
    "MASTER_G2P_fixed = MASTER_G2P[~MASTER_G2P[\"Gene\"].str.contains(pat='\\/|\\)|\\(|\\*',regex=True)]\n",
    "MASTER_G2P_fixed.shape"
   ]
  },
  {
   "cell_type": "markdown",
   "metadata": {},
   "source": [
    "## Need to add CUIs, CODEs and  CodeIDs\n",
    "Just recreating the HCOP and MP CUIs and  CodeIDs here?"
   ]
  },
  {
   "cell_type": "markdown",
   "metadata": {},
   "source": [
    "Add CUIs, CODEs and CodeIDs for mouse genes"
   ]
  },
  {
   "cell_type": "code",
   "execution_count": 35,
   "metadata": {},
   "outputs": [],
   "source": [
    "def CUIbase64(series):\n",
    "    '''Pass in a Pandas Series to have each element base-64 encoded using list comprehension.'''\n",
    "    #check dtype is all str\n",
    "    assert (series.apply(type) == str).all()\n",
    "    encoded_series = pd.Series([base64.urlsafe_b64encode(i.encode('UTF-8')).decode('ascii') for  i in series])\n",
    "    assert len(encoded_series) == len(series), 'Different number of elements between series and encoded_series.'\n",
    "    #assert len(encoded_series) == encoded_series.nunique(), 'Collision occured!' # sometimes we'll pass a series with duplicates (dbSNP)\n",
    "    return encoded_series"
   ]
  },
  {
   "cell_type": "code",
   "execution_count": 36,
   "metadata": {},
   "outputs": [],
   "source": [
    "MASTER_G2P_fixed['CODE_mouse_gene'] = ['HCOP:'+i for i in MASTER_G2P_fixed['Gene']]\n",
    "MASTER_G2P_fixed['CodeID_mouse_gene'] = ['HCOP '+i for i in MASTER_G2P_fixed['CODE_mouse_gene']]\n",
    "\n",
    "#CUI_LEN = 14\n",
    "#MASTER_G2P_fixed['CUI_mouse_gene']  = ['KC' + str(int(hashlib.sha256(uid.encode('utf8')).hexdigest(),\n",
    "#                                                      base=16))[:CUI_LEN] for uid in MASTER_G2P_fixed['Gene']]\n",
    "\n",
    "\n",
    "# THIS  SHOULD ACTUALLY BE CREATED FROM THE CODE ID not the 'Gene', like below\n",
    "# CUI_mouse_genes = CUIbase64(MASTER_G2P_fixed['Gene'])    \n",
    "\n",
    "CUI_mouse_genes = CUIbase64(MASTER_G2P_fixed['CodeID_mouse_gene'])\n",
    "MASTER_G2P_fixed['CUI_mouse_gene'] = [i for i in CUI_mouse_genes]\n",
    "\n",
    "assert MASTER_G2P_fixed['CodeID_mouse_gene'].nunique()  ==  MASTER_G2P_fixed['CUI_mouse_gene'].nunique() \n",
    "assert MASTER_G2P_fixed['Gene'].nunique()  ==  MASTER_G2P_fixed['CODE_mouse_gene'].nunique()\n",
    "assert MASTER_G2P_fixed.isna().sum().sum() == 0"
   ]
  },
  {
   "cell_type": "markdown",
   "metadata": {},
   "source": [
    "Add CUIs, CODEs and CodeIDs for MP terms"
   ]
  },
  {
   "cell_type": "code",
   "execution_count": 37,
   "metadata": {},
   "outputs": [],
   "source": [
    "MASTER_G2P_fixed.rename(columns={'MP_term':'CODE_mp_term'},inplace=True)\n",
    "\n",
    "MASTER_G2P_fixed['CodeID_mp_term'] = ['MP '+i for i in MASTER_G2P_fixed['CODE_mp_term']]\n",
    "\n",
    "#MASTER_G2P_fixed['CUI_mp_term']  = ['KC' + str(int(hashlib.sha256(uid.encode('utf8')).hexdigest(),\n",
    "#                                                      base=16))[:CUI_LEN] for uid in MASTER_G2P_fixed['CODE_mp_term']]\n",
    "\n",
    "#MASTER_G2P_fixed['CUI_mp_term'] = [i for i in CUIbase64(MASTER_G2P_fixed['CodeID_mp_term'])]\n",
    "\n",
    "\n",
    "#assert MASTER_G2P_fixed['CodeID_mp_term'].nunique()  ==  MASTER_G2P_fixed['CUI_mp_term'].nunique()\n",
    "assert MASTER_G2P_fixed['CODE_mp_term'].nunique()  ==  MASTER_G2P_fixed['CodeID_mp_term'].nunique()"
   ]
  },
  {
   "cell_type": "code",
   "execution_count": null,
   "metadata": {},
   "outputs": [],
   "source": []
  },
  {
   "cell_type": "markdown",
   "metadata": {},
   "source": [
    "# Create  edges file "
   ]
  },
  {
   "cell_type": "code",
   "execution_count": 38,
   "metadata": {},
   "outputs": [],
   "source": [
    "MASTER_G2P_fixed['predicate'] = 'RO:0002331' # 'involved in'      old rel =  'phenotype_has_associated_gene'\n",
    "edges = MASTER_G2P_fixed[['CodeID_mouse_gene','predicate','CodeID_mp_term']]"
   ]
  },
  {
   "cell_type": "code",
   "execution_count": 39,
   "metadata": {
    "collapsed": true
   },
   "outputs": [
    {
     "data": {
      "text/html": [
       "<div>\n",
       "<style scoped>\n",
       "    .dataframe tbody tr th:only-of-type {\n",
       "        vertical-align: middle;\n",
       "    }\n",
       "\n",
       "    .dataframe tbody tr th {\n",
       "        vertical-align: top;\n",
       "    }\n",
       "\n",
       "    .dataframe thead th {\n",
       "        text-align: right;\n",
       "    }\n",
       "</style>\n",
       "<table border=\"1\" class=\"dataframe\">\n",
       "  <thead>\n",
       "    <tr style=\"text-align: right;\">\n",
       "      <th></th>\n",
       "      <th>CodeID_mouse_gene</th>\n",
       "      <th>predicate</th>\n",
       "      <th>CodeID_mp_term</th>\n",
       "    </tr>\n",
       "  </thead>\n",
       "  <tbody>\n",
       "    <tr>\n",
       "      <th>0</th>\n",
       "      <td>HCOP HCOP:Gimap3</td>\n",
       "      <td>RO:0002331</td>\n",
       "      <td>MP MP:0001312</td>\n",
       "    </tr>\n",
       "    <tr>\n",
       "      <th>1</th>\n",
       "      <td>HCOP HCOP:Prss8</td>\n",
       "      <td>RO:0002331</td>\n",
       "      <td>MP MP:0001697</td>\n",
       "    </tr>\n",
       "    <tr>\n",
       "      <th>2</th>\n",
       "      <td>HCOP HCOP:Pstpip2</td>\n",
       "      <td>RO:0002331</td>\n",
       "      <td>MP MP:0002059</td>\n",
       "    </tr>\n",
       "    <tr>\n",
       "      <th>3</th>\n",
       "      <td>HCOP HCOP:Ap4e1</td>\n",
       "      <td>RO:0002331</td>\n",
       "      <td>MP MP:0001486</td>\n",
       "    </tr>\n",
       "    <tr>\n",
       "      <th>4</th>\n",
       "      <td>HCOP HCOP:S100a14</td>\n",
       "      <td>RO:0002331</td>\n",
       "      <td>MP MP:0012441</td>\n",
       "    </tr>\n",
       "    <tr>\n",
       "      <th>...</th>\n",
       "      <td>...</td>\n",
       "      <td>...</td>\n",
       "      <td>...</td>\n",
       "    </tr>\n",
       "    <tr>\n",
       "      <th>231765</th>\n",
       "      <td>HCOP HCOP:Hvf</td>\n",
       "      <td>RO:0002331</td>\n",
       "      <td>MP MP:0004600</td>\n",
       "    </tr>\n",
       "    <tr>\n",
       "      <th>231766</th>\n",
       "      <td>HCOP HCOP:Hvf</td>\n",
       "      <td>RO:0002331</td>\n",
       "      <td>MP MP:0004601</td>\n",
       "    </tr>\n",
       "    <tr>\n",
       "      <th>231767</th>\n",
       "      <td>HCOP HCOP:Hvf</td>\n",
       "      <td>RO:0002331</td>\n",
       "      <td>MP MP:0004621</td>\n",
       "    </tr>\n",
       "    <tr>\n",
       "      <th>231768</th>\n",
       "      <td>HCOP HCOP:Hvf</td>\n",
       "      <td>RO:0002331</td>\n",
       "      <td>MP MP:0004682</td>\n",
       "    </tr>\n",
       "    <tr>\n",
       "      <th>231769</th>\n",
       "      <td>HCOP HCOP:Hvf</td>\n",
       "      <td>RO:0002331</td>\n",
       "      <td>MP MP:0014143</td>\n",
       "    </tr>\n",
       "  </tbody>\n",
       "</table>\n",
       "<p>234042 rows × 3 columns</p>\n",
       "</div>"
      ],
      "text/plain": [
       "        CodeID_mouse_gene   predicate CodeID_mp_term\n",
       "0        HCOP HCOP:Gimap3  RO:0002331  MP MP:0001312\n",
       "1         HCOP HCOP:Prss8  RO:0002331  MP MP:0001697\n",
       "2       HCOP HCOP:Pstpip2  RO:0002331  MP MP:0002059\n",
       "3         HCOP HCOP:Ap4e1  RO:0002331  MP MP:0001486\n",
       "4       HCOP HCOP:S100a14  RO:0002331  MP MP:0012441\n",
       "...                   ...         ...            ...\n",
       "231765      HCOP HCOP:Hvf  RO:0002331  MP MP:0004600\n",
       "231766      HCOP HCOP:Hvf  RO:0002331  MP MP:0004601\n",
       "231767      HCOP HCOP:Hvf  RO:0002331  MP MP:0004621\n",
       "231768      HCOP HCOP:Hvf  RO:0002331  MP MP:0004682\n",
       "231769      HCOP HCOP:Hvf  RO:0002331  MP MP:0014143\n",
       "\n",
       "[234042 rows x 3 columns]"
      ]
     },
     "execution_count": 39,
     "metadata": {},
     "output_type": "execute_result"
    }
   ],
   "source": [
    "edges"
   ]
  },
  {
   "cell_type": "code",
   "execution_count": 40,
   "metadata": {},
   "outputs": [],
   "source": [
    "edges.columns = ['subject','predicate','object']\n",
    "edges['object'] = edges['object'].str.replace(' MP:',' ')"
   ]
  },
  {
   "cell_type": "code",
   "execution_count": 43,
   "metadata": {},
   "outputs": [],
   "source": [
    "edges = edges.drop_duplicates().reset_index(drop=True)"
   ]
  },
  {
   "cell_type": "code",
   "execution_count": 60,
   "metadata": {
    "collapsed": true
   },
   "outputs": [
    {
     "data": {
      "text/html": [
       "<div>\n",
       "<style scoped>\n",
       "    .dataframe tbody tr th:only-of-type {\n",
       "        vertical-align: middle;\n",
       "    }\n",
       "\n",
       "    .dataframe tbody tr th {\n",
       "        vertical-align: top;\n",
       "    }\n",
       "\n",
       "    .dataframe thead th {\n",
       "        text-align: right;\n",
       "    }\n",
       "</style>\n",
       "<table border=\"1\" class=\"dataframe\">\n",
       "  <thead>\n",
       "    <tr style=\"text-align: right;\">\n",
       "      <th></th>\n",
       "      <th>subject</th>\n",
       "      <th>predicate</th>\n",
       "      <th>object</th>\n",
       "    </tr>\n",
       "  </thead>\n",
       "  <tbody>\n",
       "    <tr>\n",
       "      <th>0</th>\n",
       "      <td>HCOP HCOP:Gimap3</td>\n",
       "      <td>RO:0002331</td>\n",
       "      <td>MP 0001312</td>\n",
       "    </tr>\n",
       "    <tr>\n",
       "      <th>1</th>\n",
       "      <td>HCOP HCOP:Prss8</td>\n",
       "      <td>RO:0002331</td>\n",
       "      <td>MP 0001697</td>\n",
       "    </tr>\n",
       "    <tr>\n",
       "      <th>2</th>\n",
       "      <td>HCOP HCOP:Pstpip2</td>\n",
       "      <td>RO:0002331</td>\n",
       "      <td>MP 0002059</td>\n",
       "    </tr>\n",
       "    <tr>\n",
       "      <th>3</th>\n",
       "      <td>HCOP HCOP:Ap4e1</td>\n",
       "      <td>RO:0002331</td>\n",
       "      <td>MP 0001486</td>\n",
       "    </tr>\n",
       "    <tr>\n",
       "      <th>4</th>\n",
       "      <td>HCOP HCOP:S100a14</td>\n",
       "      <td>RO:0002331</td>\n",
       "      <td>MP 0012441</td>\n",
       "    </tr>\n",
       "    <tr>\n",
       "      <th>...</th>\n",
       "      <td>...</td>\n",
       "      <td>...</td>\n",
       "      <td>...</td>\n",
       "    </tr>\n",
       "    <tr>\n",
       "      <th>233084</th>\n",
       "      <td>HCOP HCOP:Tsix</td>\n",
       "      <td>RO:0002331</td>\n",
       "      <td>MP 0001672</td>\n",
       "    </tr>\n",
       "    <tr>\n",
       "      <th>233085</th>\n",
       "      <td>HCOP HCOP:Tsix</td>\n",
       "      <td>RO:0002331</td>\n",
       "      <td>MP 0008877</td>\n",
       "    </tr>\n",
       "    <tr>\n",
       "      <th>233086</th>\n",
       "      <td>HCOP HCOP:Tsix</td>\n",
       "      <td>RO:0002331</td>\n",
       "      <td>MP 0011110</td>\n",
       "    </tr>\n",
       "    <tr>\n",
       "      <th>233087</th>\n",
       "      <td>HCOP HCOP:Mbd4</td>\n",
       "      <td>RO:0002331</td>\n",
       "      <td>MP 0011998</td>\n",
       "    </tr>\n",
       "    <tr>\n",
       "      <th>233738</th>\n",
       "      <td>HCOP HCOP:a</td>\n",
       "      <td>RO:0002331</td>\n",
       "      <td>MP 0003718</td>\n",
       "    </tr>\n",
       "  </tbody>\n",
       "</table>\n",
       "<p>219148 rows × 3 columns</p>\n",
       "</div>"
      ],
      "text/plain": [
       "                  subject   predicate      object\n",
       "0        HCOP HCOP:Gimap3  RO:0002331  MP 0001312\n",
       "1         HCOP HCOP:Prss8  RO:0002331  MP 0001697\n",
       "2       HCOP HCOP:Pstpip2  RO:0002331  MP 0002059\n",
       "3         HCOP HCOP:Ap4e1  RO:0002331  MP 0001486\n",
       "4       HCOP HCOP:S100a14  RO:0002331  MP 0012441\n",
       "...                   ...         ...         ...\n",
       "233084     HCOP HCOP:Tsix  RO:0002331  MP 0001672\n",
       "233085     HCOP HCOP:Tsix  RO:0002331  MP 0008877\n",
       "233086     HCOP HCOP:Tsix  RO:0002331  MP 0011110\n",
       "233087     HCOP HCOP:Mbd4  RO:0002331  MP 0011998\n",
       "233738        HCOP HCOP:a  RO:0002331  MP 0003718\n",
       "\n",
       "[219148 rows x 3 columns]"
      ]
     },
     "execution_count": 60,
     "metadata": {},
     "output_type": "execute_result"
    }
   ],
   "source": []
  },
  {
   "cell_type": "code",
   "execution_count": 44,
   "metadata": {},
   "outputs": [
    {
     "data": {
      "text/html": [
       "<div>\n",
       "<style scoped>\n",
       "    .dataframe tbody tr th:only-of-type {\n",
       "        vertical-align: middle;\n",
       "    }\n",
       "\n",
       "    .dataframe tbody tr th {\n",
       "        vertical-align: top;\n",
       "    }\n",
       "\n",
       "    .dataframe thead th {\n",
       "        text-align: right;\n",
       "    }\n",
       "</style>\n",
       "<table border=\"1\" class=\"dataframe\">\n",
       "  <thead>\n",
       "    <tr style=\"text-align: right;\">\n",
       "      <th></th>\n",
       "      <th>subject</th>\n",
       "      <th>predicate</th>\n",
       "      <th>object</th>\n",
       "    </tr>\n",
       "  </thead>\n",
       "  <tbody>\n",
       "    <tr>\n",
       "      <th>0</th>\n",
       "      <td>HCOP HCOP:Gimap3</td>\n",
       "      <td>RO:0002331</td>\n",
       "      <td>MP 0001312</td>\n",
       "    </tr>\n",
       "    <tr>\n",
       "      <th>1</th>\n",
       "      <td>HCOP HCOP:Prss8</td>\n",
       "      <td>RO:0002331</td>\n",
       "      <td>MP 0001697</td>\n",
       "    </tr>\n",
       "    <tr>\n",
       "      <th>2</th>\n",
       "      <td>HCOP HCOP:Pstpip2</td>\n",
       "      <td>RO:0002331</td>\n",
       "      <td>MP 0002059</td>\n",
       "    </tr>\n",
       "    <tr>\n",
       "      <th>3</th>\n",
       "      <td>HCOP HCOP:Ap4e1</td>\n",
       "      <td>RO:0002331</td>\n",
       "      <td>MP 0001486</td>\n",
       "    </tr>\n",
       "    <tr>\n",
       "      <th>4</th>\n",
       "      <td>HCOP HCOP:S100a14</td>\n",
       "      <td>RO:0002331</td>\n",
       "      <td>MP 0012441</td>\n",
       "    </tr>\n",
       "    <tr>\n",
       "      <th>...</th>\n",
       "      <td>...</td>\n",
       "      <td>...</td>\n",
       "      <td>...</td>\n",
       "    </tr>\n",
       "    <tr>\n",
       "      <th>233084</th>\n",
       "      <td>HCOP HCOP:Tsix</td>\n",
       "      <td>RO:0002331</td>\n",
       "      <td>MP 0001672</td>\n",
       "    </tr>\n",
       "    <tr>\n",
       "      <th>233085</th>\n",
       "      <td>HCOP HCOP:Tsix</td>\n",
       "      <td>RO:0002331</td>\n",
       "      <td>MP 0008877</td>\n",
       "    </tr>\n",
       "    <tr>\n",
       "      <th>233086</th>\n",
       "      <td>HCOP HCOP:Tsix</td>\n",
       "      <td>RO:0002331</td>\n",
       "      <td>MP 0011110</td>\n",
       "    </tr>\n",
       "    <tr>\n",
       "      <th>233087</th>\n",
       "      <td>HCOP HCOP:Mbd4</td>\n",
       "      <td>RO:0002331</td>\n",
       "      <td>MP 0011998</td>\n",
       "    </tr>\n",
       "    <tr>\n",
       "      <th>233738</th>\n",
       "      <td>HCOP HCOP:a</td>\n",
       "      <td>RO:0002331</td>\n",
       "      <td>MP 0003718</td>\n",
       "    </tr>\n",
       "  </tbody>\n",
       "</table>\n",
       "<p>219148 rows × 3 columns</p>\n",
       "</div>"
      ],
      "text/plain": [
       "                  subject   predicate      object\n",
       "0        HCOP HCOP:Gimap3  RO:0002331  MP 0001312\n",
       "1         HCOP HCOP:Prss8  RO:0002331  MP 0001697\n",
       "2       HCOP HCOP:Pstpip2  RO:0002331  MP 0002059\n",
       "3         HCOP HCOP:Ap4e1  RO:0002331  MP 0001486\n",
       "4       HCOP HCOP:S100a14  RO:0002331  MP 0012441\n",
       "...                   ...         ...         ...\n",
       "233084     HCOP HCOP:Tsix  RO:0002331  MP 0001672\n",
       "233085     HCOP HCOP:Tsix  RO:0002331  MP 0008877\n",
       "233086     HCOP HCOP:Tsix  RO:0002331  MP 0011110\n",
       "233087     HCOP HCOP:Mbd4  RO:0002331  MP 0011998\n",
       "233738        HCOP HCOP:a  RO:0002331  MP 0003718\n",
       "\n",
       "[219148 rows x 3 columns]"
      ]
     },
     "execution_count": 44,
     "metadata": {},
     "output_type": "execute_result"
    }
   ],
   "source": [
    "# Merge in MGI codes to use instead of HCOP\n",
    "mgi_map = pd.read_csv('/Users/stearb/Dropbox/CHOP/DataDistillery/code/ingestion_notebooks/orthologs/mgi_name_map.csv')\n",
    "\n",
    "mgi_map = mgi_map.rename(columns={'CodeID_mouse':'subject'})\n",
    "\n",
    "assert np.all([i.startswith('HCOP') for i in edges['subject']])\n",
    "\n",
    "edges[edges['subject'].isin(mgi_map['subject'])]"
   ]
  },
  {
   "cell_type": "code",
   "execution_count": 45,
   "metadata": {
    "collapsed": true
   },
   "outputs": [
    {
     "data": {
      "text/html": [
       "<div>\n",
       "<style scoped>\n",
       "    .dataframe tbody tr th:only-of-type {\n",
       "        vertical-align: middle;\n",
       "    }\n",
       "\n",
       "    .dataframe tbody tr th {\n",
       "        vertical-align: top;\n",
       "    }\n",
       "\n",
       "    .dataframe thead th {\n",
       "        text-align: right;\n",
       "    }\n",
       "</style>\n",
       "<table border=\"1\" class=\"dataframe\">\n",
       "  <thead>\n",
       "    <tr style=\"text-align: right;\">\n",
       "      <th></th>\n",
       "      <th>subject</th>\n",
       "      <th>predicate</th>\n",
       "      <th>object</th>\n",
       "    </tr>\n",
       "  </thead>\n",
       "  <tbody>\n",
       "    <tr>\n",
       "      <th>0</th>\n",
       "      <td>MGI:1917115</td>\n",
       "      <td>RO:0002331</td>\n",
       "      <td>MP 0005292</td>\n",
       "    </tr>\n",
       "    <tr>\n",
       "      <th>1</th>\n",
       "      <td>MGI:1917115</td>\n",
       "      <td>RO:0002331</td>\n",
       "      <td>MP 0001544</td>\n",
       "    </tr>\n",
       "    <tr>\n",
       "      <th>2</th>\n",
       "      <td>MGI:1917115</td>\n",
       "      <td>RO:0002331</td>\n",
       "      <td>MP 0002127</td>\n",
       "    </tr>\n",
       "    <tr>\n",
       "      <th>3</th>\n",
       "      <td>MGI:1917115</td>\n",
       "      <td>RO:0002331</td>\n",
       "      <td>MP 0002083</td>\n",
       "    </tr>\n",
       "    <tr>\n",
       "      <th>4</th>\n",
       "      <td>MGI:1917115</td>\n",
       "      <td>RO:0002331</td>\n",
       "      <td>MP 0001636</td>\n",
       "    </tr>\n",
       "    <tr>\n",
       "      <th>...</th>\n",
       "      <td>...</td>\n",
       "      <td>...</td>\n",
       "      <td>...</td>\n",
       "    </tr>\n",
       "    <tr>\n",
       "      <th>219513</th>\n",
       "      <td>MGI:2444286</td>\n",
       "      <td>RO:0002331</td>\n",
       "      <td>MP 0003062</td>\n",
       "    </tr>\n",
       "    <tr>\n",
       "      <th>219514</th>\n",
       "      <td>MGI:2444286</td>\n",
       "      <td>RO:0002331</td>\n",
       "      <td>MP 0003960</td>\n",
       "    </tr>\n",
       "    <tr>\n",
       "      <th>219515</th>\n",
       "      <td>MGI:2444286</td>\n",
       "      <td>RO:0002331</td>\n",
       "      <td>MP 0001589</td>\n",
       "    </tr>\n",
       "    <tr>\n",
       "      <th>219516</th>\n",
       "      <td>MGI:2444286</td>\n",
       "      <td>RO:0002331</td>\n",
       "      <td>MP 0005640</td>\n",
       "    </tr>\n",
       "    <tr>\n",
       "      <th>219517</th>\n",
       "      <td>MGI:2444286</td>\n",
       "      <td>RO:0002331</td>\n",
       "      <td>MP 0005563</td>\n",
       "    </tr>\n",
       "  </tbody>\n",
       "</table>\n",
       "<p>219518 rows × 3 columns</p>\n",
       "</div>"
      ],
      "text/plain": [
       "            subject   predicate      object\n",
       "0       MGI:1917115  RO:0002331  MP 0005292\n",
       "1       MGI:1917115  RO:0002331  MP 0001544\n",
       "2       MGI:1917115  RO:0002331  MP 0002127\n",
       "3       MGI:1917115  RO:0002331  MP 0002083\n",
       "4       MGI:1917115  RO:0002331  MP 0001636\n",
       "...             ...         ...         ...\n",
       "219513  MGI:2444286  RO:0002331  MP 0003062\n",
       "219514  MGI:2444286  RO:0002331  MP 0003960\n",
       "219515  MGI:2444286  RO:0002331  MP 0001589\n",
       "219516  MGI:2444286  RO:0002331  MP 0005640\n",
       "219517  MGI:2444286  RO:0002331  MP 0005563\n",
       "\n",
       "[219518 rows x 3 columns]"
      ]
     },
     "execution_count": 45,
     "metadata": {},
     "output_type": "execute_result"
    }
   ],
   "source": [
    "edges = pd.merge(mgi_map,edges,how='inner')\\\n",
    "                        .drop_duplicates().dropna().reset_index(drop=True)\\\n",
    "                .drop('subject',axis=1).rename(columns={'mgi_id':'subject'})\n",
    "edges"
   ]
  },
  {
   "cell_type": "code",
   "execution_count": 46,
   "metadata": {},
   "outputs": [
    {
     "data": {
      "text/html": [
       "<div>\n",
       "<style scoped>\n",
       "    .dataframe tbody tr th:only-of-type {\n",
       "        vertical-align: middle;\n",
       "    }\n",
       "\n",
       "    .dataframe tbody tr th {\n",
       "        vertical-align: top;\n",
       "    }\n",
       "\n",
       "    .dataframe thead th {\n",
       "        text-align: right;\n",
       "    }\n",
       "</style>\n",
       "<table border=\"1\" class=\"dataframe\">\n",
       "  <thead>\n",
       "    <tr style=\"text-align: right;\">\n",
       "      <th></th>\n",
       "      <th>subject</th>\n",
       "      <th>predicate</th>\n",
       "      <th>object</th>\n",
       "    </tr>\n",
       "  </thead>\n",
       "  <tbody>\n",
       "    <tr>\n",
       "      <th>0</th>\n",
       "      <td>MGI 1917115</td>\n",
       "      <td>RO:0002331</td>\n",
       "      <td>MP 0005292</td>\n",
       "    </tr>\n",
       "    <tr>\n",
       "      <th>1</th>\n",
       "      <td>MGI 1917115</td>\n",
       "      <td>RO:0002331</td>\n",
       "      <td>MP 0001544</td>\n",
       "    </tr>\n",
       "    <tr>\n",
       "      <th>2</th>\n",
       "      <td>MGI 1917115</td>\n",
       "      <td>RO:0002331</td>\n",
       "      <td>MP 0002127</td>\n",
       "    </tr>\n",
       "    <tr>\n",
       "      <th>3</th>\n",
       "      <td>MGI 1917115</td>\n",
       "      <td>RO:0002331</td>\n",
       "      <td>MP 0002083</td>\n",
       "    </tr>\n",
       "    <tr>\n",
       "      <th>4</th>\n",
       "      <td>MGI 1917115</td>\n",
       "      <td>RO:0002331</td>\n",
       "      <td>MP 0001636</td>\n",
       "    </tr>\n",
       "    <tr>\n",
       "      <th>...</th>\n",
       "      <td>...</td>\n",
       "      <td>...</td>\n",
       "      <td>...</td>\n",
       "    </tr>\n",
       "    <tr>\n",
       "      <th>219513</th>\n",
       "      <td>MGI 2444286</td>\n",
       "      <td>RO:0002331</td>\n",
       "      <td>MP 0003062</td>\n",
       "    </tr>\n",
       "    <tr>\n",
       "      <th>219514</th>\n",
       "      <td>MGI 2444286</td>\n",
       "      <td>RO:0002331</td>\n",
       "      <td>MP 0003960</td>\n",
       "    </tr>\n",
       "    <tr>\n",
       "      <th>219515</th>\n",
       "      <td>MGI 2444286</td>\n",
       "      <td>RO:0002331</td>\n",
       "      <td>MP 0001589</td>\n",
       "    </tr>\n",
       "    <tr>\n",
       "      <th>219516</th>\n",
       "      <td>MGI 2444286</td>\n",
       "      <td>RO:0002331</td>\n",
       "      <td>MP 0005640</td>\n",
       "    </tr>\n",
       "    <tr>\n",
       "      <th>219517</th>\n",
       "      <td>MGI 2444286</td>\n",
       "      <td>RO:0002331</td>\n",
       "      <td>MP 0005563</td>\n",
       "    </tr>\n",
       "  </tbody>\n",
       "</table>\n",
       "<p>219518 rows × 3 columns</p>\n",
       "</div>"
      ],
      "text/plain": [
       "            subject   predicate      object\n",
       "0       MGI 1917115  RO:0002331  MP 0005292\n",
       "1       MGI 1917115  RO:0002331  MP 0001544\n",
       "2       MGI 1917115  RO:0002331  MP 0002127\n",
       "3       MGI 1917115  RO:0002331  MP 0002083\n",
       "4       MGI 1917115  RO:0002331  MP 0001636\n",
       "...             ...         ...         ...\n",
       "219513  MGI 2444286  RO:0002331  MP 0003062\n",
       "219514  MGI 2444286  RO:0002331  MP 0003960\n",
       "219515  MGI 2444286  RO:0002331  MP 0001589\n",
       "219516  MGI 2444286  RO:0002331  MP 0005640\n",
       "219517  MGI 2444286  RO:0002331  MP 0005563\n",
       "\n",
       "[219518 rows x 3 columns]"
      ]
     },
     "execution_count": 46,
     "metadata": {},
     "output_type": "execute_result"
    }
   ],
   "source": [
    "edges['subject'] = [i.replace(':',' ') for i in edges['subject']]\n",
    "edges"
   ]
  },
  {
   "cell_type": "markdown",
   "metadata": {},
   "source": [
    "# Create nodes file"
   ]
  },
  {
   "cell_type": "code",
   "execution_count": 47,
   "metadata": {},
   "outputs": [],
   "source": [
    "# No need to create a nodes file, MP is already in UMLS and HCOP should be in as well, \n",
    "# just need to make sure its ingested first\n",
    "\n",
    "nodes_mp = pd.DataFrame(MASTER_G2P_fixed['CodeID_mp_term'])\n",
    "nodes_mp.columns = ['node_id']\n",
    "nodes_hcop = MASTER_G2P_fixed[['CodeID_mouse_gene','Gene']]\n",
    "nodes_hcop.columns = ['node_id','node_label']\n",
    "\n",
    "nodes_mp['node_label'] = np.nan\n"
   ]
  },
  {
   "cell_type": "code",
   "execution_count": null,
   "metadata": {},
   "outputs": [],
   "source": []
  },
  {
   "cell_type": "code",
   "execution_count": 49,
   "metadata": {},
   "outputs": [],
   "source": []
  },
  {
   "cell_type": "code",
   "execution_count": 51,
   "metadata": {},
   "outputs": [],
   "source": [
    "nodes_hcop = nodes_hcop.drop_duplicates()"
   ]
  },
  {
   "cell_type": "code",
   "execution_count": 83,
   "metadata": {
    "collapsed": true
   },
   "outputs": [
    {
     "data": {
      "text/html": [
       "<div>\n",
       "<style scoped>\n",
       "    .dataframe tbody tr th:only-of-type {\n",
       "        vertical-align: middle;\n",
       "    }\n",
       "\n",
       "    .dataframe tbody tr th {\n",
       "        vertical-align: top;\n",
       "    }\n",
       "\n",
       "    .dataframe thead th {\n",
       "        text-align: right;\n",
       "    }\n",
       "</style>\n",
       "<table border=\"1\" class=\"dataframe\">\n",
       "  <thead>\n",
       "    <tr style=\"text-align: right;\">\n",
       "      <th></th>\n",
       "      <th>subject</th>\n",
       "      <th>mgi_id</th>\n",
       "    </tr>\n",
       "  </thead>\n",
       "  <tbody>\n",
       "    <tr>\n",
       "      <th>0</th>\n",
       "      <td>HCOP HCOP:A1bg</td>\n",
       "      <td>MGI:2152878</td>\n",
       "    </tr>\n",
       "    <tr>\n",
       "      <th>1</th>\n",
       "      <td>HCOP HCOP:A1cf</td>\n",
       "      <td>MGI:1917115</td>\n",
       "    </tr>\n",
       "    <tr>\n",
       "      <th>2</th>\n",
       "      <td>HCOP HCOP:A2m</td>\n",
       "      <td>MGI:2449119</td>\n",
       "    </tr>\n",
       "    <tr>\n",
       "      <th>3</th>\n",
       "      <td>HCOP HCOP:Mug2</td>\n",
       "      <td>MGI:99836</td>\n",
       "    </tr>\n",
       "    <tr>\n",
       "      <th>4</th>\n",
       "      <td>HCOP HCOP:Mug1</td>\n",
       "      <td>MGI:99837</td>\n",
       "    </tr>\n",
       "    <tr>\n",
       "      <th>...</th>\n",
       "      <td>...</td>\n",
       "      <td>...</td>\n",
       "    </tr>\n",
       "    <tr>\n",
       "      <th>69932</th>\n",
       "      <td>HCOP HCOP:Zyg11b</td>\n",
       "      <td>MGI:2685277</td>\n",
       "    </tr>\n",
       "    <tr>\n",
       "      <th>69933</th>\n",
       "      <td>HCOP HCOP:Zyg11a</td>\n",
       "      <td>MGI:2446208</td>\n",
       "    </tr>\n",
       "    <tr>\n",
       "      <th>69934</th>\n",
       "      <td>HCOP HCOP:Zyx</td>\n",
       "      <td>MGI:103072</td>\n",
       "    </tr>\n",
       "    <tr>\n",
       "      <th>69935</th>\n",
       "      <td>HCOP HCOP:Zzef1</td>\n",
       "      <td>MGI:2444286</td>\n",
       "    </tr>\n",
       "    <tr>\n",
       "      <th>69936</th>\n",
       "      <td>HCOP HCOP:Zzz3</td>\n",
       "      <td>MGI:1920453</td>\n",
       "    </tr>\n",
       "  </tbody>\n",
       "</table>\n",
       "<p>69937 rows × 2 columns</p>\n",
       "</div>"
      ],
      "text/plain": [
       "                subject       mgi_id\n",
       "0        HCOP HCOP:A1bg  MGI:2152878\n",
       "1        HCOP HCOP:A1cf  MGI:1917115\n",
       "2         HCOP HCOP:A2m  MGI:2449119\n",
       "3        HCOP HCOP:Mug2    MGI:99836\n",
       "4        HCOP HCOP:Mug1    MGI:99837\n",
       "...                 ...          ...\n",
       "69932  HCOP HCOP:Zyg11b  MGI:2685277\n",
       "69933  HCOP HCOP:Zyg11a  MGI:2446208\n",
       "69934     HCOP HCOP:Zyx   MGI:103072\n",
       "69935   HCOP HCOP:Zzef1  MGI:2444286\n",
       "69936    HCOP HCOP:Zzz3  MGI:1920453\n",
       "\n",
       "[69937 rows x 2 columns]"
      ]
     },
     "execution_count": 83,
     "metadata": {},
     "output_type": "execute_result"
    }
   ],
   "source": [
    "mgi_map"
   ]
  },
  {
   "cell_type": "code",
   "execution_count": 52,
   "metadata": {},
   "outputs": [
    {
     "data": {
      "text/html": [
       "<div>\n",
       "<style scoped>\n",
       "    .dataframe tbody tr th:only-of-type {\n",
       "        vertical-align: middle;\n",
       "    }\n",
       "\n",
       "    .dataframe tbody tr th {\n",
       "        vertical-align: top;\n",
       "    }\n",
       "\n",
       "    .dataframe thead th {\n",
       "        text-align: right;\n",
       "    }\n",
       "</style>\n",
       "<table border=\"1\" class=\"dataframe\">\n",
       "  <thead>\n",
       "    <tr style=\"text-align: right;\">\n",
       "      <th></th>\n",
       "      <th>node_id</th>\n",
       "      <th>node_label</th>\n",
       "    </tr>\n",
       "  </thead>\n",
       "  <tbody>\n",
       "    <tr>\n",
       "      <th>0</th>\n",
       "      <td>HCOP HCOP:Gimap3</td>\n",
       "      <td>Gimap3</td>\n",
       "    </tr>\n",
       "    <tr>\n",
       "      <th>1</th>\n",
       "      <td>HCOP HCOP:Prss8</td>\n",
       "      <td>Prss8</td>\n",
       "    </tr>\n",
       "    <tr>\n",
       "      <th>2</th>\n",
       "      <td>HCOP HCOP:Pstpip2</td>\n",
       "      <td>Pstpip2</td>\n",
       "    </tr>\n",
       "    <tr>\n",
       "      <th>3</th>\n",
       "      <td>HCOP HCOP:Ap4e1</td>\n",
       "      <td>Ap4e1</td>\n",
       "    </tr>\n",
       "    <tr>\n",
       "      <th>4</th>\n",
       "      <td>HCOP HCOP:S100a14</td>\n",
       "      <td>S100a14</td>\n",
       "    </tr>\n",
       "    <tr>\n",
       "      <th>...</th>\n",
       "      <td>...</td>\n",
       "      <td>...</td>\n",
       "    </tr>\n",
       "    <tr>\n",
       "      <th>231738</th>\n",
       "      <td>HCOP HCOP:Anta</td>\n",
       "      <td>Anta</td>\n",
       "    </tr>\n",
       "    <tr>\n",
       "      <th>231740</th>\n",
       "      <td>HCOP HCOP:Cal8</td>\n",
       "      <td>Cal8</td>\n",
       "    </tr>\n",
       "    <tr>\n",
       "      <th>231742</th>\n",
       "      <td>HCOP HCOP:Stmb</td>\n",
       "      <td>Stmb</td>\n",
       "    </tr>\n",
       "    <tr>\n",
       "      <th>231749</th>\n",
       "      <td>HCOP HCOP:Lpy</td>\n",
       "      <td>Lpy</td>\n",
       "    </tr>\n",
       "    <tr>\n",
       "      <th>231756</th>\n",
       "      <td>HCOP HCOP:Hvf</td>\n",
       "      <td>Hvf</td>\n",
       "    </tr>\n",
       "  </tbody>\n",
       "</table>\n",
       "<p>17391 rows × 2 columns</p>\n",
       "</div>"
      ],
      "text/plain": [
       "                  node_id node_label\n",
       "0        HCOP HCOP:Gimap3     Gimap3\n",
       "1         HCOP HCOP:Prss8      Prss8\n",
       "2       HCOP HCOP:Pstpip2    Pstpip2\n",
       "3         HCOP HCOP:Ap4e1      Ap4e1\n",
       "4       HCOP HCOP:S100a14    S100a14\n",
       "...                   ...        ...\n",
       "231738     HCOP HCOP:Anta       Anta\n",
       "231740     HCOP HCOP:Cal8       Cal8\n",
       "231742     HCOP HCOP:Stmb       Stmb\n",
       "231749      HCOP HCOP:Lpy        Lpy\n",
       "231756      HCOP HCOP:Hvf        Hvf\n",
       "\n",
       "[17391 rows x 2 columns]"
      ]
     },
     "execution_count": 52,
     "metadata": {},
     "output_type": "execute_result"
    }
   ],
   "source": [
    "nodes_hcop"
   ]
  },
  {
   "cell_type": "code",
   "execution_count": 53,
   "metadata": {},
   "outputs": [
    {
     "data": {
      "text/plain": [
       "12321"
      ]
     },
     "execution_count": 53,
     "metadata": {},
     "output_type": "execute_result"
    }
   ],
   "source": [
    "nodes_hcop = pd.merge(nodes_hcop,mgi_map.rename(columns={'subject':'node_id'}))\\\n",
    "                .drop_duplicates().reset_index(drop=True).drop('node_id',axis=1)\\\n",
    "                .rename(columns={'mgi_id':'node_id'})\n",
    "len(nodes_hcop)"
   ]
  },
  {
   "cell_type": "code",
   "execution_count": 55,
   "metadata": {},
   "outputs": [],
   "source": [
    "nodes_hcop['node_id'] = [i.replace(':',' ') for i in nodes_hcop['node_id']]"
   ]
  },
  {
   "cell_type": "code",
   "execution_count": 56,
   "metadata": {},
   "outputs": [],
   "source": [
    "\n",
    "nodes = pd.concat([nodes_hcop,nodes_mp])\n",
    "\n",
    "nodes = fill_missing_cols(nodes)\n",
    "\n",
    "nodes = nodes.drop_duplicates(subset=['node_id'])"
   ]
  },
  {
   "cell_type": "code",
   "execution_count": 57,
   "metadata": {},
   "outputs": [
    {
     "data": {
      "text/html": [
       "<div>\n",
       "<style scoped>\n",
       "    .dataframe tbody tr th:only-of-type {\n",
       "        vertical-align: middle;\n",
       "    }\n",
       "\n",
       "    .dataframe tbody tr th {\n",
       "        vertical-align: top;\n",
       "    }\n",
       "\n",
       "    .dataframe thead th {\n",
       "        text-align: right;\n",
       "    }\n",
       "</style>\n",
       "<table border=\"1\" class=\"dataframe\">\n",
       "  <thead>\n",
       "    <tr style=\"text-align: right;\">\n",
       "      <th></th>\n",
       "      <th>node_label</th>\n",
       "      <th>node_id</th>\n",
       "      <th>node_namespace</th>\n",
       "      <th>lowerbound</th>\n",
       "      <th>value</th>\n",
       "      <th>node_definition</th>\n",
       "      <th>upperbound</th>\n",
       "      <th>node_dbxrefs</th>\n",
       "      <th>node_synonyms</th>\n",
       "      <th>unit</th>\n",
       "    </tr>\n",
       "  </thead>\n",
       "  <tbody>\n",
       "    <tr>\n",
       "      <th>0</th>\n",
       "      <td>Gimap3</td>\n",
       "      <td>MGI 1932723</td>\n",
       "      <td>NaN</td>\n",
       "      <td>NaN</td>\n",
       "      <td>NaN</td>\n",
       "      <td>NaN</td>\n",
       "      <td>NaN</td>\n",
       "      <td>NaN</td>\n",
       "      <td>NaN</td>\n",
       "      <td>NaN</td>\n",
       "    </tr>\n",
       "    <tr>\n",
       "      <th>1</th>\n",
       "      <td>Prss8</td>\n",
       "      <td>MGI 1923810</td>\n",
       "      <td>NaN</td>\n",
       "      <td>NaN</td>\n",
       "      <td>NaN</td>\n",
       "      <td>NaN</td>\n",
       "      <td>NaN</td>\n",
       "      <td>NaN</td>\n",
       "      <td>NaN</td>\n",
       "      <td>NaN</td>\n",
       "    </tr>\n",
       "    <tr>\n",
       "      <th>2</th>\n",
       "      <td>Pstpip2</td>\n",
       "      <td>MGI 1335088</td>\n",
       "      <td>NaN</td>\n",
       "      <td>NaN</td>\n",
       "      <td>NaN</td>\n",
       "      <td>NaN</td>\n",
       "      <td>NaN</td>\n",
       "      <td>NaN</td>\n",
       "      <td>NaN</td>\n",
       "      <td>NaN</td>\n",
       "    </tr>\n",
       "    <tr>\n",
       "      <th>3</th>\n",
       "      <td>Ap4e1</td>\n",
       "      <td>MGI 1336993</td>\n",
       "      <td>NaN</td>\n",
       "      <td>NaN</td>\n",
       "      <td>NaN</td>\n",
       "      <td>NaN</td>\n",
       "      <td>NaN</td>\n",
       "      <td>NaN</td>\n",
       "      <td>NaN</td>\n",
       "      <td>NaN</td>\n",
       "    </tr>\n",
       "    <tr>\n",
       "      <th>4</th>\n",
       "      <td>S100a14</td>\n",
       "      <td>MGI 1913416</td>\n",
       "      <td>NaN</td>\n",
       "      <td>NaN</td>\n",
       "      <td>NaN</td>\n",
       "      <td>NaN</td>\n",
       "      <td>NaN</td>\n",
       "      <td>NaN</td>\n",
       "      <td>NaN</td>\n",
       "      <td>NaN</td>\n",
       "    </tr>\n",
       "    <tr>\n",
       "      <th>...</th>\n",
       "      <td>...</td>\n",
       "      <td>...</td>\n",
       "      <td>...</td>\n",
       "      <td>...</td>\n",
       "      <td>...</td>\n",
       "      <td>...</td>\n",
       "      <td>...</td>\n",
       "      <td>...</td>\n",
       "      <td>...</td>\n",
       "      <td>...</td>\n",
       "    </tr>\n",
       "    <tr>\n",
       "      <th>230797</th>\n",
       "      <td>NaN</td>\n",
       "      <td>MP MP:0009855</td>\n",
       "      <td>NaN</td>\n",
       "      <td>NaN</td>\n",
       "      <td>NaN</td>\n",
       "      <td>NaN</td>\n",
       "      <td>NaN</td>\n",
       "      <td>NaN</td>\n",
       "      <td>NaN</td>\n",
       "      <td>NaN</td>\n",
       "    </tr>\n",
       "    <tr>\n",
       "      <th>231009</th>\n",
       "      <td>NaN</td>\n",
       "      <td>MP MP:0002956</td>\n",
       "      <td>NaN</td>\n",
       "      <td>NaN</td>\n",
       "      <td>NaN</td>\n",
       "      <td>NaN</td>\n",
       "      <td>NaN</td>\n",
       "      <td>NaN</td>\n",
       "      <td>NaN</td>\n",
       "      <td>NaN</td>\n",
       "    </tr>\n",
       "    <tr>\n",
       "      <th>231360</th>\n",
       "      <td>NaN</td>\n",
       "      <td>MP MP:0009470</td>\n",
       "      <td>NaN</td>\n",
       "      <td>NaN</td>\n",
       "      <td>NaN</td>\n",
       "      <td>NaN</td>\n",
       "      <td>NaN</td>\n",
       "      <td>NaN</td>\n",
       "      <td>NaN</td>\n",
       "      <td>NaN</td>\n",
       "    </tr>\n",
       "    <tr>\n",
       "      <th>231641</th>\n",
       "      <td>NaN</td>\n",
       "      <td>MP MP:0012002</td>\n",
       "      <td>NaN</td>\n",
       "      <td>NaN</td>\n",
       "      <td>NaN</td>\n",
       "      <td>NaN</td>\n",
       "      <td>NaN</td>\n",
       "      <td>NaN</td>\n",
       "      <td>NaN</td>\n",
       "      <td>NaN</td>\n",
       "    </tr>\n",
       "    <tr>\n",
       "      <th>231645</th>\n",
       "      <td>NaN</td>\n",
       "      <td>MP MP:0030253</td>\n",
       "      <td>NaN</td>\n",
       "      <td>NaN</td>\n",
       "      <td>NaN</td>\n",
       "      <td>NaN</td>\n",
       "      <td>NaN</td>\n",
       "      <td>NaN</td>\n",
       "      <td>NaN</td>\n",
       "      <td>NaN</td>\n",
       "    </tr>\n",
       "  </tbody>\n",
       "</table>\n",
       "<p>22604 rows × 10 columns</p>\n",
       "</div>"
      ],
      "text/plain": [
       "       node_label        node_id  node_namespace  lowerbound  value   \n",
       "0          Gimap3    MGI 1932723             NaN         NaN    NaN  \\\n",
       "1           Prss8    MGI 1923810             NaN         NaN    NaN   \n",
       "2         Pstpip2    MGI 1335088             NaN         NaN    NaN   \n",
       "3           Ap4e1    MGI 1336993             NaN         NaN    NaN   \n",
       "4         S100a14    MGI 1913416             NaN         NaN    NaN   \n",
       "...           ...            ...             ...         ...    ...   \n",
       "230797        NaN  MP MP:0009855             NaN         NaN    NaN   \n",
       "231009        NaN  MP MP:0002956             NaN         NaN    NaN   \n",
       "231360        NaN  MP MP:0009470             NaN         NaN    NaN   \n",
       "231641        NaN  MP MP:0012002             NaN         NaN    NaN   \n",
       "231645        NaN  MP MP:0030253             NaN         NaN    NaN   \n",
       "\n",
       "        node_definition  upperbound  node_dbxrefs  node_synonyms  unit  \n",
       "0                   NaN         NaN           NaN            NaN   NaN  \n",
       "1                   NaN         NaN           NaN            NaN   NaN  \n",
       "2                   NaN         NaN           NaN            NaN   NaN  \n",
       "3                   NaN         NaN           NaN            NaN   NaN  \n",
       "4                   NaN         NaN           NaN            NaN   NaN  \n",
       "...                 ...         ...           ...            ...   ...  \n",
       "230797              NaN         NaN           NaN            NaN   NaN  \n",
       "231009              NaN         NaN           NaN            NaN   NaN  \n",
       "231360              NaN         NaN           NaN            NaN   NaN  \n",
       "231641              NaN         NaN           NaN            NaN   NaN  \n",
       "231645              NaN         NaN           NaN            NaN   NaN  \n",
       "\n",
       "[22604 rows x 10 columns]"
      ]
     },
     "execution_count": 57,
     "metadata": {},
     "output_type": "execute_result"
    }
   ],
   "source": [
    "nodes"
   ]
  },
  {
   "cell_type": "code",
   "execution_count": 58,
   "metadata": {
    "collapsed": true
   },
   "outputs": [
    {
     "data": {
      "text/html": [
       "<div>\n",
       "<style scoped>\n",
       "    .dataframe tbody tr th:only-of-type {\n",
       "        vertical-align: middle;\n",
       "    }\n",
       "\n",
       "    .dataframe tbody tr th {\n",
       "        vertical-align: top;\n",
       "    }\n",
       "\n",
       "    .dataframe thead th {\n",
       "        text-align: right;\n",
       "    }\n",
       "</style>\n",
       "<table border=\"1\" class=\"dataframe\">\n",
       "  <thead>\n",
       "    <tr style=\"text-align: right;\">\n",
       "      <th></th>\n",
       "      <th>node_id</th>\n",
       "      <th>node_label</th>\n",
       "      <th>upperbound</th>\n",
       "      <th>unit</th>\n",
       "      <th>node_definition</th>\n",
       "      <th>value</th>\n",
       "      <th>node_namespace</th>\n",
       "      <th>node_dbxrefs</th>\n",
       "      <th>lowerbound</th>\n",
       "      <th>node_synonyms</th>\n",
       "    </tr>\n",
       "  </thead>\n",
       "  <tbody>\n",
       "    <tr>\n",
       "      <th>0</th>\n",
       "      <td>MGI 1932723</td>\n",
       "      <td>Gimap3</td>\n",
       "      <td>NaN</td>\n",
       "      <td>NaN</td>\n",
       "      <td>NaN</td>\n",
       "      <td>NaN</td>\n",
       "      <td>NaN</td>\n",
       "      <td>NaN</td>\n",
       "      <td>NaN</td>\n",
       "      <td>NaN</td>\n",
       "    </tr>\n",
       "    <tr>\n",
       "      <th>1</th>\n",
       "      <td>MGI 1923810</td>\n",
       "      <td>Prss8</td>\n",
       "      <td>NaN</td>\n",
       "      <td>NaN</td>\n",
       "      <td>NaN</td>\n",
       "      <td>NaN</td>\n",
       "      <td>NaN</td>\n",
       "      <td>NaN</td>\n",
       "      <td>NaN</td>\n",
       "      <td>NaN</td>\n",
       "    </tr>\n",
       "    <tr>\n",
       "      <th>2</th>\n",
       "      <td>MGI 1335088</td>\n",
       "      <td>Pstpip2</td>\n",
       "      <td>NaN</td>\n",
       "      <td>NaN</td>\n",
       "      <td>NaN</td>\n",
       "      <td>NaN</td>\n",
       "      <td>NaN</td>\n",
       "      <td>NaN</td>\n",
       "      <td>NaN</td>\n",
       "      <td>NaN</td>\n",
       "    </tr>\n",
       "    <tr>\n",
       "      <th>3</th>\n",
       "      <td>MGI 1336993</td>\n",
       "      <td>Ap4e1</td>\n",
       "      <td>NaN</td>\n",
       "      <td>NaN</td>\n",
       "      <td>NaN</td>\n",
       "      <td>NaN</td>\n",
       "      <td>NaN</td>\n",
       "      <td>NaN</td>\n",
       "      <td>NaN</td>\n",
       "      <td>NaN</td>\n",
       "    </tr>\n",
       "    <tr>\n",
       "      <th>4</th>\n",
       "      <td>MGI 1913416</td>\n",
       "      <td>S100a14</td>\n",
       "      <td>NaN</td>\n",
       "      <td>NaN</td>\n",
       "      <td>NaN</td>\n",
       "      <td>NaN</td>\n",
       "      <td>NaN</td>\n",
       "      <td>NaN</td>\n",
       "      <td>NaN</td>\n",
       "      <td>NaN</td>\n",
       "    </tr>\n",
       "    <tr>\n",
       "      <th>...</th>\n",
       "      <td>...</td>\n",
       "      <td>...</td>\n",
       "      <td>...</td>\n",
       "      <td>...</td>\n",
       "      <td>...</td>\n",
       "      <td>...</td>\n",
       "      <td>...</td>\n",
       "      <td>...</td>\n",
       "      <td>...</td>\n",
       "      <td>...</td>\n",
       "    </tr>\n",
       "    <tr>\n",
       "      <th>230797</th>\n",
       "      <td>MP MP:0009855</td>\n",
       "      <td>NaN</td>\n",
       "      <td>NaN</td>\n",
       "      <td>NaN</td>\n",
       "      <td>NaN</td>\n",
       "      <td>NaN</td>\n",
       "      <td>NaN</td>\n",
       "      <td>NaN</td>\n",
       "      <td>NaN</td>\n",
       "      <td>NaN</td>\n",
       "    </tr>\n",
       "    <tr>\n",
       "      <th>231009</th>\n",
       "      <td>MP MP:0002956</td>\n",
       "      <td>NaN</td>\n",
       "      <td>NaN</td>\n",
       "      <td>NaN</td>\n",
       "      <td>NaN</td>\n",
       "      <td>NaN</td>\n",
       "      <td>NaN</td>\n",
       "      <td>NaN</td>\n",
       "      <td>NaN</td>\n",
       "      <td>NaN</td>\n",
       "    </tr>\n",
       "    <tr>\n",
       "      <th>231360</th>\n",
       "      <td>MP MP:0009470</td>\n",
       "      <td>NaN</td>\n",
       "      <td>NaN</td>\n",
       "      <td>NaN</td>\n",
       "      <td>NaN</td>\n",
       "      <td>NaN</td>\n",
       "      <td>NaN</td>\n",
       "      <td>NaN</td>\n",
       "      <td>NaN</td>\n",
       "      <td>NaN</td>\n",
       "    </tr>\n",
       "    <tr>\n",
       "      <th>231641</th>\n",
       "      <td>MP MP:0012002</td>\n",
       "      <td>NaN</td>\n",
       "      <td>NaN</td>\n",
       "      <td>NaN</td>\n",
       "      <td>NaN</td>\n",
       "      <td>NaN</td>\n",
       "      <td>NaN</td>\n",
       "      <td>NaN</td>\n",
       "      <td>NaN</td>\n",
       "      <td>NaN</td>\n",
       "    </tr>\n",
       "    <tr>\n",
       "      <th>231645</th>\n",
       "      <td>MP MP:0030253</td>\n",
       "      <td>NaN</td>\n",
       "      <td>NaN</td>\n",
       "      <td>NaN</td>\n",
       "      <td>NaN</td>\n",
       "      <td>NaN</td>\n",
       "      <td>NaN</td>\n",
       "      <td>NaN</td>\n",
       "      <td>NaN</td>\n",
       "      <td>NaN</td>\n",
       "    </tr>\n",
       "  </tbody>\n",
       "</table>\n",
       "<p>22604 rows × 10 columns</p>\n",
       "</div>"
      ],
      "text/plain": [
       "              node_id node_label  upperbound  unit  node_definition  value   \n",
       "0         MGI 1932723     Gimap3         NaN   NaN              NaN    NaN  \\\n",
       "1         MGI 1923810      Prss8         NaN   NaN              NaN    NaN   \n",
       "2         MGI 1335088    Pstpip2         NaN   NaN              NaN    NaN   \n",
       "3         MGI 1336993      Ap4e1         NaN   NaN              NaN    NaN   \n",
       "4         MGI 1913416    S100a14         NaN   NaN              NaN    NaN   \n",
       "...               ...        ...         ...   ...              ...    ...   \n",
       "230797  MP MP:0009855        NaN         NaN   NaN              NaN    NaN   \n",
       "231009  MP MP:0002956        NaN         NaN   NaN              NaN    NaN   \n",
       "231360  MP MP:0009470        NaN         NaN   NaN              NaN    NaN   \n",
       "231641  MP MP:0012002        NaN         NaN   NaN              NaN    NaN   \n",
       "231645  MP MP:0030253        NaN         NaN   NaN              NaN    NaN   \n",
       "\n",
       "        node_namespace  node_dbxrefs  lowerbound  node_synonyms  \n",
       "0                  NaN           NaN         NaN            NaN  \n",
       "1                  NaN           NaN         NaN            NaN  \n",
       "2                  NaN           NaN         NaN            NaN  \n",
       "3                  NaN           NaN         NaN            NaN  \n",
       "4                  NaN           NaN         NaN            NaN  \n",
       "...                ...           ...         ...            ...  \n",
       "230797             NaN           NaN         NaN            NaN  \n",
       "231009             NaN           NaN         NaN            NaN  \n",
       "231360             NaN           NaN         NaN            NaN  \n",
       "231641             NaN           NaN         NaN            NaN  \n",
       "231645             NaN           NaN         NaN            NaN  \n",
       "\n",
       "[22604 rows x 10 columns]"
      ]
     },
     "execution_count": 58,
     "metadata": {},
     "output_type": "execute_result"
    }
   ],
   "source": [
    "nodes.columns\n",
    "\n",
    "nodes = nodes[['node_id','node_label', 'upperbound', 'unit', 'node_definition',\n",
    "       'value', 'node_namespace', 'node_dbxrefs', 'lowerbound','node_synonyms']]\n",
    "nodes"
   ]
  },
  {
   "cell_type": "code",
   "execution_count": 64,
   "metadata": {},
   "outputs": [],
   "source": [
    "assert len(edges) ==  len(edges[edges['subject'].isin(nodes['node_id'])])"
   ]
  },
  {
   "cell_type": "code",
   "execution_count": 63,
   "metadata": {
    "collapsed": true
   },
   "outputs": [
    {
     "data": {
      "text/html": [
       "<div>\n",
       "<style scoped>\n",
       "    .dataframe tbody tr th:only-of-type {\n",
       "        vertical-align: middle;\n",
       "    }\n",
       "\n",
       "    .dataframe tbody tr th {\n",
       "        vertical-align: top;\n",
       "    }\n",
       "\n",
       "    .dataframe thead th {\n",
       "        text-align: right;\n",
       "    }\n",
       "</style>\n",
       "<table border=\"1\" class=\"dataframe\">\n",
       "  <thead>\n",
       "    <tr style=\"text-align: right;\">\n",
       "      <th></th>\n",
       "      <th>node_id</th>\n",
       "      <th>node_label</th>\n",
       "      <th>upperbound</th>\n",
       "      <th>unit</th>\n",
       "      <th>node_definition</th>\n",
       "      <th>value</th>\n",
       "      <th>node_namespace</th>\n",
       "      <th>node_dbxrefs</th>\n",
       "      <th>lowerbound</th>\n",
       "      <th>node_synonyms</th>\n",
       "    </tr>\n",
       "  </thead>\n",
       "  <tbody>\n",
       "    <tr>\n",
       "      <th>0</th>\n",
       "      <td>MGI 1932723</td>\n",
       "      <td>Gimap3</td>\n",
       "      <td>NaN</td>\n",
       "      <td>NaN</td>\n",
       "      <td>NaN</td>\n",
       "      <td>NaN</td>\n",
       "      <td>NaN</td>\n",
       "      <td>NaN</td>\n",
       "      <td>NaN</td>\n",
       "      <td>NaN</td>\n",
       "    </tr>\n",
       "    <tr>\n",
       "      <th>1</th>\n",
       "      <td>MGI 1923810</td>\n",
       "      <td>Prss8</td>\n",
       "      <td>NaN</td>\n",
       "      <td>NaN</td>\n",
       "      <td>NaN</td>\n",
       "      <td>NaN</td>\n",
       "      <td>NaN</td>\n",
       "      <td>NaN</td>\n",
       "      <td>NaN</td>\n",
       "      <td>NaN</td>\n",
       "    </tr>\n",
       "    <tr>\n",
       "      <th>2</th>\n",
       "      <td>MGI 1335088</td>\n",
       "      <td>Pstpip2</td>\n",
       "      <td>NaN</td>\n",
       "      <td>NaN</td>\n",
       "      <td>NaN</td>\n",
       "      <td>NaN</td>\n",
       "      <td>NaN</td>\n",
       "      <td>NaN</td>\n",
       "      <td>NaN</td>\n",
       "      <td>NaN</td>\n",
       "    </tr>\n",
       "    <tr>\n",
       "      <th>3</th>\n",
       "      <td>MGI 1336993</td>\n",
       "      <td>Ap4e1</td>\n",
       "      <td>NaN</td>\n",
       "      <td>NaN</td>\n",
       "      <td>NaN</td>\n",
       "      <td>NaN</td>\n",
       "      <td>NaN</td>\n",
       "      <td>NaN</td>\n",
       "      <td>NaN</td>\n",
       "      <td>NaN</td>\n",
       "    </tr>\n",
       "    <tr>\n",
       "      <th>4</th>\n",
       "      <td>MGI 1913416</td>\n",
       "      <td>S100a14</td>\n",
       "      <td>NaN</td>\n",
       "      <td>NaN</td>\n",
       "      <td>NaN</td>\n",
       "      <td>NaN</td>\n",
       "      <td>NaN</td>\n",
       "      <td>NaN</td>\n",
       "      <td>NaN</td>\n",
       "      <td>NaN</td>\n",
       "    </tr>\n",
       "    <tr>\n",
       "      <th>...</th>\n",
       "      <td>...</td>\n",
       "      <td>...</td>\n",
       "      <td>...</td>\n",
       "      <td>...</td>\n",
       "      <td>...</td>\n",
       "      <td>...</td>\n",
       "      <td>...</td>\n",
       "      <td>...</td>\n",
       "      <td>...</td>\n",
       "      <td>...</td>\n",
       "    </tr>\n",
       "    <tr>\n",
       "      <th>230797</th>\n",
       "      <td>MP 0009855</td>\n",
       "      <td>NaN</td>\n",
       "      <td>NaN</td>\n",
       "      <td>NaN</td>\n",
       "      <td>NaN</td>\n",
       "      <td>NaN</td>\n",
       "      <td>NaN</td>\n",
       "      <td>NaN</td>\n",
       "      <td>NaN</td>\n",
       "      <td>NaN</td>\n",
       "    </tr>\n",
       "    <tr>\n",
       "      <th>231009</th>\n",
       "      <td>MP 0002956</td>\n",
       "      <td>NaN</td>\n",
       "      <td>NaN</td>\n",
       "      <td>NaN</td>\n",
       "      <td>NaN</td>\n",
       "      <td>NaN</td>\n",
       "      <td>NaN</td>\n",
       "      <td>NaN</td>\n",
       "      <td>NaN</td>\n",
       "      <td>NaN</td>\n",
       "    </tr>\n",
       "    <tr>\n",
       "      <th>231360</th>\n",
       "      <td>MP 0009470</td>\n",
       "      <td>NaN</td>\n",
       "      <td>NaN</td>\n",
       "      <td>NaN</td>\n",
       "      <td>NaN</td>\n",
       "      <td>NaN</td>\n",
       "      <td>NaN</td>\n",
       "      <td>NaN</td>\n",
       "      <td>NaN</td>\n",
       "      <td>NaN</td>\n",
       "    </tr>\n",
       "    <tr>\n",
       "      <th>231641</th>\n",
       "      <td>MP 0012002</td>\n",
       "      <td>NaN</td>\n",
       "      <td>NaN</td>\n",
       "      <td>NaN</td>\n",
       "      <td>NaN</td>\n",
       "      <td>NaN</td>\n",
       "      <td>NaN</td>\n",
       "      <td>NaN</td>\n",
       "      <td>NaN</td>\n",
       "      <td>NaN</td>\n",
       "    </tr>\n",
       "    <tr>\n",
       "      <th>231645</th>\n",
       "      <td>MP 0030253</td>\n",
       "      <td>NaN</td>\n",
       "      <td>NaN</td>\n",
       "      <td>NaN</td>\n",
       "      <td>NaN</td>\n",
       "      <td>NaN</td>\n",
       "      <td>NaN</td>\n",
       "      <td>NaN</td>\n",
       "      <td>NaN</td>\n",
       "      <td>NaN</td>\n",
       "    </tr>\n",
       "  </tbody>\n",
       "</table>\n",
       "<p>22604 rows × 10 columns</p>\n",
       "</div>"
      ],
      "text/plain": [
       "            node_id node_label  upperbound  unit  node_definition  value   \n",
       "0       MGI 1932723     Gimap3         NaN   NaN              NaN    NaN  \\\n",
       "1       MGI 1923810      Prss8         NaN   NaN              NaN    NaN   \n",
       "2       MGI 1335088    Pstpip2         NaN   NaN              NaN    NaN   \n",
       "3       MGI 1336993      Ap4e1         NaN   NaN              NaN    NaN   \n",
       "4       MGI 1913416    S100a14         NaN   NaN              NaN    NaN   \n",
       "...             ...        ...         ...   ...              ...    ...   \n",
       "230797   MP 0009855        NaN         NaN   NaN              NaN    NaN   \n",
       "231009   MP 0002956        NaN         NaN   NaN              NaN    NaN   \n",
       "231360   MP 0009470        NaN         NaN   NaN              NaN    NaN   \n",
       "231641   MP 0012002        NaN         NaN   NaN              NaN    NaN   \n",
       "231645   MP 0030253        NaN         NaN   NaN              NaN    NaN   \n",
       "\n",
       "        node_namespace  node_dbxrefs  lowerbound  node_synonyms  \n",
       "0                  NaN           NaN         NaN            NaN  \n",
       "1                  NaN           NaN         NaN            NaN  \n",
       "2                  NaN           NaN         NaN            NaN  \n",
       "3                  NaN           NaN         NaN            NaN  \n",
       "4                  NaN           NaN         NaN            NaN  \n",
       "...                ...           ...         ...            ...  \n",
       "230797             NaN           NaN         NaN            NaN  \n",
       "231009             NaN           NaN         NaN            NaN  \n",
       "231360             NaN           NaN         NaN            NaN  \n",
       "231641             NaN           NaN         NaN            NaN  \n",
       "231645             NaN           NaN         NaN            NaN  \n",
       "\n",
       "[22604 rows x 10 columns]"
      ]
     },
     "execution_count": 63,
     "metadata": {},
     "output_type": "execute_result"
    }
   ],
   "source": [
    "nodes['node_id'] = [i.replace(':',' ') for i in nodes['node_id']]\n",
    "nodes"
   ]
  },
  {
   "cell_type": "code",
   "execution_count": 65,
   "metadata": {
    "collapsed": true
   },
   "outputs": [
    {
     "data": {
      "text/html": [
       "<div>\n",
       "<style scoped>\n",
       "    .dataframe tbody tr th:only-of-type {\n",
       "        vertical-align: middle;\n",
       "    }\n",
       "\n",
       "    .dataframe tbody tr th {\n",
       "        vertical-align: top;\n",
       "    }\n",
       "\n",
       "    .dataframe thead th {\n",
       "        text-align: right;\n",
       "    }\n",
       "</style>\n",
       "<table border=\"1\" class=\"dataframe\">\n",
       "  <thead>\n",
       "    <tr style=\"text-align: right;\">\n",
       "      <th></th>\n",
       "      <th>subject</th>\n",
       "      <th>predicate</th>\n",
       "      <th>object</th>\n",
       "    </tr>\n",
       "  </thead>\n",
       "  <tbody>\n",
       "    <tr>\n",
       "      <th>0</th>\n",
       "      <td>MGI 1917115</td>\n",
       "      <td>RO:0002331</td>\n",
       "      <td>MP 0005292</td>\n",
       "    </tr>\n",
       "    <tr>\n",
       "      <th>1</th>\n",
       "      <td>MGI 1917115</td>\n",
       "      <td>RO:0002331</td>\n",
       "      <td>MP 0001544</td>\n",
       "    </tr>\n",
       "    <tr>\n",
       "      <th>2</th>\n",
       "      <td>MGI 1917115</td>\n",
       "      <td>RO:0002331</td>\n",
       "      <td>MP 0002127</td>\n",
       "    </tr>\n",
       "    <tr>\n",
       "      <th>3</th>\n",
       "      <td>MGI 1917115</td>\n",
       "      <td>RO:0002331</td>\n",
       "      <td>MP 0002083</td>\n",
       "    </tr>\n",
       "    <tr>\n",
       "      <th>4</th>\n",
       "      <td>MGI 1917115</td>\n",
       "      <td>RO:0002331</td>\n",
       "      <td>MP 0001636</td>\n",
       "    </tr>\n",
       "    <tr>\n",
       "      <th>...</th>\n",
       "      <td>...</td>\n",
       "      <td>...</td>\n",
       "      <td>...</td>\n",
       "    </tr>\n",
       "    <tr>\n",
       "      <th>219513</th>\n",
       "      <td>MGI 2444286</td>\n",
       "      <td>RO:0002331</td>\n",
       "      <td>MP 0003062</td>\n",
       "    </tr>\n",
       "    <tr>\n",
       "      <th>219514</th>\n",
       "      <td>MGI 2444286</td>\n",
       "      <td>RO:0002331</td>\n",
       "      <td>MP 0003960</td>\n",
       "    </tr>\n",
       "    <tr>\n",
       "      <th>219515</th>\n",
       "      <td>MGI 2444286</td>\n",
       "      <td>RO:0002331</td>\n",
       "      <td>MP 0001589</td>\n",
       "    </tr>\n",
       "    <tr>\n",
       "      <th>219516</th>\n",
       "      <td>MGI 2444286</td>\n",
       "      <td>RO:0002331</td>\n",
       "      <td>MP 0005640</td>\n",
       "    </tr>\n",
       "    <tr>\n",
       "      <th>219517</th>\n",
       "      <td>MGI 2444286</td>\n",
       "      <td>RO:0002331</td>\n",
       "      <td>MP 0005563</td>\n",
       "    </tr>\n",
       "  </tbody>\n",
       "</table>\n",
       "<p>219518 rows × 3 columns</p>\n",
       "</div>"
      ],
      "text/plain": [
       "            subject   predicate      object\n",
       "0       MGI 1917115  RO:0002331  MP 0005292\n",
       "1       MGI 1917115  RO:0002331  MP 0001544\n",
       "2       MGI 1917115  RO:0002331  MP 0002127\n",
       "3       MGI 1917115  RO:0002331  MP 0002083\n",
       "4       MGI 1917115  RO:0002331  MP 0001636\n",
       "...             ...         ...         ...\n",
       "219513  MGI 2444286  RO:0002331  MP 0003062\n",
       "219514  MGI 2444286  RO:0002331  MP 0003960\n",
       "219515  MGI 2444286  RO:0002331  MP 0001589\n",
       "219516  MGI 2444286  RO:0002331  MP 0005640\n",
       "219517  MGI 2444286  RO:0002331  MP 0005563\n",
       "\n",
       "[219518 rows x 3 columns]"
      ]
     },
     "execution_count": 65,
     "metadata": {},
     "output_type": "execute_result"
    }
   ],
   "source": [
    "edges"
   ]
  },
  {
   "cell_type": "code",
   "execution_count": 61,
   "metadata": {},
   "outputs": [],
   "source": [
    "nodes['node_id'] = [i.replace('MP ','') if i.startswith('MP') else i for i in nodes['node_id'] ]\n"
   ]
  },
  {
   "cell_type": "markdown",
   "metadata": {},
   "source": [
    "# Save files\n",
    "## this data source depends on MP and HCOP being in the graph"
   ]
  },
  {
   "cell_type": "code",
   "execution_count": 66,
   "metadata": {},
   "outputs": [],
   "source": [
    "nodes.to_csv('/Users/stearb/Desktop/DESKTOP_TRANSFER/DataDistilleryFiles/genotype_phenotype/OWLNETS_node_metadata_mgi.txt',\n",
    "             sep='\\t',index=False)\n",
    "\n",
    "edges.to_csv('/Users/stearb/Desktop/DESKTOP_TRANSFER/DataDistilleryFiles/genotype_phenotype/OWLNETS_edgelist_mgi.txt',\n",
    "             sep='\\t',index=False)"
   ]
  },
  {
   "cell_type": "code",
   "execution_count": 46,
   "metadata": {},
   "outputs": [
    {
     "data": {
      "text/plain": [
       "(10297, 2)"
      ]
     },
     "execution_count": 46,
     "metadata": {},
     "output_type": "execute_result"
    }
   ],
   "source": [
    "nodes_mp.drop_duplicates().shape"
   ]
  },
  {
   "cell_type": "code",
   "execution_count": 47,
   "metadata": {},
   "outputs": [
    {
     "data": {
      "text/plain": [
       "(17391, 2)"
      ]
     },
     "execution_count": 47,
     "metadata": {},
     "output_type": "execute_result"
    }
   ],
   "source": [
    "nodes_hcop.drop_duplicates().shape"
   ]
  },
  {
   "cell_type": "code",
   "execution_count": null,
   "metadata": {},
   "outputs": [],
   "source": [
    "# Cypher check\n",
    "# match (cc:Code {SAB:'HCOP'})-[x]-(c:Concept)-[b]-(z:Concept)-[v]-(aa:Code {SAB:'MP'})   \n",
    "# return count(distinct cc) AS connected_hcop_nodes ,count(distinct aa) as connected_mp_nodes\n",
    "# 17391  10297"
   ]
  },
  {
   "cell_type": "code",
   "execution_count": null,
   "metadata": {},
   "outputs": [],
   "source": []
  },
  {
   "cell_type": "code",
   "execution_count": null,
   "metadata": {},
   "outputs": [],
   "source": []
  },
  {
   "cell_type": "code",
   "execution_count": null,
   "metadata": {},
   "outputs": [],
   "source": []
  },
  {
   "cell_type": "markdown",
   "metadata": {},
   "source": [
    "# OLD CODE"
   ]
  },
  {
   "cell_type": "markdown",
   "metadata": {},
   "source": [
    "### Save CUI-CUI, CODEs and CUI-CODE files."
   ]
  },
  {
   "cell_type": "markdown",
   "metadata": {},
   "source": [
    "Save CUIs"
   ]
  },
  {
   "cell_type": "code",
   "execution_count": 46,
   "metadata": {},
   "outputs": [],
   "source": [
    "# The two columns in the CUI-CUI data frame should be combined into a single CUIs file.\n",
    "pd.DataFrame(MASTER_G2P_fixed['CUI_mouse_gene'].append(\n",
    "            MASTER_G2P_fixed['CUI_mp_term']).drop_duplicates(\n",
    "                ),columns=['CUI']).to_csv(\n",
    "                    '/Users/stearb/desktop/R03_local/data/ingest_files/genopheno/CUIs_genotype.csv',index=False)"
   ]
  },
  {
   "cell_type": "markdown",
   "metadata": {},
   "source": [
    "Save CUI-CUIs\n",
    "\n",
    "What SAB for CUI-CUI relationships?  - IMPC  \n",
    "What relationship for gene -- phenotype?  - gene_associated_with_disease and disease_has_associated_gene"
   ]
  },
  {
   "cell_type": "code",
   "execution_count": 47,
   "metadata": {},
   "outputs": [],
   "source": [
    "# Connect CUIs\n",
    "CUI_CUI = MASTER_G2P_fixed[['CUI_mouse_gene','CUI_mp_term']].rename(columns={'CUI_mouse_gene':':START_ID',\n",
    "                                                                             'CUI_mp_term':':END_ID'})\n",
    "\n",
    "# Add relationship type and  sab to match format of umls CUI-CUI import file\n",
    "CUI_CUI[':TYPE'] = 'gene_associated_with_disease'\n",
    "\n",
    "# Add inverse relationship (phenotype to gene). Just reverse names of columns,  then concatenate \n",
    "CUI_CUI_inverse = MASTER_G2P_fixed[['CUI_mouse_gene','CUI_mp_term']].rename(columns={'CUI_mouse_gene':':END_ID',\n",
    "                                                                             'CUI_mp_term':':START_ID'})\n",
    "\n",
    "CUI_CUI_inverse[':TYPE'] = 'disease_has_associated_gene'\n",
    "\n",
    "CUI_CUI_all =  pd.concat([CUI_CUI,CUI_CUI_inverse])\n",
    "\n",
    "CUI_CUI_all['SAB'] = 'IMPC'\n",
    "\n",
    "CUI_CUI_all.to_csv('/Users/stearb/desktop/R03_local/data/ingest_files/genopheno/CUI-CUI_genotype.csv',index=False)"
   ]
  },
  {
   "cell_type": "markdown",
   "metadata": {},
   "source": [
    "Save CODEs"
   ]
  },
  {
   "cell_type": "code",
   "execution_count": 48,
   "metadata": {},
   "outputs": [],
   "source": [
    "# Create MP Codes and create gene Codes \n",
    "# Combine these two files ^^^ to create just one CODEs file. (rename cols and add SAB)\n",
    "codes_mouse_genes = MASTER_G2P_fixed[['CodeID_mouse_gene','CODE_mouse_gene']]\n",
    "codes_mp_terms = MASTER_G2P_fixed[['CodeID_mp_term','CODE_mp_term']]\n",
    "codes_mouse_genes['SAB'] = 'HGNC_HCOP'\n",
    "codes_mp_terms['SAB']  = 'MP'\n",
    "\n",
    "CODEs = pd.DataFrame(np.concatenate([codes_mouse_genes.values,codes_mp_terms.values], axis=0),columns=['CodeID',\n",
    "                      'CODE','SAB'])\n",
    "\n",
    "CODEs = CODEs[['CodeID','SAB', 'CODE']] # Reorder\n",
    "\n",
    "CODEs.drop_duplicates(['CODE','CodeID']).to_csv('/Users/stearb/desktop/R03_local/data/ingest_files/genopheno/CODEs_genotype.csv',index=False)\n"
   ]
  },
  {
   "cell_type": "markdown",
   "metadata": {},
   "source": [
    "Save CUI-CODEs"
   ]
  },
  {
   "cell_type": "code",
   "execution_count": 49,
   "metadata": {},
   "outputs": [],
   "source": [
    "# Connect MP Concept to Codes and Connect mouse gene Concepts to CODEs\n",
    "# Combine these two files ^^^ to create just one CUI-CODEs file. \n",
    "code_cui_genes = MASTER_G2P_fixed[['CUI_mouse_gene','CodeID_mouse_gene']]\n",
    "code_cui_mp = MASTER_G2P_fixed[['CUI_mp_term','CodeID_mp_term']]\n",
    "\n",
    "pd.DataFrame(np.concatenate([code_cui_genes.values,code_cui_mp.values]),\n",
    "             columns=['CUI','CODE']).drop_duplicates(['CODE','CUI']).to_csv('CUI-CODE_genotype.csv',index=False)\n",
    "# 27688 x 2\n",
    "! mv CUI-CODE_genotype.csv /Users/stearb/desktop/R03_local/data/ingest_files/genopheno/"
   ]
  },
  {
   "cell_type": "markdown",
   "metadata": {},
   "source": [
    "### Save whole df so we can check that there are no collisions with these CUIs and CUIs from the other steps"
   ]
  },
  {
   "cell_type": "code",
   "execution_count": 50,
   "metadata": {},
   "outputs": [],
   "source": [
    "MASTER_G2P_fixed.to_csv('/Users/stearb/desktop/R03_local/data/UI_check/MASTER_G2P.csv',index=False)"
   ]
  },
  {
   "cell_type": "code",
   "execution_count": null,
   "metadata": {},
   "outputs": [],
   "source": []
  },
  {
   "cell_type": "code",
   "execution_count": null,
   "metadata": {},
   "outputs": [],
   "source": []
  },
  {
   "cell_type": "code",
   "execution_count": null,
   "metadata": {},
   "outputs": [],
   "source": []
  },
  {
   "cell_type": "code",
   "execution_count": null,
   "metadata": {},
   "outputs": [],
   "source": []
  },
  {
   "cell_type": "markdown",
   "metadata": {},
   "source": [
    "### Extra Code"
   ]
  },
  {
   "cell_type": "markdown",
   "metadata": {},
   "source": [
    "#### After adding MGI Tables 5, 9 and 10 mappings we increased the number of unique mp terms and genes greatly.\n",
    "####  Although the number of mp-hp mappings we gain is only 2. Maybe add tables 5,9,10 when we have more complete mp-hp mappings "
   ]
  },
  {
   "cell_type": "code",
   "execution_count": 44,
   "metadata": {},
   "outputs": [
    {
     "name": "stdout",
     "output_type": "stream",
     "text": [
      "\n",
      "---- IMPC and MGI (Tables 5,9 and 10) data -----\n",
      "CODE_mp_term         10297\n",
      "Gene                 17391\n",
      "CODE_mouse_gene      17391\n",
      "CodeID_mouse_gene    17391\n",
      "CUI_mouse_gene       17391\n",
      "CodeID_mp_term       10297\n",
      "CUI_mp_term          10297\n",
      "dtype: int64\n",
      "\n",
      "---- IMPC data only -----\n",
      "MP_term     740\n",
      "Gene       5966\n",
      "dtype: int64\n"
     ]
    }
   ],
   "source": [
    "print('\\n---- IMPC and MGI (Tables 5,9 and 10) data -----')\n",
    "print(MASTER_G2P_fixed.nunique())\n",
    "print('\\n---- IMPC data only -----')\n",
    "print(master_impc_filt.nunique())"
   ]
  },
  {
   "cell_type": "markdown",
   "metadata": {},
   "source": [
    "### Lets see if we have anymore coverage with Tiffanys mp-hp mappings"
   ]
  },
  {
   "cell_type": "code",
   "execution_count": 45,
   "metadata": {
    "collapsed": true
   },
   "outputs": [
    {
     "ename": "KeyError",
     "evalue": "'MP_term'",
     "output_type": "error",
     "traceback": [
      "\u001b[0;31m---------------------------------------------------------------------------\u001b[0m",
      "\u001b[0;31mKeyError\u001b[0m                                  Traceback (most recent call last)",
      "\u001b[0;32m~/opt/anaconda3/lib/python3.7/site-packages/pandas/core/indexes/base.py\u001b[0m in \u001b[0;36mget_loc\u001b[0;34m(self, key, method, tolerance)\u001b[0m\n\u001b[1;32m   2645\u001b[0m             \u001b[0;32mtry\u001b[0m\u001b[0;34m:\u001b[0m\u001b[0;34m\u001b[0m\u001b[0;34m\u001b[0m\u001b[0m\n\u001b[0;32m-> 2646\u001b[0;31m                 \u001b[0;32mreturn\u001b[0m \u001b[0mself\u001b[0m\u001b[0;34m.\u001b[0m\u001b[0m_engine\u001b[0m\u001b[0;34m.\u001b[0m\u001b[0mget_loc\u001b[0m\u001b[0;34m(\u001b[0m\u001b[0mkey\u001b[0m\u001b[0;34m)\u001b[0m\u001b[0;34m\u001b[0m\u001b[0;34m\u001b[0m\u001b[0m\n\u001b[0m\u001b[1;32m   2647\u001b[0m             \u001b[0;32mexcept\u001b[0m \u001b[0mKeyError\u001b[0m\u001b[0;34m:\u001b[0m\u001b[0;34m\u001b[0m\u001b[0;34m\u001b[0m\u001b[0m\n",
      "\u001b[0;32mpandas/_libs/index.pyx\u001b[0m in \u001b[0;36mpandas._libs.index.IndexEngine.get_loc\u001b[0;34m()\u001b[0m\n",
      "\u001b[0;32mpandas/_libs/index.pyx\u001b[0m in \u001b[0;36mpandas._libs.index.IndexEngine.get_loc\u001b[0;34m()\u001b[0m\n",
      "\u001b[0;32mpandas/_libs/hashtable_class_helper.pxi\u001b[0m in \u001b[0;36mpandas._libs.hashtable.PyObjectHashTable.get_item\u001b[0;34m()\u001b[0m\n",
      "\u001b[0;32mpandas/_libs/hashtable_class_helper.pxi\u001b[0m in \u001b[0;36mpandas._libs.hashtable.PyObjectHashTable.get_item\u001b[0;34m()\u001b[0m\n",
      "\u001b[0;31mKeyError\u001b[0m: 'MP_term'",
      "\nDuring handling of the above exception, another exception occurred:\n",
      "\u001b[0;31mKeyError\u001b[0m                                  Traceback (most recent call last)",
      "\u001b[0;32m<ipython-input-45-a333be6c85ae>\u001b[0m in \u001b[0;36m<module>\u001b[0;34m\u001b[0m\n\u001b[1;32m      1\u001b[0m len(set(hpo2mp['MPO_URI'].values).intersection(\n\u001b[0;32m----> 2\u001b[0;31m                                 set(MASTER_G2P_fixed['MP_term'].values)))\n\u001b[0m",
      "\u001b[0;32m~/opt/anaconda3/lib/python3.7/site-packages/pandas/core/frame.py\u001b[0m in \u001b[0;36m__getitem__\u001b[0;34m(self, key)\u001b[0m\n\u001b[1;32m   2798\u001b[0m             \u001b[0;32mif\u001b[0m \u001b[0mself\u001b[0m\u001b[0;34m.\u001b[0m\u001b[0mcolumns\u001b[0m\u001b[0;34m.\u001b[0m\u001b[0mnlevels\u001b[0m \u001b[0;34m>\u001b[0m \u001b[0;36m1\u001b[0m\u001b[0;34m:\u001b[0m\u001b[0;34m\u001b[0m\u001b[0;34m\u001b[0m\u001b[0m\n\u001b[1;32m   2799\u001b[0m                 \u001b[0;32mreturn\u001b[0m \u001b[0mself\u001b[0m\u001b[0;34m.\u001b[0m\u001b[0m_getitem_multilevel\u001b[0m\u001b[0;34m(\u001b[0m\u001b[0mkey\u001b[0m\u001b[0;34m)\u001b[0m\u001b[0;34m\u001b[0m\u001b[0;34m\u001b[0m\u001b[0m\n\u001b[0;32m-> 2800\u001b[0;31m             \u001b[0mindexer\u001b[0m \u001b[0;34m=\u001b[0m \u001b[0mself\u001b[0m\u001b[0;34m.\u001b[0m\u001b[0mcolumns\u001b[0m\u001b[0;34m.\u001b[0m\u001b[0mget_loc\u001b[0m\u001b[0;34m(\u001b[0m\u001b[0mkey\u001b[0m\u001b[0;34m)\u001b[0m\u001b[0;34m\u001b[0m\u001b[0;34m\u001b[0m\u001b[0m\n\u001b[0m\u001b[1;32m   2801\u001b[0m             \u001b[0;32mif\u001b[0m \u001b[0mis_integer\u001b[0m\u001b[0;34m(\u001b[0m\u001b[0mindexer\u001b[0m\u001b[0;34m)\u001b[0m\u001b[0;34m:\u001b[0m\u001b[0;34m\u001b[0m\u001b[0;34m\u001b[0m\u001b[0m\n\u001b[1;32m   2802\u001b[0m                 \u001b[0mindexer\u001b[0m \u001b[0;34m=\u001b[0m \u001b[0;34m[\u001b[0m\u001b[0mindexer\u001b[0m\u001b[0;34m]\u001b[0m\u001b[0;34m\u001b[0m\u001b[0;34m\u001b[0m\u001b[0m\n",
      "\u001b[0;32m~/opt/anaconda3/lib/python3.7/site-packages/pandas/core/indexes/base.py\u001b[0m in \u001b[0;36mget_loc\u001b[0;34m(self, key, method, tolerance)\u001b[0m\n\u001b[1;32m   2646\u001b[0m                 \u001b[0;32mreturn\u001b[0m \u001b[0mself\u001b[0m\u001b[0;34m.\u001b[0m\u001b[0m_engine\u001b[0m\u001b[0;34m.\u001b[0m\u001b[0mget_loc\u001b[0m\u001b[0;34m(\u001b[0m\u001b[0mkey\u001b[0m\u001b[0;34m)\u001b[0m\u001b[0;34m\u001b[0m\u001b[0;34m\u001b[0m\u001b[0m\n\u001b[1;32m   2647\u001b[0m             \u001b[0;32mexcept\u001b[0m \u001b[0mKeyError\u001b[0m\u001b[0;34m:\u001b[0m\u001b[0;34m\u001b[0m\u001b[0;34m\u001b[0m\u001b[0m\n\u001b[0;32m-> 2648\u001b[0;31m                 \u001b[0;32mreturn\u001b[0m \u001b[0mself\u001b[0m\u001b[0;34m.\u001b[0m\u001b[0m_engine\u001b[0m\u001b[0;34m.\u001b[0m\u001b[0mget_loc\u001b[0m\u001b[0;34m(\u001b[0m\u001b[0mself\u001b[0m\u001b[0;34m.\u001b[0m\u001b[0m_maybe_cast_indexer\u001b[0m\u001b[0;34m(\u001b[0m\u001b[0mkey\u001b[0m\u001b[0;34m)\u001b[0m\u001b[0;34m)\u001b[0m\u001b[0;34m\u001b[0m\u001b[0;34m\u001b[0m\u001b[0m\n\u001b[0m\u001b[1;32m   2649\u001b[0m         \u001b[0mindexer\u001b[0m \u001b[0;34m=\u001b[0m \u001b[0mself\u001b[0m\u001b[0;34m.\u001b[0m\u001b[0mget_indexer\u001b[0m\u001b[0;34m(\u001b[0m\u001b[0;34m[\u001b[0m\u001b[0mkey\u001b[0m\u001b[0;34m]\u001b[0m\u001b[0;34m,\u001b[0m \u001b[0mmethod\u001b[0m\u001b[0;34m=\u001b[0m\u001b[0mmethod\u001b[0m\u001b[0;34m,\u001b[0m \u001b[0mtolerance\u001b[0m\u001b[0;34m=\u001b[0m\u001b[0mtolerance\u001b[0m\u001b[0;34m)\u001b[0m\u001b[0;34m\u001b[0m\u001b[0;34m\u001b[0m\u001b[0m\n\u001b[1;32m   2650\u001b[0m         \u001b[0;32mif\u001b[0m \u001b[0mindexer\u001b[0m\u001b[0;34m.\u001b[0m\u001b[0mndim\u001b[0m \u001b[0;34m>\u001b[0m \u001b[0;36m1\u001b[0m \u001b[0;32mor\u001b[0m \u001b[0mindexer\u001b[0m\u001b[0;34m.\u001b[0m\u001b[0msize\u001b[0m \u001b[0;34m>\u001b[0m \u001b[0;36m1\u001b[0m\u001b[0;34m:\u001b[0m\u001b[0;34m\u001b[0m\u001b[0;34m\u001b[0m\u001b[0m\n",
      "\u001b[0;32mpandas/_libs/index.pyx\u001b[0m in \u001b[0;36mpandas._libs.index.IndexEngine.get_loc\u001b[0;34m()\u001b[0m\n",
      "\u001b[0;32mpandas/_libs/index.pyx\u001b[0m in \u001b[0;36mpandas._libs.index.IndexEngine.get_loc\u001b[0;34m()\u001b[0m\n",
      "\u001b[0;32mpandas/_libs/hashtable_class_helper.pxi\u001b[0m in \u001b[0;36mpandas._libs.hashtable.PyObjectHashTable.get_item\u001b[0;34m()\u001b[0m\n",
      "\u001b[0;32mpandas/_libs/hashtable_class_helper.pxi\u001b[0m in \u001b[0;36mpandas._libs.hashtable.PyObjectHashTable.get_item\u001b[0;34m()\u001b[0m\n",
      "\u001b[0;31mKeyError\u001b[0m: 'MP_term'"
     ]
    }
   ],
   "source": [
    "len(set(hpo2mp['MPO_URI'].values).intersection(\n",
    "                                set(MASTER_G2P_fixed['MP_term'].values)))"
   ]
  },
  {
   "cell_type": "code",
   "execution_count": 46,
   "metadata": {},
   "outputs": [
    {
     "data": {
      "text/plain": [
       "(462,)"
      ]
     },
     "execution_count": 46,
     "metadata": {},
     "output_type": "execute_result"
    }
   ],
   "source": [
    "hpo2mp['MPO_URI'].unique().shape"
   ]
  },
  {
   "cell_type": "code",
   "execution_count": 47,
   "metadata": {},
   "outputs": [
    {
     "data": {
      "text/plain": [
       "[]"
      ]
     },
     "execution_count": 47,
     "metadata": {},
     "output_type": "execute_result"
    }
   ],
   "source": [
    "[i for i in hpo2mp['MPO_URI'].unique() if ':' not in i]"
   ]
  },
  {
   "cell_type": "code",
   "execution_count": 101,
   "metadata": {},
   "outputs": [
    {
     "data": {
      "text/plain": [
       "429"
      ]
     },
     "execution_count": 101,
     "metadata": {},
     "output_type": "execute_result"
    }
   ],
   "source": [
    "both = []\n",
    "\n",
    "for i in hpo2mp['MPO_URI'].unique():\n",
    "    if i in MASTER_G2P_fixed['MP_term'].unique():\n",
    "        both.append(i)\n",
    "\n",
    "len(both)"
   ]
  },
  {
   "cell_type": "markdown",
   "metadata": {},
   "source": [
    "Not really...only 2 more"
   ]
  },
  {
   "cell_type": "code",
   "execution_count": 117,
   "metadata": {},
   "outputs": [
    {
     "data": {
      "text/plain": [
       "(234054, 2)"
      ]
     },
     "execution_count": 117,
     "metadata": {},
     "output_type": "execute_result"
    }
   ],
   "source": [
    "MASTER_G2P_fixed['Gene'].isna().sum()"
   ]
  },
  {
   "cell_type": "code",
   "execution_count": null,
   "metadata": {},
   "outputs": [],
   "source": []
  },
  {
   "cell_type": "code",
   "execution_count": null,
   "metadata": {},
   "outputs": [],
   "source": [
    "x=dict(Counter(df['marker_symbol'].values))\n",
    "\n",
    "allele_freq = {k: v for k, v in sorted(x.items(), key=lambda item: item[1], reverse=True)}\n",
    "\n",
    "n=16\n",
    "keys = list(allele_freq.keys())[:n]\n",
    "values = list(allele_freq.values())[:n]\n",
    "plt.figure(figsize=(10,4))\n",
    "plt.bar(keys, values)\n",
    "plt.xticks(fontsize=15,rotation=40)\n",
    "plt.grid(alpha=.3)\n",
    "plt.title('Genes with the most Allele Entries in IMPC')"
   ]
  },
  {
   "cell_type": "code",
   "execution_count": null,
   "metadata": {},
   "outputs": [],
   "source": [
    "#### Use Regex to search for specific phenotype groups so we can see which phenotypes we have\n",
    "HEART_QUERY = 'heart|cardiac'\n",
    "KIDNEY_QUERY = 'kidney'\n",
    "BRAIN_QUERY = 'brain|nervous'\n",
    "STRUCTURAL_QUERY = 'structural'\n",
    "CANCER_QUERY = 'cancer|neoplasm|neoplasia'\n",
    "BONE_QUERY = 'bone'\n",
    "LUNG_QUERY = 'lung|pulmonary'\n",
    "DEVELOPMENT_QUERY = 'development|embryo|gestation|fetus|fetal'\n",
    "\n",
    "heart_mask = pd.DataFrame(overlap['MPO_LABEL']).apply(lambda x: x.str.contains(HEART_QUERY,regex=True,flags=re.IGNORECASE)).any(axis=1)\n",
    "kidney_mask = pd.DataFrame(overlap['MPO_LABEL']).apply(lambda x: x.str.contains(KIDNEY_QUERY,regex=True,flags=re.IGNORECASE)).any(axis=1)\n",
    "brain_mask = pd.DataFrame(overlap['MPO_LABEL']).apply(lambda x: x.str.contains(BRAIN_QUERY,regex=True,flags=re.IGNORECASE)).any(axis=1)\n",
    "struct_mask = pd.DataFrame(overlap['MPO_LABEL']).apply(lambda x: x.str.contains(STRUCTURAL_QUERY,regex=True,flags=re.IGNORECASE)).any(axis=1)\n",
    "cancer_mask = pd.DataFrame(overlap['MPO_LABEL']).apply(lambda x: x.str.contains(CANCER_QUERY,regex=True,flags=re.IGNORECASE)).any(axis=1)\n",
    "bone_mask = pd.DataFrame(overlap['MPO_LABEL']).apply(lambda x: x.str.contains(BONE_QUERY,regex=True,flags=re.IGNORECASE)).any(axis=1)\n",
    "lung_mask = pd.DataFrame(overlap['MPO_LABEL']).apply(lambda x: x.str.contains(LUNG_QUERY,regex=True,flags=re.IGNORECASE)).any(axis=1)\n",
    "dev_mask =  pd.DataFrame(overlap['MPO_LABEL']).apply(lambda x: x.str.contains(DEVELOPMENT_QUERY,regex=True,flags=re.IGNORECASE)).any(axis=1)\n",
    "\n",
    "#list(overlap['MPO_LABEL'][heart_mask])\n",
    "#list(overlap['MPO_LABEL'][kidney_mask])\n",
    "#list(overlap['MPO_LABEL'][brain_mask])\n",
    "\n"
   ]
  }
 ],
 "metadata": {
  "kernelspec": {
   "display_name": "Python 3 (ipykernel)",
   "language": "python",
   "name": "python3"
  },
  "language_info": {
   "codemirror_mode": {
    "name": "ipython",
    "version": 3
   },
   "file_extension": ".py",
   "mimetype": "text/x-python",
   "name": "python",
   "nbconvert_exporter": "python",
   "pygments_lexer": "ipython3",
   "version": "3.10.11"
  }
 },
 "nbformat": 4,
 "nbformat_minor": 2
}
