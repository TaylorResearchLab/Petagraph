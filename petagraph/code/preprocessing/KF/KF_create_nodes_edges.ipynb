{
 "cells": [
  {
   "cell_type": "markdown",
   "metadata": {},
   "source": [
    "# This notebook was converted from the create_nodes_edges zeppelin (.zpln) notebook with a command line tool. This was only done so I could put the workflow on github (github cannot render zeppelin notebooks)."
   ]
  },
  {
   "cell_type": "markdown",
   "metadata": {},
   "source": [
    "# Run this notebook after running get_variants and producing the chromosome files in merged_snps/"
   ]
  },
  {
   "cell_type": "code",
   "execution_count": 1,
   "metadata": {
    "autoscroll": "auto"
   },
   "outputs": [],
   "source": [
    "import pandas as pd\n",
    "import numpy as np\n",
    "\n",
    "def fill_missing_cols(df):\n",
    "    if 'node_id' not in df.columns:\n",
    "        raise ValueError('Must have at least a \"node_id\" column.')\n",
    "        \n",
    "    all_cols = set([ 'node_label', 'node_synonyms', 'node_dbxrefs',\n",
    "            'node_definition','node_namespace','value','lowerbound','upperbound','unit'])\n",
    "   \n",
    "    missing_cols = list(all_cols - set(df.columns))\n",
    "    nan_cols_df = pd.DataFrame(np.full([len(df), len(missing_cols)], np.nan),columns=missing_cols)\n",
    "    nan_cols_df.index = df.index\n",
    "    return pd.concat([df,nan_cols_df],axis=1)\n",
    "    "
   ]
  },
  {
   "cell_type": "raw",
   "metadata": {
    "format": "text/plain"
   },
   "source": [
    "%sh\n",
    "cd ~/.sevenbridges/\n",
    "if [[ -e 'credentials' ]]; then mv credentials credentials.bak; fi\n",
    "cat << EOF > credentials\n",
    "[default]\n",
    "api_endpoint = https://cavatica-api.sbgenomics.com/v2\n",
    "auth_token   = ''\n",
    "EOF\n"
   ]
  },
  {
   "cell_type": "raw",
   "metadata": {
    "format": "text/plain"
   },
   "source": [
    "%sh\n",
    "cd ~\n",
    "if ! [[ -x 'sbfs' ]]; then curl https://igor.sbgenomics.com/downloads/sbfs/linux-amd64/sbfs -O; chmod 755 sbfs; fi"
   ]
  },
  {
   "cell_type": "raw",
   "metadata": {
    "format": "text/plain"
   },
   "source": [
    "%sh\n",
    "cd ~\n",
    "! [[ -x 'cavatica' ]] && mkdir ~/cavatica\n",
    "[[ \"$(ls -A ~/cavatica)\" ]] || ~/sbfs mount ~/cavatica\n",
    "echo 'Wait until mounting is done ...'\n",
    "while [[ -e ~/cavatica/mount_status ]]; do sleep 1; done\n",
    "ls -l ~/cavatica/projects/"
   ]
  },
  {
   "cell_type": "raw",
   "metadata": {
    "format": "text/plain"
   },
   "source": [
    "%sh\n",
    "aws s3 ls s3://kf-strides-variant-parquet-prd/notebooks/5175e6e3-c3d7-4c19-b51f-6f1ea4dd3700/DataDistillery/merged_snps/"
   ]
  },
  {
   "cell_type": "code",
   "execution_count": 6,
   "metadata": {
    "autoscroll": "auto"
   },
   "outputs": [],
   "source": [
    "#merged_all = spark.read.parquet('s3a://kf-strides-variant-parquet-prd/notebooks/5175e6e3-c3d7-4c19-b51f-6f1ea4dd3700/DataDistillery/merged_snps/*.parquet')\n",
    "#print(merged_all.count())\n",
    "#merged_all.show()"
   ]
  },
  {
   "cell_type": "code",
   "execution_count": 7,
   "metadata": {
    "autoscroll": "auto"
   },
   "outputs": [],
   "source": [
    "CHD_merged_genes_inner = spark.read.parquet('s3a://kf-strides-variant-parquet-prd/notebooks/5175e6e3-c3d7-4c19-b51f-6f1ea4dd3700/DataDistillery/CHD_merged_genes_inner.parquet')\n",
    "print(CHD_merged_genes_inner.count())\n",
    "CHD_merged_genes_inner.show()"
   ]
  },
  {
   "cell_type": "code",
   "execution_count": 8,
   "metadata": {
    "autoscroll": "auto"
   },
   "outputs": [],
   "source": [
    "CHD_merged_genes_inner = CHD_merged_genes_inner.drop_duplicates()\n",
    "CHD_merged_genes_inner.count()"
   ]
  },
  {
   "cell_type": "code",
   "execution_count": 9,
   "metadata": {
    "autoscroll": "auto"
   },
   "outputs": [],
   "source": [
    "# load in gene symbol to hgnc code mappings\n",
    "hgnc_master = pd.read_csv('~/cavatica/projects/taylordm/taylor-urbs-r03-kf-cardiac/hgnc_master.txt',sep='\\t')\n",
    "hgnc_master_merge_cols = hgnc_master[['hgnc_id','symbol']]"
   ]
  },
  {
   "cell_type": "code",
   "execution_count": 10,
   "metadata": {
    "autoscroll": "auto"
   },
   "outputs": [],
   "source": [
    "#CHD_merged_genes_inner.show()\n",
    "\n",
    "gb = CHD_merged_genes_inner.groupBy('symbol').count().orderBy('count', ascending=False).toPandas()\n",
    "gb"
   ]
  },
  {
   "cell_type": "code",
   "execution_count": 11,
   "metadata": {
    "autoscroll": "auto"
   },
   "outputs": [],
   "source": [
    "#merged_all = spark.read.parquet(f\"s3a://kf-strides-variant-parquet-prd/notebooks/5175e6e3-c3d7-4c19-b51f-6f1ea4dd3700/DataDistillery/CHD_merged_genes.parquet\")\n",
    "#gb = merged_all.groupBy('node_id').count().orderBy('count', ascending=False).toPandas()\n"
   ]
  },
  {
   "cell_type": "code",
   "execution_count": 12,
   "metadata": {
    "autoscroll": "auto"
   },
   "outputs": [],
   "source": [
    "#merged_df[merged_df['ensembl_gene_id']!=None]\n",
    "#merged_df['ensembl_gene_id'] =\n",
    "#merged_df[[True if type(i)==str else False for i in merged_df['ensembl_gene_id'] ]]\n"
   ]
  },
  {
   "cell_type": "code",
   "execution_count": 13,
   "metadata": {
    "autoscroll": "auto"
   },
   "outputs": [],
   "source": [
    "#merged_all_genes = spark.read.parquet(f\"s3a://kf-strides-variant-parquet-prd/notebooks/5175e6e3-c3d7-4c19-b51f-6f1ea4dd3700/DataDistillery/CHD_merged_genes.parquet\")\n"
   ]
  },
  {
   "cell_type": "code",
   "execution_count": 14,
   "metadata": {
    "autoscroll": "auto"
   },
   "outputs": [],
   "source": [
    "# format code nodes (for KFVARBINS nodes, which are connected to CHLO nodes)\n",
    "\n",
    "#gb['node_id'] = ['CHLO ' + i.replace(':','.') for i in gb['node_id']]\n",
    "#gb['KFVARBIN_CodeID'] = ['KFVARBIN '+i.replace(':','.').split(' ')[-1] for i in gb['node_id']]\n",
    "#gb.head(5)\n"
   ]
  },
  {
   "cell_type": "code",
   "execution_count": 15,
   "metadata": {
    "autoscroll": "auto"
   },
   "outputs": [],
   "source": [
    "gb = pd.merge(gb,hgnc_master_merge_cols)"
   ]
  },
  {
   "cell_type": "code",
   "execution_count": 16,
   "metadata": {
    "autoscroll": "auto"
   },
   "outputs": [],
   "source": [
    "gb"
   ]
  },
  {
   "cell_type": "code",
   "execution_count": 17,
   "metadata": {
    "autoscroll": "auto"
   },
   "outputs": [],
   "source": [
    "# format code nodes for KFGENEBINS nodes, which are connected to HGNC nodes)\n",
    "\n",
    "gb['node_id'] = [i.replace(':','-')+'-variant-count' for i in gb['symbol']]        #['CHLO ' + i.replace(':','.') for i in gb['node_id']]\n",
    "gb['KFGENEBIN_CodeID'] = ['KFGENEBIN '+i for i in gb['node_id']]\n",
    "gb.head(5)"
   ]
  },
  {
   "cell_type": "code",
   "execution_count": 18,
   "metadata": {
    "autoscroll": "auto"
   },
   "outputs": [],
   "source": [
    "# Every bin will show up at least once?\n",
    "#gb = gb[gb['count'] > 1]\n",
    "#print(len(gb))"
   ]
  },
  {
   "cell_type": "code",
   "execution_count": 19,
   "metadata": {
    "autoscroll": "auto"
   },
   "outputs": [],
   "source": [
    "nodes = gb[['KFGENEBIN_CodeID','count']].rename(columns={'KFGENEBIN_CodeID':'node_id','count':'value'})\n",
    "nodes = fill_missing_cols(nodes)"
   ]
  },
  {
   "cell_type": "code",
   "execution_count": 20,
   "metadata": {
    "autoscroll": "auto"
   },
   "outputs": [],
   "source": [
    "#name_id_df = spark.table('studies').select(['kf_id','short_name','short_code'])\n",
    "#name_id_df.toPandas().to_csv('~/cavatica/projects/taylordm/taylor-urbs-r03-kf-cardiac/DataDistillery/KF_study_id_name_mapping.txt',sep='\\t',index=False)"
   ]
  },
  {
   "cell_type": "code",
   "execution_count": 21,
   "metadata": {
    "autoscroll": "auto"
   },
   "outputs": [],
   "source": [
    "gb['HGNC_CodeID'] = ['HGNC ' + i for i in gb['hgnc_id']]"
   ]
  },
  {
   "cell_type": "code",
   "execution_count": 22,
   "metadata": {
    "autoscroll": "auto"
   },
   "outputs": [],
   "source": [
    "# Define edges\n",
    "gb['predicate'] = 'gene_has_variants'\n",
    "edges = gb[['KFGENEBIN_CodeID','predicate','HGNC_CodeID']]\n",
    "edges.columns = ['subject','predicate','object']\n"
   ]
  },
  {
   "cell_type": "code",
   "execution_count": 23,
   "metadata": {
    "autoscroll": "auto"
   },
   "outputs": [],
   "source": [
    "# Define relationships to cohort \n",
    "gb['KFCOHORT_CodeID'] = 'KFCOHORT SD-PREASA7S'  \n",
    "gb['KFCOHORT_node_label'] = 'Kids First: Congenital Heart Defects'\n",
    "gb['cohort_predicate'] = 'belongs_to_cohort'\n",
    "\n",
    "edges_cohort = gb[['KFGENEBIN_CodeID','cohort_predicate','KFCOHORT_CodeID']]\n",
    "edges_cohort.columns = ['subject','predicate','object']\n",
    "\n",
    "edges_all = pd.concat([edges,edges_cohort])\n"
   ]
  },
  {
   "cell_type": "code",
   "execution_count": 24,
   "metadata": {
    "autoscroll": "auto"
   },
   "outputs": [],
   "source": [
    "from collections import Counter\n",
    "Counter([i.split(' ')[0] for i in edges_all['subject']])"
   ]
  },
  {
   "cell_type": "code",
   "execution_count": 25,
   "metadata": {
    "autoscroll": "auto"
   },
   "outputs": [],
   "source": [
    "Counter([i.split(' ')[0] for i in edges_all['object']])"
   ]
  },
  {
   "cell_type": "code",
   "execution_count": 26,
   "metadata": {
    "autoscroll": "auto"
   },
   "outputs": [],
   "source": [
    "edges_all = edges_all.drop_duplicates().reset_index(drop=True)\n",
    "edges_all.to_pickle('~/cavatica/projects/taylordm/taylor-urbs-r03-kf-cardiac/DataDistillery/OWLNETS_edgelist.pickle')"
   ]
  },
  {
   "cell_type": "code",
   "execution_count": 27,
   "metadata": {
    "autoscroll": "auto"
   },
   "outputs": [],
   "source": []
  },
  {
   "cell_type": "code",
   "execution_count": 28,
   "metadata": {
    "autoscroll": "auto"
   },
   "outputs": [],
   "source": [
    "edges_all.to_csv('~/cavatica/projects/taylordm/taylor-urbs-r03-kf-cardiac/DataDistillery/OWLNETS_edgelist.txt',sep='\\t',index=False)"
   ]
  },
  {
   "cell_type": "code",
   "execution_count": 29,
   "metadata": {
    "autoscroll": "auto"
   },
   "outputs": [],
   "source": [
    "nodes_cohort = fill_missing_cols(gb[['KFCOHORT_CodeID','KFCOHORT_node_label']].rename(columns={'KFCOHORT_CodeID':'node_id',\n",
    "                                                                                                'KFCOHORT_node_label':'node_label'}).drop_duplicates())\n",
    "nodes_cohort                                                                                                "
   ]
  },
  {
   "cell_type": "code",
   "execution_count": 30,
   "metadata": {
    "autoscroll": "auto"
   },
   "outputs": [],
   "source": [
    "nodes['value'] = nodes['value'].astype(int)"
   ]
  },
  {
   "cell_type": "code",
   "execution_count": 31,
   "metadata": {
    "autoscroll": "auto"
   },
   "outputs": [],
   "source": [
    "nodes_all = pd.concat([nodes,nodes_cohort]).drop_duplicates().reset_index(drop=True)\n",
    "nodes_all = nodes_all.drop_duplicates().reset_index(drop=True)"
   ]
  },
  {
   "cell_type": "code",
   "execution_count": 32,
   "metadata": {
    "autoscroll": "auto"
   },
   "outputs": [],
   "source": [
    "Counter([i.split(' ')[0] for i in nodes_all['node_id']])"
   ]
  },
  {
   "cell_type": "code",
   "execution_count": 33,
   "metadata": {
    "autoscroll": "auto"
   },
   "outputs": [],
   "source": [
    "nodes_all.to_csv('~/cavatica/projects/taylordm/taylor-urbs-r03-kf-cardiac/DataDistillery/OWLNETS_node_metadata.txt',sep='\\t',index=False)"
   ]
  },
  {
   "cell_type": "code",
   "execution_count": 34,
   "metadata": {
    "autoscroll": "auto"
   },
   "outputs": [],
   "source": [
    "nodes_all #.toPandas()"
   ]
  },
  {
   "cell_type": "code",
   "execution_count": 35,
   "metadata": {
    "autoscroll": "auto"
   },
   "outputs": [],
   "source": [
    "nodes_all"
   ]
  },
  {
   "cell_type": "code",
   "execution_count": 36,
   "metadata": {
    "autoscroll": "auto"
   },
   "outputs": [],
   "source": []
  }
 ],
 "metadata": {
  "kernelspec": {
   "display_name": "Python 3 (ipykernel)",
   "language": "python",
   "name": "python3"
  },
  "language_info": {
   "codemirror_mode": {
    "name": "ipython",
    "version": 3
   },
   "file_extension": ".py",
   "mimetype": "text/x-python",
   "name": "python",
   "nbconvert_exporter": "python",
   "pygments_lexer": "ipython3",
   "version": "3.10.11"
  }
 },
 "nbformat": 4,
 "nbformat_minor": 2
}
