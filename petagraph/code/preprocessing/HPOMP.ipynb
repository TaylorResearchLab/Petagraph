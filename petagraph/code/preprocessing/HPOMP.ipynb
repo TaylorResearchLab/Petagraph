{
 "cells": [
  {
   "cell_type": "code",
   "execution_count": 1,
   "metadata": {},
   "outputs": [],
   "source": [
    "import pandas as pd\n",
    "import numpy as np\n",
    "import hashlib\n",
    "import base64\n",
    "from collections import Counter\n",
    "import warnings\n",
    "warnings.filterwarnings('ignore')"
   ]
  },
  {
   "cell_type": "markdown",
   "metadata": {},
   "source": [
    "# Preprocessing notebook for PheKnowLator's Human Phenotype Ontology (HPO) - Mouse Phenotype (MP) Ontology mappings"
   ]
  },
  {
   "cell_type": "code",
   "execution_count": 2,
   "metadata": {},
   "outputs": [],
   "source": [
    "#!jupyter nbconvert --to script tiffanys_mappings_JS.ipynb"
   ]
  },
  {
   "cell_type": "code",
   "execution_count": 26,
   "metadata": {},
   "outputs": [],
   "source": [
    "def fill_missing_cols(df):\n",
    "    \n",
    "    if 'node_id' not in df.columns: \n",
    "        raise ValueError('Must have at least a \"node_id\" column.')\n",
    "        \n",
    "    all_cols = set([ 'node_label', 'node_synonyms', 'node_dbxrefs',\n",
    "            'node_definition','node_namespace','value','lowerbound','upperbound','unit'])\n",
    "    \n",
    "    missing_cols = list(all_cols - set(df.columns))\n",
    "    nan_cols_df = pd.DataFrame(np.full([len(df), len(missing_cols)], np.nan),columns=missing_cols)\n",
    "\n",
    "    if isinstance(df, pd.DataFrame):\n",
    "        nan_cols_df.index = df.index\n",
    "        return pd.concat([df,nan_cols_df],axis=1)\n",
    "    elif isinstance(df, pl.DataFrame):\n",
    "        # no index for polars\n",
    "        return pl.concat([df,pl.from_pandas(nan_cols_df)],how='horizontal')\n",
    "    else:\n",
    "        raise ValueError(f'Must Pass either a pandas DataFrame or a polars DataFrame but recieved \"{type(df)}\".')\n"
   ]
  },
  {
   "cell_type": "markdown",
   "metadata": {},
   "source": [
    "# This Notebook creates relationships between HPO and MP Concept nodes\n",
    "\n",
    "# The end of this workflow is different from the original tiffanys_mappings.ipynb notebook located in /Users/stearb/Dropbox/CHOP/R03/code/phenotype_mapping, we are using Jonathan Silversteins workflow for the Neo4j CSV creation (meaning the files produced by this workflow will be the inputs into JS's workflow) ...so we only need to create 2 files, a nodes.tsv and an edges.tsv (instead of the ~6 files, CUIs, CUI-CUIs, Code-CUIs, Terms, etc.)\n",
    "\n",
    "## The guide for how to create these new nodes and edges files can be found in the Data Distillerys [github](https://ubkg.docs.xconsortia.org/formats/)"
   ]
  },
  {
   "cell_type": "code",
   "execution_count": 3,
   "metadata": {
    "collapsed": true
   },
   "outputs": [
    {
     "data": {
      "text/html": [
       "<div>\n",
       "<style scoped>\n",
       "    .dataframe tbody tr th:only-of-type {\n",
       "        vertical-align: middle;\n",
       "    }\n",
       "\n",
       "    .dataframe tbody tr th {\n",
       "        vertical-align: top;\n",
       "    }\n",
       "\n",
       "    .dataframe thead th {\n",
       "        text-align: right;\n",
       "    }\n",
       "</style>\n",
       "<table border=\"1\" class=\"dataframe\">\n",
       "  <thead>\n",
       "    <tr style=\"text-align: right;\">\n",
       "      <th></th>\n",
       "      <th>HP_ID</th>\n",
       "      <th>HP_LABEL</th>\n",
       "      <th>HP_SYNONYM</th>\n",
       "      <th>MPO_URI</th>\n",
       "      <th>MPO_LABEL</th>\n",
       "      <th>MPO_MAPPING</th>\n",
       "      <th>MPO_EVIDENCE</th>\n",
       "    </tr>\n",
       "  </thead>\n",
       "  <tbody>\n",
       "    <tr>\n",
       "      <th>0</th>\n",
       "      <td>HP_0000011</td>\n",
       "      <td>neurogenic bladder</td>\n",
       "      <td>lack of bladder control due to nervous system ...</td>\n",
       "      <td>MP_0005302</td>\n",
       "      <td>neurogenic bladder</td>\n",
       "      <td>Automatic Exact Concept</td>\n",
       "      <td>MPO_LABEL-HPO_CONCEPT_LABEL:neurogenic bladder...</td>\n",
       "    </tr>\n",
       "    <tr>\n",
       "      <th>1</th>\n",
       "      <td>HP_0000023</td>\n",
       "      <td>inguinal hernia</td>\n",
       "      <td>NaN</td>\n",
       "      <td>MP_0006077</td>\n",
       "      <td>inguinal hernia</td>\n",
       "      <td>Automatic Exact Concept</td>\n",
       "      <td>MPO_LABEL-HPO_CONCEPT_LABEL:inguinal hernia | ...</td>\n",
       "    </tr>\n",
       "    <tr>\n",
       "      <th>2</th>\n",
       "      <td>HP_0000028</td>\n",
       "      <td>cryptorchidism</td>\n",
       "      <td>undescended testes | undescended testis | cryp...</td>\n",
       "      <td>MP_0002286</td>\n",
       "      <td>cryptorchism</td>\n",
       "      <td>Automatic Exact Concept</td>\n",
       "      <td>MPO_LABEL-HPO_CONCEPT_SYNONYM_hasExactSynonym:...</td>\n",
       "    </tr>\n",
       "    <tr>\n",
       "      <th>3</th>\n",
       "      <td>HP_0000033</td>\n",
       "      <td>ambiguous genitalia, male</td>\n",
       "      <td>ambiguous genitalia in males</td>\n",
       "      <td>MP_0002160 | MP_0001145</td>\n",
       "      <td>abnormal reproductive system morphology | abno...</td>\n",
       "      <td>Automatic Constructor Ancestor</td>\n",
       "      <td>MPO_LABEL-HPO_ANCESTOR_LABEL:abnormal reproduc...</td>\n",
       "    </tr>\n",
       "  </tbody>\n",
       "</table>\n",
       "</div>"
      ],
      "text/plain": [
       "        HP_ID                   HP_LABEL   \n",
       "0  HP_0000011         neurogenic bladder  \\\n",
       "1  HP_0000023            inguinal hernia   \n",
       "2  HP_0000028             cryptorchidism   \n",
       "3  HP_0000033  ambiguous genitalia, male   \n",
       "\n",
       "                                          HP_SYNONYM                  MPO_URI   \n",
       "0  lack of bladder control due to nervous system ...               MP_0005302  \\\n",
       "1                                                NaN               MP_0006077   \n",
       "2  undescended testes | undescended testis | cryp...               MP_0002286   \n",
       "3                       ambiguous genitalia in males  MP_0002160 | MP_0001145   \n",
       "\n",
       "                                           MPO_LABEL   \n",
       "0                                 neurogenic bladder  \\\n",
       "1                                    inguinal hernia   \n",
       "2                                       cryptorchism   \n",
       "3  abnormal reproductive system morphology | abno...   \n",
       "\n",
       "                      MPO_MAPPING   \n",
       "0         Automatic Exact Concept  \\\n",
       "1         Automatic Exact Concept   \n",
       "2         Automatic Exact Concept   \n",
       "3  Automatic Constructor Ancestor   \n",
       "\n",
       "                                        MPO_EVIDENCE  \n",
       "0  MPO_LABEL-HPO_CONCEPT_LABEL:neurogenic bladder...  \n",
       "1  MPO_LABEL-HPO_CONCEPT_LABEL:inguinal hernia | ...  \n",
       "2  MPO_LABEL-HPO_CONCEPT_SYNONYM_hasExactSynonym:...  \n",
       "3  MPO_LABEL-HPO_ANCESTOR_LABEL:abnormal reproduc...  "
      ]
     },
     "execution_count": 3,
     "metadata": {},
     "output_type": "execute_result"
    }
   ],
   "source": [
    "df=pd.read_excel('/Users/stearb/desktop/DESKTOP_TRANSFER/R03_local/data/tiffany_mappings/KF_HPO_OBO2OBOMappings_Aggregated_20DEC2020.xlsx',                                                            sheet_name='KF_OMOP2OBMappings_20Dec2020')\n",
    "df.head(4)"
   ]
  },
  {
   "cell_type": "code",
   "execution_count": 4,
   "metadata": {},
   "outputs": [
    {
     "data": {
      "text/plain": [
       "0                  [MP:0005302]\n",
       "1                  [MP:0006077]\n",
       "2                  [MP:0002286]\n",
       "3    [MP:0002160 ,  MP:0001145]\n",
       "4                  [MP:0003623]\n",
       "Name: MPO_URI, dtype: object"
      ]
     },
     "execution_count": 4,
     "metadata": {},
     "output_type": "execute_result"
    }
   ],
   "source": [
    "# Replace _ with :\n",
    "df['HP_ID']  = df['HP_ID'].str.replace('_', ':')\n",
    "df['MPO_URI']  = df['MPO_URI'].str.replace('_', ':')\n",
    "\n",
    "\n",
    "# Splitby '|' so we can  have one HPO term and one MP term per row so we can upload to neo4j database.\n",
    "df['MPO_URI'] = df['MPO_URI'].str.split('|')\n",
    "df['MPO_URI'].head(5)"
   ]
  },
  {
   "cell_type": "code",
   "execution_count": 6,
   "metadata": {},
   "outputs": [
    {
     "data": {
      "text/html": [
       "<div>\n",
       "<style scoped>\n",
       "    .dataframe tbody tr th:only-of-type {\n",
       "        vertical-align: middle;\n",
       "    }\n",
       "\n",
       "    .dataframe tbody tr th {\n",
       "        vertical-align: top;\n",
       "    }\n",
       "\n",
       "    .dataframe thead th {\n",
       "        text-align: right;\n",
       "    }\n",
       "</style>\n",
       "<table border=\"1\" class=\"dataframe\">\n",
       "  <thead>\n",
       "    <tr style=\"text-align: right;\">\n",
       "      <th></th>\n",
       "      <th>HP_ID</th>\n",
       "      <th>HP_LABEL</th>\n",
       "      <th>HP_SYNONYM</th>\n",
       "      <th>MPO_URI</th>\n",
       "      <th>MPO_LABEL</th>\n",
       "      <th>MPO_MAPPING</th>\n",
       "      <th>MPO_EVIDENCE</th>\n",
       "    </tr>\n",
       "  </thead>\n",
       "  <tbody>\n",
       "    <tr>\n",
       "      <th>0</th>\n",
       "      <td>HP:0000011</td>\n",
       "      <td>neurogenic bladder</td>\n",
       "      <td>lack of bladder control due to nervous system ...</td>\n",
       "      <td>[MP:0005302]</td>\n",
       "      <td>neurogenic bladder</td>\n",
       "      <td>Automatic Exact Concept</td>\n",
       "      <td>MPO_LABEL-HPO_CONCEPT_LABEL:neurogenic bladder...</td>\n",
       "    </tr>\n",
       "    <tr>\n",
       "      <th>1</th>\n",
       "      <td>HP:0000023</td>\n",
       "      <td>inguinal hernia</td>\n",
       "      <td>NaN</td>\n",
       "      <td>[MP:0006077]</td>\n",
       "      <td>inguinal hernia</td>\n",
       "      <td>Automatic Exact Concept</td>\n",
       "      <td>MPO_LABEL-HPO_CONCEPT_LABEL:inguinal hernia | ...</td>\n",
       "    </tr>\n",
       "    <tr>\n",
       "      <th>2</th>\n",
       "      <td>HP:0000028</td>\n",
       "      <td>cryptorchidism</td>\n",
       "      <td>undescended testes | undescended testis | cryp...</td>\n",
       "      <td>[MP:0002286]</td>\n",
       "      <td>cryptorchism</td>\n",
       "      <td>Automatic Exact Concept</td>\n",
       "      <td>MPO_LABEL-HPO_CONCEPT_SYNONYM_hasExactSynonym:...</td>\n",
       "    </tr>\n",
       "    <tr>\n",
       "      <th>3</th>\n",
       "      <td>HP:0000033</td>\n",
       "      <td>ambiguous genitalia, male</td>\n",
       "      <td>ambiguous genitalia in males</td>\n",
       "      <td>[MP:0002160 ,  MP:0001145]</td>\n",
       "      <td>abnormal reproductive system morphology | abno...</td>\n",
       "      <td>Automatic Constructor Ancestor</td>\n",
       "      <td>MPO_LABEL-HPO_ANCESTOR_LABEL:abnormal reproduc...</td>\n",
       "    </tr>\n",
       "  </tbody>\n",
       "</table>\n",
       "</div>"
      ],
      "text/plain": [
       "        HP_ID                   HP_LABEL   \n",
       "0  HP:0000011         neurogenic bladder  \\\n",
       "1  HP:0000023            inguinal hernia   \n",
       "2  HP:0000028             cryptorchidism   \n",
       "3  HP:0000033  ambiguous genitalia, male   \n",
       "\n",
       "                                          HP_SYNONYM   \n",
       "0  lack of bladder control due to nervous system ...  \\\n",
       "1                                                NaN   \n",
       "2  undescended testes | undescended testis | cryp...   \n",
       "3                       ambiguous genitalia in males   \n",
       "\n",
       "                      MPO_URI   \n",
       "0                [MP:0005302]  \\\n",
       "1                [MP:0006077]   \n",
       "2                [MP:0002286]   \n",
       "3  [MP:0002160 ,  MP:0001145]   \n",
       "\n",
       "                                           MPO_LABEL   \n",
       "0                                 neurogenic bladder  \\\n",
       "1                                    inguinal hernia   \n",
       "2                                       cryptorchism   \n",
       "3  abnormal reproductive system morphology | abno...   \n",
       "\n",
       "                      MPO_MAPPING   \n",
       "0         Automatic Exact Concept  \\\n",
       "1         Automatic Exact Concept   \n",
       "2         Automatic Exact Concept   \n",
       "3  Automatic Constructor Ancestor   \n",
       "\n",
       "                                        MPO_EVIDENCE  \n",
       "0  MPO_LABEL-HPO_CONCEPT_LABEL:neurogenic bladder...  \n",
       "1  MPO_LABEL-HPO_CONCEPT_LABEL:inguinal hernia | ...  \n",
       "2  MPO_LABEL-HPO_CONCEPT_SYNONYM_hasExactSynonym:...  \n",
       "3  MPO_LABEL-HPO_ANCESTOR_LABEL:abnormal reproduc...  "
      ]
     },
     "execution_count": 6,
     "metadata": {},
     "output_type": "execute_result"
    }
   ],
   "source": [
    "df.head(4) # still have multiple MP"
   ]
  },
  {
   "cell_type": "code",
   "execution_count": 7,
   "metadata": {},
   "outputs": [],
   "source": [
    "# Unravel MPO_URI column\n",
    "df_ravel = pd.DataFrame(columns=df.columns)\n",
    "j=0\n",
    "\n",
    "for index, row in df.iterrows():    \n",
    "    if len(row['MPO_URI']) == 1:\n",
    "        df_ravel.loc[j] = row\n",
    "        j=j+1\n",
    "       \n",
    "    elif len(row['MPO_URI']) > 1:\n",
    "        current_row = row.drop(['MPO_URI']).T # Get all values except MPO_URI (which contains multiple terms)\n",
    "        \n",
    "        for MPO_TERM in row['MPO_URI']:\n",
    "            row_temp = current_row\n",
    "            mpo_formatted = pd.DataFrame([MPO_TERM],columns=['MPO_URI']).T\n",
    "            mpo_formatted = mpo_formatted[0]\n",
    "            new_row = row_temp._append(mpo_formatted).T # combine row_ with each MPO_URI and add them as new rows\n",
    "            new_row=new_row[list(df_ravel.columns)]\n",
    "\n",
    "            df_ravel.loc[j]  = np.ravel(new_row.T.values)\n",
    "            j=j+1\n",
    "            row_temp = 0\n"
   ]
  },
  {
   "cell_type": "code",
   "execution_count": 8,
   "metadata": {},
   "outputs": [
    {
     "data": {
      "text/html": [
       "<div>\n",
       "<style scoped>\n",
       "    .dataframe tbody tr th:only-of-type {\n",
       "        vertical-align: middle;\n",
       "    }\n",
       "\n",
       "    .dataframe tbody tr th {\n",
       "        vertical-align: top;\n",
       "    }\n",
       "\n",
       "    .dataframe thead th {\n",
       "        text-align: right;\n",
       "    }\n",
       "</style>\n",
       "<table border=\"1\" class=\"dataframe\">\n",
       "  <thead>\n",
       "    <tr style=\"text-align: right;\">\n",
       "      <th></th>\n",
       "      <th>HP_ID</th>\n",
       "      <th>HP_LABEL</th>\n",
       "      <th>HP_SYNONYM</th>\n",
       "      <th>MPO_URI</th>\n",
       "      <th>MPO_LABEL</th>\n",
       "      <th>MPO_MAPPING</th>\n",
       "      <th>MPO_EVIDENCE</th>\n",
       "    </tr>\n",
       "  </thead>\n",
       "  <tbody>\n",
       "    <tr>\n",
       "      <th>0</th>\n",
       "      <td>HP:0000011</td>\n",
       "      <td>neurogenic bladder</td>\n",
       "      <td>lack of bladder control due to nervous system ...</td>\n",
       "      <td>[MP:0005302]</td>\n",
       "      <td>neurogenic bladder</td>\n",
       "      <td>Automatic Exact Concept</td>\n",
       "      <td>MPO_LABEL-HPO_CONCEPT_LABEL:neurogenic bladder...</td>\n",
       "    </tr>\n",
       "    <tr>\n",
       "      <th>1</th>\n",
       "      <td>HP:0000023</td>\n",
       "      <td>inguinal hernia</td>\n",
       "      <td>NaN</td>\n",
       "      <td>[MP:0006077]</td>\n",
       "      <td>inguinal hernia</td>\n",
       "      <td>Automatic Exact Concept</td>\n",
       "      <td>MPO_LABEL-HPO_CONCEPT_LABEL:inguinal hernia | ...</td>\n",
       "    </tr>\n",
       "    <tr>\n",
       "      <th>2</th>\n",
       "      <td>HP:0000028</td>\n",
       "      <td>cryptorchidism</td>\n",
       "      <td>undescended testes | undescended testis | cryp...</td>\n",
       "      <td>[MP:0002286]</td>\n",
       "      <td>cryptorchism</td>\n",
       "      <td>Automatic Exact Concept</td>\n",
       "      <td>MPO_LABEL-HPO_CONCEPT_SYNONYM_hasExactSynonym:...</td>\n",
       "    </tr>\n",
       "  </tbody>\n",
       "</table>\n",
       "</div>"
      ],
      "text/plain": [
       "        HP_ID            HP_LABEL   \n",
       "0  HP:0000011  neurogenic bladder  \\\n",
       "1  HP:0000023     inguinal hernia   \n",
       "2  HP:0000028      cryptorchidism   \n",
       "\n",
       "                                          HP_SYNONYM       MPO_URI   \n",
       "0  lack of bladder control due to nervous system ...  [MP:0005302]  \\\n",
       "1                                                NaN  [MP:0006077]   \n",
       "2  undescended testes | undescended testis | cryp...  [MP:0002286]   \n",
       "\n",
       "            MPO_LABEL              MPO_MAPPING   \n",
       "0  neurogenic bladder  Automatic Exact Concept  \\\n",
       "1     inguinal hernia  Automatic Exact Concept   \n",
       "2        cryptorchism  Automatic Exact Concept   \n",
       "\n",
       "                                        MPO_EVIDENCE  \n",
       "0  MPO_LABEL-HPO_CONCEPT_LABEL:neurogenic bladder...  \n",
       "1  MPO_LABEL-HPO_CONCEPT_LABEL:inguinal hernia | ...  \n",
       "2  MPO_LABEL-HPO_CONCEPT_SYNONYM_hasExactSynonym:...  "
      ]
     },
     "execution_count": 8,
     "metadata": {},
     "output_type": "execute_result"
    }
   ],
   "source": [
    "df_ravel.head(3) # Need convert the MPO_URIs that are lists of length 1, to single string values"
   ]
  },
  {
   "cell_type": "code",
   "execution_count": 9,
   "metadata": {},
   "outputs": [
    {
     "data": {
      "text/plain": [
       "Counter({list: 443, str: 778})"
      ]
     },
     "execution_count": 9,
     "metadata": {},
     "output_type": "execute_result"
    }
   ],
   "source": [
    "# Some of the values in the MPO_URI column are strings and some are lists (of one string), \n",
    "# we need to make them all strings...\n",
    "Counter([type(i) for i in df_ravel['MPO_URI']])"
   ]
  },
  {
   "cell_type": "code",
   "execution_count": 10,
   "metadata": {},
   "outputs": [],
   "source": [
    "\n",
    "mp_fixed = []\n",
    "for i in df_ravel['MPO_URI']:\n",
    "    if len(i) == 1: # Length is 1 if its a list, otherwise it's the length of the string\n",
    "        mp_fixed.append(i[0])\n",
    "    else:\n",
    "        mp_fixed.append(i)\n",
    "\n",
    "assert df_ravel.shape[0] == len(mp_fixed)\n",
    "df_ravel['MPO_URI'] = mp_fixed"
   ]
  },
  {
   "cell_type": "code",
   "execution_count": 11,
   "metadata": {},
   "outputs": [
    {
     "data": {
      "text/plain": [
       "Counter({str: 1221})"
      ]
     },
     "execution_count": 11,
     "metadata": {},
     "output_type": "execute_result"
    }
   ],
   "source": [
    "# Now its fixed (all strings, no lists)\n",
    "Counter([type(i) for i in df_ravel['MPO_URI']])"
   ]
  },
  {
   "cell_type": "code",
   "execution_count": 12,
   "metadata": {},
   "outputs": [
    {
     "name": "stdout",
     "output_type": "stream",
     "text": [
      "Number of unique HPO terms: 719\n",
      "Number of unique MP terms: 602\n"
     ]
    }
   ],
   "source": [
    "print('Number of unique HPO terms: '+str(df_ravel['HP_ID'].unique().shape[0]))\n",
    "print('Number of unique MP terms: '+str(df_ravel['MPO_URI'].unique().shape[0]))"
   ]
  },
  {
   "cell_type": "code",
   "execution_count": 13,
   "metadata": {},
   "outputs": [],
   "source": [
    "df_ravel.drop(['MPO_MAPPING','MPO_EVIDENCE'],axis=1,inplace=True) # Remove these cols for now"
   ]
  },
  {
   "cell_type": "code",
   "execution_count": 14,
   "metadata": {},
   "outputs": [],
   "source": [
    "# Strip white space from mp terms\n",
    "df_ravel['MPO_URI']  = [i.strip() for i in df_ravel['MPO_URI']]"
   ]
  },
  {
   "cell_type": "code",
   "execution_count": 15,
   "metadata": {},
   "outputs": [
    {
     "data": {
      "text/html": [
       "<div>\n",
       "<style scoped>\n",
       "    .dataframe tbody tr th:only-of-type {\n",
       "        vertical-align: middle;\n",
       "    }\n",
       "\n",
       "    .dataframe tbody tr th {\n",
       "        vertical-align: top;\n",
       "    }\n",
       "\n",
       "    .dataframe thead th {\n",
       "        text-align: right;\n",
       "    }\n",
       "</style>\n",
       "<table border=\"1\" class=\"dataframe\">\n",
       "  <thead>\n",
       "    <tr style=\"text-align: right;\">\n",
       "      <th></th>\n",
       "      <th>HP_ID</th>\n",
       "      <th>HP_LABEL</th>\n",
       "      <th>HP_SYNONYM</th>\n",
       "      <th>MPO_URI</th>\n",
       "      <th>MPO_LABEL</th>\n",
       "    </tr>\n",
       "  </thead>\n",
       "  <tbody>\n",
       "    <tr>\n",
       "      <th>0</th>\n",
       "      <td>HP:0000011</td>\n",
       "      <td>neurogenic bladder</td>\n",
       "      <td>lack of bladder control due to nervous system ...</td>\n",
       "      <td>MP:0005302</td>\n",
       "      <td>neurogenic bladder</td>\n",
       "    </tr>\n",
       "    <tr>\n",
       "      <th>1</th>\n",
       "      <td>HP:0000023</td>\n",
       "      <td>inguinal hernia</td>\n",
       "      <td>NaN</td>\n",
       "      <td>MP:0006077</td>\n",
       "      <td>inguinal hernia</td>\n",
       "    </tr>\n",
       "    <tr>\n",
       "      <th>2</th>\n",
       "      <td>HP:0000028</td>\n",
       "      <td>cryptorchidism</td>\n",
       "      <td>undescended testes | undescended testis | cryp...</td>\n",
       "      <td>MP:0002286</td>\n",
       "      <td>cryptorchism</td>\n",
       "    </tr>\n",
       "    <tr>\n",
       "      <th>3</th>\n",
       "      <td>HP:0000033</td>\n",
       "      <td>ambiguous genitalia, male</td>\n",
       "      <td>ambiguous genitalia in males</td>\n",
       "      <td>MP:0002160</td>\n",
       "      <td>abnormal reproductive system morphology | abno...</td>\n",
       "    </tr>\n",
       "  </tbody>\n",
       "</table>\n",
       "</div>"
      ],
      "text/plain": [
       "        HP_ID                   HP_LABEL   \n",
       "0  HP:0000011         neurogenic bladder  \\\n",
       "1  HP:0000023            inguinal hernia   \n",
       "2  HP:0000028             cryptorchidism   \n",
       "3  HP:0000033  ambiguous genitalia, male   \n",
       "\n",
       "                                          HP_SYNONYM     MPO_URI   \n",
       "0  lack of bladder control due to nervous system ...  MP:0005302  \\\n",
       "1                                                NaN  MP:0006077   \n",
       "2  undescended testes | undescended testis | cryp...  MP:0002286   \n",
       "3                       ambiguous genitalia in males  MP:0002160   \n",
       "\n",
       "                                           MPO_LABEL  \n",
       "0                                 neurogenic bladder  \n",
       "1                                    inguinal hernia  \n",
       "2                                       cryptorchism  \n",
       "3  abnormal reproductive system morphology | abno...  "
      ]
     },
     "execution_count": 15,
     "metadata": {},
     "output_type": "execute_result"
    }
   ],
   "source": [
    "df_ravel.head(4)"
   ]
  },
  {
   "cell_type": "code",
   "execution_count": 16,
   "metadata": {},
   "outputs": [],
   "source": [
    "#df_ravel.to_csv('/Users/stearb/Desktop/R03_local/data/tiffany_mappings/pheno_mappings.csv',index=False)"
   ]
  },
  {
   "cell_type": "markdown",
   "metadata": {},
   "source": [
    "## Need to Connect these at the Concept & Code level, so we need to add CUIs, CODEs and  CodeIDs"
   ]
  },
  {
   "cell_type": "code",
   "execution_count": 17,
   "metadata": {},
   "outputs": [
    {
     "data": {
      "text/html": [
       "<div>\n",
       "<style scoped>\n",
       "    .dataframe tbody tr th:only-of-type {\n",
       "        vertical-align: middle;\n",
       "    }\n",
       "\n",
       "    .dataframe tbody tr th {\n",
       "        vertical-align: top;\n",
       "    }\n",
       "\n",
       "    .dataframe thead th {\n",
       "        text-align: right;\n",
       "    }\n",
       "</style>\n",
       "<table border=\"1\" class=\"dataframe\">\n",
       "  <thead>\n",
       "    <tr style=\"text-align: right;\">\n",
       "      <th></th>\n",
       "      <th>CODE_HPO</th>\n",
       "      <th>HP_LABEL</th>\n",
       "      <th>CODE_MP</th>\n",
       "      <th>MPO_LABEL</th>\n",
       "    </tr>\n",
       "  </thead>\n",
       "  <tbody>\n",
       "    <tr>\n",
       "      <th>0</th>\n",
       "      <td>HP:0000011</td>\n",
       "      <td>neurogenic bladder</td>\n",
       "      <td>MP:0005302</td>\n",
       "      <td>neurogenic bladder</td>\n",
       "    </tr>\n",
       "    <tr>\n",
       "      <th>1</th>\n",
       "      <td>HP:0000023</td>\n",
       "      <td>inguinal hernia</td>\n",
       "      <td>MP:0006077</td>\n",
       "      <td>inguinal hernia</td>\n",
       "    </tr>\n",
       "    <tr>\n",
       "      <th>2</th>\n",
       "      <td>HP:0000028</td>\n",
       "      <td>cryptorchidism</td>\n",
       "      <td>MP:0002286</td>\n",
       "      <td>cryptorchism</td>\n",
       "    </tr>\n",
       "    <tr>\n",
       "      <th>3</th>\n",
       "      <td>HP:0000033</td>\n",
       "      <td>ambiguous genitalia, male</td>\n",
       "      <td>MP:0002160</td>\n",
       "      <td>abnormal reproductive system morphology | abno...</td>\n",
       "    </tr>\n",
       "  </tbody>\n",
       "</table>\n",
       "</div>"
      ],
      "text/plain": [
       "     CODE_HPO                   HP_LABEL     CODE_MP   \n",
       "0  HP:0000011         neurogenic bladder  MP:0005302  \\\n",
       "1  HP:0000023            inguinal hernia  MP:0006077   \n",
       "2  HP:0000028             cryptorchidism  MP:0002286   \n",
       "3  HP:0000033  ambiguous genitalia, male  MP:0002160   \n",
       "\n",
       "                                           MPO_LABEL  \n",
       "0                                 neurogenic bladder  \n",
       "1                                    inguinal hernia  \n",
       "2                                       cryptorchism  \n",
       "3  abnormal reproductive system morphology | abno...  "
      ]
     },
     "execution_count": 17,
     "metadata": {},
     "output_type": "execute_result"
    }
   ],
   "source": [
    "df_ravel.drop(['HP_SYNONYM'],axis=1,inplace=True)\n",
    "df_ravel.rename(columns={'HP_ID':'CODE_HPO','MPO_URI':'CODE_MP'},inplace=True)\n",
    "df_ravel.head(4)"
   ]
  },
  {
   "cell_type": "code",
   "execution_count": 18,
   "metadata": {},
   "outputs": [
    {
     "data": {
      "text/plain": [
       "(1221, 4)"
      ]
     },
     "execution_count": 18,
     "metadata": {},
     "output_type": "execute_result"
    }
   ],
   "source": [
    "df_ravel.shape"
   ]
  },
  {
   "cell_type": "markdown",
   "metadata": {},
   "source": [
    "## There are already HPO terms in UMLS. We only need to create new CUIs/CODEs/CodeIDs for HPO terms that arent in there. But first we need to get HPO CUI/CODEs from UMLS and merge them into the dataframe (merge in CUIs on HPO Code).\n",
    "match (n:Code)--(m:Concept) where n.SAB = 'HPO' return n.CODE as HPO_CODE,m.CUI AS HPO_CONCEPT   \n",
    "^^^Downloaded from neo4j desktop app and saved as umls-hpo-code-concepts.csv"
   ]
  },
  {
   "cell_type": "code",
   "execution_count": 19,
   "metadata": {},
   "outputs": [],
   "source": [
    "# Load UMLS HPO CODEs-CUIs\n",
    "#umls_hpo = pd.read_csv('/Users/stearb/desktop/R03_local/data/umls-hpo-code-concepts.csv')\n",
    "#umls_hpo.rename(columns={'HPO_CODE':'CODE_HPO','HPO_CONCEPT':'CUI_HPO'},inplace=True)\n",
    "#umls_hpo.head()"
   ]
  },
  {
   "cell_type": "code",
   "execution_count": null,
   "metadata": {},
   "outputs": [],
   "source": []
  },
  {
   "cell_type": "code",
   "execution_count": 20,
   "metadata": {},
   "outputs": [],
   "source": [
    "df_ravel['CodeID_MP'] = ['MP '+i for i in df_ravel['CODE_MP']]\n",
    "df_ravel['CodeID_HPO'] = ['HPO '+i for i in df_ravel['CODE_HPO']]\n",
    "\n",
    "#CUI_LEN = 14\n",
    "#df_ravel['CUI_MP']  = ['KC' + str(int(hashlib.sha256(uid.encode('utf8')).hexdigest(),base=16))[:CUI_LEN] for uid in df_ravel['CODE_MP']]\n",
    "\n",
    "\n",
    "#CUIs_mp = CUIbase64(df_ravel['CodeID_MP'])\n",
    "#df_ravel['CUI_MP'] = [i for i in CUIs_mp]\n",
    "\n",
    "# dont need this. see venn diagram below. all HPO terms we are using are in UMLS already\n",
    "# df_ravel['CUI_HPO']  = ['KC' + str(np.abs(hash(uid)))[:CUI_LEN] for uid in df_ravel['CODE_HPO']]\n",
    "\n",
    "assert len(df_ravel['CODE_MP'].unique())  ==  len(df_ravel['CodeID_MP'].unique()) \n",
    "assert len(df_ravel['CODE_HPO'].unique())  ==  len(df_ravel['CodeID_HPO'].unique()) "
   ]
  },
  {
   "cell_type": "code",
   "execution_count": 21,
   "metadata": {},
   "outputs": [
    {
     "name": "stdout",
     "output_type": "stream",
     "text": [
      "(719,)\n"
     ]
    }
   ],
   "source": [
    "print(df_ravel['CODE_HPO'].unique().shape)\n",
    "#umls_hpo['CODE_HPO'].unique().shape"
   ]
  },
  {
   "cell_type": "code",
   "execution_count": 22,
   "metadata": {},
   "outputs": [],
   "source": [
    "#from matplotlib_venn import venn2\n",
    "\n",
    "#venn2([set(df_ravel['CODE_HPO']),\n",
    "#       set(umls_hpo['CODE_HPO'])])\n",
    "\n",
    "# all 719 HPO terms we have are already in UMLS so we dont need to create any new CUIs\n",
    "# Just use the CODE_HPO (aka the hpo term) to map the UMLS CUIs to my df_ravel."
   ]
  },
  {
   "cell_type": "code",
   "execution_count": 23,
   "metadata": {},
   "outputs": [
    {
     "data": {
      "text/html": [
       "<div>\n",
       "<style scoped>\n",
       "    .dataframe tbody tr th:only-of-type {\n",
       "        vertical-align: middle;\n",
       "    }\n",
       "\n",
       "    .dataframe tbody tr th {\n",
       "        vertical-align: top;\n",
       "    }\n",
       "\n",
       "    .dataframe thead th {\n",
       "        text-align: right;\n",
       "    }\n",
       "</style>\n",
       "<table border=\"1\" class=\"dataframe\">\n",
       "  <thead>\n",
       "    <tr style=\"text-align: right;\">\n",
       "      <th></th>\n",
       "      <th>CODE_HPO</th>\n",
       "      <th>HP_LABEL</th>\n",
       "      <th>CODE_MP</th>\n",
       "      <th>MPO_LABEL</th>\n",
       "      <th>CodeID_MP</th>\n",
       "      <th>CodeID_HPO</th>\n",
       "    </tr>\n",
       "  </thead>\n",
       "  <tbody>\n",
       "    <tr>\n",
       "      <th>0</th>\n",
       "      <td>HP:0000011</td>\n",
       "      <td>neurogenic bladder</td>\n",
       "      <td>MP:0005302</td>\n",
       "      <td>neurogenic bladder</td>\n",
       "      <td>MP MP:0005302</td>\n",
       "      <td>HPO HP:0000011</td>\n",
       "    </tr>\n",
       "    <tr>\n",
       "      <th>1</th>\n",
       "      <td>HP:0000023</td>\n",
       "      <td>inguinal hernia</td>\n",
       "      <td>MP:0006077</td>\n",
       "      <td>inguinal hernia</td>\n",
       "      <td>MP MP:0006077</td>\n",
       "      <td>HPO HP:0000023</td>\n",
       "    </tr>\n",
       "    <tr>\n",
       "      <th>2</th>\n",
       "      <td>HP:0000028</td>\n",
       "      <td>cryptorchidism</td>\n",
       "      <td>MP:0002286</td>\n",
       "      <td>cryptorchism</td>\n",
       "      <td>MP MP:0002286</td>\n",
       "      <td>HPO HP:0000028</td>\n",
       "    </tr>\n",
       "  </tbody>\n",
       "</table>\n",
       "</div>"
      ],
      "text/plain": [
       "     CODE_HPO            HP_LABEL     CODE_MP           MPO_LABEL   \n",
       "0  HP:0000011  neurogenic bladder  MP:0005302  neurogenic bladder  \\\n",
       "1  HP:0000023     inguinal hernia  MP:0006077     inguinal hernia   \n",
       "2  HP:0000028      cryptorchidism  MP:0002286        cryptorchism   \n",
       "\n",
       "       CodeID_MP      CodeID_HPO  \n",
       "0  MP MP:0005302  HPO HP:0000011  \n",
       "1  MP MP:0006077  HPO HP:0000023  \n",
       "2  MP MP:0002286  HPO HP:0000028  "
      ]
     },
     "execution_count": 23,
     "metadata": {},
     "output_type": "execute_result"
    }
   ],
   "source": [
    "df_ravel.head(3)"
   ]
  },
  {
   "cell_type": "code",
   "execution_count": 25,
   "metadata": {},
   "outputs": [],
   "source": [
    "# check umls hp and mp code id format\n",
    "codes  = pd.read_csv('/Users/stearb/Desktop/DESKTOP_TRANSFER/DataDistilleryDistributions/DataDistillery10Sept2023/DataDistillery10September2023/CODEs.csv')"
   ]
  },
  {
   "cell_type": "code",
   "execution_count": 24,
   "metadata": {
    "collapsed": true
   },
   "outputs": [
    {
     "ename": "ValueError",
     "evalue": "Cannot mask with non-boolean array containing NA / NaN values",
     "output_type": "error",
     "traceback": [
      "\u001b[0;31m---------------------------------------------------------------------------\u001b[0m",
      "\u001b[0;31mValueError\u001b[0m                                Traceback (most recent call last)",
      "\u001b[0;32m<ipython-input-24-b70e7f9b6498>\u001b[0m in \u001b[0;36m<module>\u001b[0;34m\u001b[0m\n\u001b[0;32m----> 1\u001b[0;31m \u001b[0mcodes\u001b[0m\u001b[0;34m[\u001b[0m\u001b[0mcodes\u001b[0m\u001b[0;34m[\u001b[0m\u001b[0;34m'CODE'\u001b[0m\u001b[0;34m]\u001b[0m\u001b[0;34m.\u001b[0m\u001b[0mstr\u001b[0m\u001b[0;34m.\u001b[0m\u001b[0mstartswith\u001b[0m\u001b[0;34m(\u001b[0m\u001b[0;34m'HP'\u001b[0m\u001b[0;34m)\u001b[0m\u001b[0;34m]\u001b[0m\u001b[0;34m.\u001b[0m\u001b[0mhead\u001b[0m\u001b[0;34m(\u001b[0m\u001b[0;36m2\u001b[0m\u001b[0;34m)\u001b[0m\u001b[0;34m\u001b[0m\u001b[0;34m\u001b[0m\u001b[0m\n\u001b[0m",
      "\u001b[0;32m~/opt/anaconda3/lib/python3.7/site-packages/pandas/core/frame.py\u001b[0m in \u001b[0;36m__getitem__\u001b[0;34m(self, key)\u001b[0m\n\u001b[1;32m   3446\u001b[0m \u001b[0;34m\u001b[0m\u001b[0m\n\u001b[1;32m   3447\u001b[0m         \u001b[0;31m# Do we have a (boolean) 1d indexer?\u001b[0m\u001b[0;34m\u001b[0m\u001b[0;34m\u001b[0m\u001b[0;34m\u001b[0m\u001b[0m\n\u001b[0;32m-> 3448\u001b[0;31m         \u001b[0;32mif\u001b[0m \u001b[0mcom\u001b[0m\u001b[0;34m.\u001b[0m\u001b[0mis_bool_indexer\u001b[0m\u001b[0;34m(\u001b[0m\u001b[0mkey\u001b[0m\u001b[0;34m)\u001b[0m\u001b[0;34m:\u001b[0m\u001b[0;34m\u001b[0m\u001b[0;34m\u001b[0m\u001b[0m\n\u001b[0m\u001b[1;32m   3449\u001b[0m             \u001b[0;32mreturn\u001b[0m \u001b[0mself\u001b[0m\u001b[0;34m.\u001b[0m\u001b[0m_getitem_bool_array\u001b[0m\u001b[0;34m(\u001b[0m\u001b[0mkey\u001b[0m\u001b[0;34m)\u001b[0m\u001b[0;34m\u001b[0m\u001b[0;34m\u001b[0m\u001b[0m\n\u001b[1;32m   3450\u001b[0m \u001b[0;34m\u001b[0m\u001b[0m\n",
      "\u001b[0;32m~/opt/anaconda3/lib/python3.7/site-packages/pandas/core/common.py\u001b[0m in \u001b[0;36mis_bool_indexer\u001b[0;34m(key)\u001b[0m\n\u001b[1;32m    137\u001b[0m                     \u001b[0;31m# Don't raise on e.g. [\"A\", \"B\", np.nan], see\u001b[0m\u001b[0;34m\u001b[0m\u001b[0;34m\u001b[0m\u001b[0;34m\u001b[0m\u001b[0m\n\u001b[1;32m    138\u001b[0m                     \u001b[0;31m#  test_loc_getitem_list_of_labels_categoricalindex_with_na\u001b[0m\u001b[0;34m\u001b[0m\u001b[0;34m\u001b[0m\u001b[0;34m\u001b[0m\u001b[0m\n\u001b[0;32m--> 139\u001b[0;31m                     \u001b[0;32mraise\u001b[0m \u001b[0mValueError\u001b[0m\u001b[0;34m(\u001b[0m\u001b[0mna_msg\u001b[0m\u001b[0;34m)\u001b[0m\u001b[0;34m\u001b[0m\u001b[0;34m\u001b[0m\u001b[0m\n\u001b[0m\u001b[1;32m    140\u001b[0m                 \u001b[0;32mreturn\u001b[0m \u001b[0;32mFalse\u001b[0m\u001b[0;34m\u001b[0m\u001b[0;34m\u001b[0m\u001b[0m\n\u001b[1;32m    141\u001b[0m             \u001b[0;32mreturn\u001b[0m \u001b[0;32mTrue\u001b[0m\u001b[0;34m\u001b[0m\u001b[0;34m\u001b[0m\u001b[0m\n",
      "\u001b[0;31mValueError\u001b[0m: Cannot mask with non-boolean array containing NA / NaN values"
     ]
    }
   ],
   "source": [
    "codes[codes['CODE'].str.startswith('HP')].head(2)"
   ]
  },
  {
   "cell_type": "code",
   "execution_count": null,
   "metadata": {},
   "outputs": [],
   "source": [
    "codes[codes['CodeID:ID'].str.startswith('MP')].head(2)"
   ]
  },
  {
   "cell_type": "markdown",
   "metadata": {},
   "source": [
    "# Make nodes file"
   ]
  },
  {
   "cell_type": "code",
   "execution_count": 27,
   "metadata": {},
   "outputs": [],
   "source": [
    "nodes_mp = df_ravel[['CodeID_MP','MPO_LABEL']]\n",
    "nodes_hpo = df_ravel[['CodeID_HPO','HP_LABEL']]\n",
    "nodes_mp.columns = nodes_hpo.columns = ['node_id','node_label']\n",
    "nodes = pd.concat([nodes_mp,nodes_hpo],axis=0).drop_duplicates()\n",
    "\n",
    "# dont need to include terms these ontologies are both already in umls \n",
    "#nodes['node_label'] = np.nan\n",
    "\n",
    "# other colls can be nan as well\n",
    "#nodes['node_synonyms'] = np.nan\n",
    "#nodes['node_namespace'] = np.nan\n",
    "#nodes['node_dbxrefs'] = np.nan\n",
    "#nodes['node_definition'] = np.nan"
   ]
  },
  {
   "cell_type": "code",
   "execution_count": 34,
   "metadata": {},
   "outputs": [
    {
     "data": {
      "text/html": [
       "<div>\n",
       "<style scoped>\n",
       "    .dataframe tbody tr th:only-of-type {\n",
       "        vertical-align: middle;\n",
       "    }\n",
       "\n",
       "    .dataframe tbody tr th {\n",
       "        vertical-align: top;\n",
       "    }\n",
       "\n",
       "    .dataframe thead th {\n",
       "        text-align: right;\n",
       "    }\n",
       "</style>\n",
       "<table border=\"1\" class=\"dataframe\">\n",
       "  <thead>\n",
       "    <tr style=\"text-align: right;\">\n",
       "      <th></th>\n",
       "      <th>node_id</th>\n",
       "      <th>node_label</th>\n",
       "      <th>unit</th>\n",
       "      <th>value</th>\n",
       "      <th>node_namespace</th>\n",
       "      <th>lowerbound</th>\n",
       "      <th>node_dbxrefs</th>\n",
       "      <th>upperbound</th>\n",
       "      <th>node_synonyms</th>\n",
       "      <th>node_definition</th>\n",
       "    </tr>\n",
       "  </thead>\n",
       "  <tbody>\n",
       "    <tr>\n",
       "      <th>0</th>\n",
       "      <td>MP:0005302</td>\n",
       "      <td>neurogenic bladder</td>\n",
       "      <td>NaN</td>\n",
       "      <td>NaN</td>\n",
       "      <td>NaN</td>\n",
       "      <td>NaN</td>\n",
       "      <td>NaN</td>\n",
       "      <td>NaN</td>\n",
       "      <td>NaN</td>\n",
       "      <td>NaN</td>\n",
       "    </tr>\n",
       "    <tr>\n",
       "      <th>1</th>\n",
       "      <td>MP:0006077</td>\n",
       "      <td>inguinal hernia</td>\n",
       "      <td>NaN</td>\n",
       "      <td>NaN</td>\n",
       "      <td>NaN</td>\n",
       "      <td>NaN</td>\n",
       "      <td>NaN</td>\n",
       "      <td>NaN</td>\n",
       "      <td>NaN</td>\n",
       "      <td>NaN</td>\n",
       "    </tr>\n",
       "    <tr>\n",
       "      <th>2</th>\n",
       "      <td>MP:0002286</td>\n",
       "      <td>cryptorchism</td>\n",
       "      <td>NaN</td>\n",
       "      <td>NaN</td>\n",
       "      <td>NaN</td>\n",
       "      <td>NaN</td>\n",
       "      <td>NaN</td>\n",
       "      <td>NaN</td>\n",
       "      <td>NaN</td>\n",
       "      <td>NaN</td>\n",
       "    </tr>\n",
       "    <tr>\n",
       "      <th>3</th>\n",
       "      <td>MP:0002160</td>\n",
       "      <td>abnormal reproductive system morphology | abno...</td>\n",
       "      <td>NaN</td>\n",
       "      <td>NaN</td>\n",
       "      <td>NaN</td>\n",
       "      <td>NaN</td>\n",
       "      <td>NaN</td>\n",
       "      <td>NaN</td>\n",
       "      <td>NaN</td>\n",
       "      <td>NaN</td>\n",
       "    </tr>\n",
       "    <tr>\n",
       "      <th>4</th>\n",
       "      <td>MP:0001145</td>\n",
       "      <td>abnormal reproductive system morphology | abno...</td>\n",
       "      <td>NaN</td>\n",
       "      <td>NaN</td>\n",
       "      <td>NaN</td>\n",
       "      <td>NaN</td>\n",
       "      <td>NaN</td>\n",
       "      <td>NaN</td>\n",
       "      <td>NaN</td>\n",
       "      <td>NaN</td>\n",
       "    </tr>\n",
       "    <tr>\n",
       "      <th>...</th>\n",
       "      <td>...</td>\n",
       "      <td>...</td>\n",
       "      <td>...</td>\n",
       "      <td>...</td>\n",
       "      <td>...</td>\n",
       "      <td>...</td>\n",
       "      <td>...</td>\n",
       "      <td>...</td>\n",
       "      <td>...</td>\n",
       "      <td>...</td>\n",
       "    </tr>\n",
       "    <tr>\n",
       "      <th>1210</th>\n",
       "      <td>HP:0410277</td>\n",
       "      <td>sternal pit</td>\n",
       "      <td>NaN</td>\n",
       "      <td>NaN</td>\n",
       "      <td>NaN</td>\n",
       "      <td>NaN</td>\n",
       "      <td>NaN</td>\n",
       "      <td>NaN</td>\n",
       "      <td>NaN</td>\n",
       "      <td>NaN</td>\n",
       "    </tr>\n",
       "    <tr>\n",
       "      <th>1213</th>\n",
       "      <td>HP:0410278</td>\n",
       "      <td>pituitary gland cyst</td>\n",
       "      <td>NaN</td>\n",
       "      <td>NaN</td>\n",
       "      <td>NaN</td>\n",
       "      <td>NaN</td>\n",
       "      <td>NaN</td>\n",
       "      <td>NaN</td>\n",
       "      <td>NaN</td>\n",
       "      <td>NaN</td>\n",
       "    </tr>\n",
       "    <tr>\n",
       "      <th>1214</th>\n",
       "      <td>HP:0410279</td>\n",
       "      <td>atrophic pituitary gland</td>\n",
       "      <td>NaN</td>\n",
       "      <td>NaN</td>\n",
       "      <td>NaN</td>\n",
       "      <td>NaN</td>\n",
       "      <td>NaN</td>\n",
       "      <td>NaN</td>\n",
       "      <td>NaN</td>\n",
       "      <td>NaN</td>\n",
       "    </tr>\n",
       "    <tr>\n",
       "      <th>1216</th>\n",
       "      <td>HP:0410287</td>\n",
       "      <td>intrathoracic hemangioma</td>\n",
       "      <td>NaN</td>\n",
       "      <td>NaN</td>\n",
       "      <td>NaN</td>\n",
       "      <td>NaN</td>\n",
       "      <td>NaN</td>\n",
       "      <td>NaN</td>\n",
       "      <td>NaN</td>\n",
       "      <td>NaN</td>\n",
       "    </tr>\n",
       "    <tr>\n",
       "      <th>1219</th>\n",
       "      <td>HP:0500049</td>\n",
       "      <td>retinopathy of prematurity</td>\n",
       "      <td>NaN</td>\n",
       "      <td>NaN</td>\n",
       "      <td>NaN</td>\n",
       "      <td>NaN</td>\n",
       "      <td>NaN</td>\n",
       "      <td>NaN</td>\n",
       "      <td>NaN</td>\n",
       "      <td>NaN</td>\n",
       "    </tr>\n",
       "  </tbody>\n",
       "</table>\n",
       "<p>1520 rows × 10 columns</p>\n",
       "</div>"
      ],
      "text/plain": [
       "         node_id                                         node_label  unit   \n",
       "0     MP:0005302                                 neurogenic bladder   NaN  \\\n",
       "1     MP:0006077                                    inguinal hernia   NaN   \n",
       "2     MP:0002286                                       cryptorchism   NaN   \n",
       "3     MP:0002160  abnormal reproductive system morphology | abno...   NaN   \n",
       "4     MP:0001145  abnormal reproductive system morphology | abno...   NaN   \n",
       "...          ...                                                ...   ...   \n",
       "1210  HP:0410277                                        sternal pit   NaN   \n",
       "1213  HP:0410278                               pituitary gland cyst   NaN   \n",
       "1214  HP:0410279                           atrophic pituitary gland   NaN   \n",
       "1216  HP:0410287                           intrathoracic hemangioma   NaN   \n",
       "1219  HP:0500049                         retinopathy of prematurity   NaN   \n",
       "\n",
       "      value  node_namespace  lowerbound  node_dbxrefs  upperbound   \n",
       "0       NaN             NaN         NaN           NaN         NaN  \\\n",
       "1       NaN             NaN         NaN           NaN         NaN   \n",
       "2       NaN             NaN         NaN           NaN         NaN   \n",
       "3       NaN             NaN         NaN           NaN         NaN   \n",
       "4       NaN             NaN         NaN           NaN         NaN   \n",
       "...     ...             ...         ...           ...         ...   \n",
       "1210    NaN             NaN         NaN           NaN         NaN   \n",
       "1213    NaN             NaN         NaN           NaN         NaN   \n",
       "1214    NaN             NaN         NaN           NaN         NaN   \n",
       "1216    NaN             NaN         NaN           NaN         NaN   \n",
       "1219    NaN             NaN         NaN           NaN         NaN   \n",
       "\n",
       "      node_synonyms  node_definition  \n",
       "0               NaN              NaN  \n",
       "1               NaN              NaN  \n",
       "2               NaN              NaN  \n",
       "3               NaN              NaN  \n",
       "4               NaN              NaN  \n",
       "...             ...              ...  \n",
       "1210            NaN              NaN  \n",
       "1213            NaN              NaN  \n",
       "1214            NaN              NaN  \n",
       "1216            NaN              NaN  \n",
       "1219            NaN              NaN  \n",
       "\n",
       "[1520 rows x 10 columns]"
      ]
     },
     "execution_count": 34,
     "metadata": {},
     "output_type": "execute_result"
    }
   ],
   "source": [
    "nodes = fill_missing_cols(nodes)\n",
    "nodes"
   ]
  },
  {
   "cell_type": "code",
   "execution_count": 35,
   "metadata": {},
   "outputs": [
    {
     "data": {
      "text/html": [
       "<div>\n",
       "<style scoped>\n",
       "    .dataframe tbody tr th:only-of-type {\n",
       "        vertical-align: middle;\n",
       "    }\n",
       "\n",
       "    .dataframe tbody tr th {\n",
       "        vertical-align: top;\n",
       "    }\n",
       "\n",
       "    .dataframe thead th {\n",
       "        text-align: right;\n",
       "    }\n",
       "</style>\n",
       "<table border=\"1\" class=\"dataframe\">\n",
       "  <thead>\n",
       "    <tr style=\"text-align: right;\">\n",
       "      <th></th>\n",
       "      <th>node_id</th>\n",
       "      <th>node_label</th>\n",
       "      <th>unit</th>\n",
       "      <th>value</th>\n",
       "      <th>node_namespace</th>\n",
       "      <th>lowerbound</th>\n",
       "      <th>node_dbxrefs</th>\n",
       "      <th>upperbound</th>\n",
       "      <th>node_synonyms</th>\n",
       "      <th>node_definition</th>\n",
       "    </tr>\n",
       "  </thead>\n",
       "  <tbody>\n",
       "    <tr>\n",
       "      <th>0</th>\n",
       "      <td>MP:0005302</td>\n",
       "      <td>neurogenic bladder</td>\n",
       "      <td>NaN</td>\n",
       "      <td>NaN</td>\n",
       "      <td>NaN</td>\n",
       "      <td>NaN</td>\n",
       "      <td>NaN</td>\n",
       "      <td>NaN</td>\n",
       "      <td>NaN</td>\n",
       "      <td>NaN</td>\n",
       "    </tr>\n",
       "    <tr>\n",
       "      <th>1</th>\n",
       "      <td>MP:0006077</td>\n",
       "      <td>inguinal hernia</td>\n",
       "      <td>NaN</td>\n",
       "      <td>NaN</td>\n",
       "      <td>NaN</td>\n",
       "      <td>NaN</td>\n",
       "      <td>NaN</td>\n",
       "      <td>NaN</td>\n",
       "      <td>NaN</td>\n",
       "      <td>NaN</td>\n",
       "    </tr>\n",
       "    <tr>\n",
       "      <th>2</th>\n",
       "      <td>MP:0002286</td>\n",
       "      <td>cryptorchism</td>\n",
       "      <td>NaN</td>\n",
       "      <td>NaN</td>\n",
       "      <td>NaN</td>\n",
       "      <td>NaN</td>\n",
       "      <td>NaN</td>\n",
       "      <td>NaN</td>\n",
       "      <td>NaN</td>\n",
       "      <td>NaN</td>\n",
       "    </tr>\n",
       "    <tr>\n",
       "      <th>3</th>\n",
       "      <td>MP:0002160</td>\n",
       "      <td>abnormal reproductive system morphology | abno...</td>\n",
       "      <td>NaN</td>\n",
       "      <td>NaN</td>\n",
       "      <td>NaN</td>\n",
       "      <td>NaN</td>\n",
       "      <td>NaN</td>\n",
       "      <td>NaN</td>\n",
       "      <td>NaN</td>\n",
       "      <td>NaN</td>\n",
       "    </tr>\n",
       "    <tr>\n",
       "      <th>4</th>\n",
       "      <td>MP:0001145</td>\n",
       "      <td>abnormal reproductive system morphology | abno...</td>\n",
       "      <td>NaN</td>\n",
       "      <td>NaN</td>\n",
       "      <td>NaN</td>\n",
       "      <td>NaN</td>\n",
       "      <td>NaN</td>\n",
       "      <td>NaN</td>\n",
       "      <td>NaN</td>\n",
       "      <td>NaN</td>\n",
       "    </tr>\n",
       "    <tr>\n",
       "      <th>...</th>\n",
       "      <td>...</td>\n",
       "      <td>...</td>\n",
       "      <td>...</td>\n",
       "      <td>...</td>\n",
       "      <td>...</td>\n",
       "      <td>...</td>\n",
       "      <td>...</td>\n",
       "      <td>...</td>\n",
       "      <td>...</td>\n",
       "      <td>...</td>\n",
       "    </tr>\n",
       "    <tr>\n",
       "      <th>1210</th>\n",
       "      <td>HP:0410277</td>\n",
       "      <td>sternal pit</td>\n",
       "      <td>NaN</td>\n",
       "      <td>NaN</td>\n",
       "      <td>NaN</td>\n",
       "      <td>NaN</td>\n",
       "      <td>NaN</td>\n",
       "      <td>NaN</td>\n",
       "      <td>NaN</td>\n",
       "      <td>NaN</td>\n",
       "    </tr>\n",
       "    <tr>\n",
       "      <th>1213</th>\n",
       "      <td>HP:0410278</td>\n",
       "      <td>pituitary gland cyst</td>\n",
       "      <td>NaN</td>\n",
       "      <td>NaN</td>\n",
       "      <td>NaN</td>\n",
       "      <td>NaN</td>\n",
       "      <td>NaN</td>\n",
       "      <td>NaN</td>\n",
       "      <td>NaN</td>\n",
       "      <td>NaN</td>\n",
       "    </tr>\n",
       "    <tr>\n",
       "      <th>1214</th>\n",
       "      <td>HP:0410279</td>\n",
       "      <td>atrophic pituitary gland</td>\n",
       "      <td>NaN</td>\n",
       "      <td>NaN</td>\n",
       "      <td>NaN</td>\n",
       "      <td>NaN</td>\n",
       "      <td>NaN</td>\n",
       "      <td>NaN</td>\n",
       "      <td>NaN</td>\n",
       "      <td>NaN</td>\n",
       "    </tr>\n",
       "    <tr>\n",
       "      <th>1216</th>\n",
       "      <td>HP:0410287</td>\n",
       "      <td>intrathoracic hemangioma</td>\n",
       "      <td>NaN</td>\n",
       "      <td>NaN</td>\n",
       "      <td>NaN</td>\n",
       "      <td>NaN</td>\n",
       "      <td>NaN</td>\n",
       "      <td>NaN</td>\n",
       "      <td>NaN</td>\n",
       "      <td>NaN</td>\n",
       "    </tr>\n",
       "    <tr>\n",
       "      <th>1219</th>\n",
       "      <td>HP:0500049</td>\n",
       "      <td>retinopathy of prematurity</td>\n",
       "      <td>NaN</td>\n",
       "      <td>NaN</td>\n",
       "      <td>NaN</td>\n",
       "      <td>NaN</td>\n",
       "      <td>NaN</td>\n",
       "      <td>NaN</td>\n",
       "      <td>NaN</td>\n",
       "      <td>NaN</td>\n",
       "    </tr>\n",
       "  </tbody>\n",
       "</table>\n",
       "<p>1520 rows × 10 columns</p>\n",
       "</div>"
      ],
      "text/plain": [
       "         node_id                                         node_label  unit   \n",
       "0     MP:0005302                                 neurogenic bladder   NaN  \\\n",
       "1     MP:0006077                                    inguinal hernia   NaN   \n",
       "2     MP:0002286                                       cryptorchism   NaN   \n",
       "3     MP:0002160  abnormal reproductive system morphology | abno...   NaN   \n",
       "4     MP:0001145  abnormal reproductive system morphology | abno...   NaN   \n",
       "...          ...                                                ...   ...   \n",
       "1210  HP:0410277                                        sternal pit   NaN   \n",
       "1213  HP:0410278                               pituitary gland cyst   NaN   \n",
       "1214  HP:0410279                           atrophic pituitary gland   NaN   \n",
       "1216  HP:0410287                           intrathoracic hemangioma   NaN   \n",
       "1219  HP:0500049                         retinopathy of prematurity   NaN   \n",
       "\n",
       "      value  node_namespace  lowerbound  node_dbxrefs  upperbound   \n",
       "0       NaN             NaN         NaN           NaN         NaN  \\\n",
       "1       NaN             NaN         NaN           NaN         NaN   \n",
       "2       NaN             NaN         NaN           NaN         NaN   \n",
       "3       NaN             NaN         NaN           NaN         NaN   \n",
       "4       NaN             NaN         NaN           NaN         NaN   \n",
       "...     ...             ...         ...           ...         ...   \n",
       "1210    NaN             NaN         NaN           NaN         NaN   \n",
       "1213    NaN             NaN         NaN           NaN         NaN   \n",
       "1214    NaN             NaN         NaN           NaN         NaN   \n",
       "1216    NaN             NaN         NaN           NaN         NaN   \n",
       "1219    NaN             NaN         NaN           NaN         NaN   \n",
       "\n",
       "      node_synonyms  node_definition  \n",
       "0               NaN              NaN  \n",
       "1               NaN              NaN  \n",
       "2               NaN              NaN  \n",
       "3               NaN              NaN  \n",
       "4               NaN              NaN  \n",
       "...             ...              ...  \n",
       "1210            NaN              NaN  \n",
       "1213            NaN              NaN  \n",
       "1214            NaN              NaN  \n",
       "1216            NaN              NaN  \n",
       "1219            NaN              NaN  \n",
       "\n",
       "[1520 rows x 10 columns]"
      ]
     },
     "execution_count": 35,
     "metadata": {},
     "output_type": "execute_result"
    }
   ],
   "source": [
    "nodes['node_id'] = [i.replace('MP ','') if i.startswith('MP') else i for i in nodes['node_id'] ]\n",
    "nodes"
   ]
  },
  {
   "cell_type": "code",
   "execution_count": 30,
   "metadata": {
    "collapsed": true
   },
   "outputs": [
    {
     "data": {
      "text/html": [
       "<div>\n",
       "<style scoped>\n",
       "    .dataframe tbody tr th:only-of-type {\n",
       "        vertical-align: middle;\n",
       "    }\n",
       "\n",
       "    .dataframe tbody tr th {\n",
       "        vertical-align: top;\n",
       "    }\n",
       "\n",
       "    .dataframe thead th {\n",
       "        text-align: right;\n",
       "    }\n",
       "</style>\n",
       "<table border=\"1\" class=\"dataframe\">\n",
       "  <thead>\n",
       "    <tr style=\"text-align: right;\">\n",
       "      <th></th>\n",
       "      <th>node_id</th>\n",
       "      <th>node_label</th>\n",
       "    </tr>\n",
       "  </thead>\n",
       "  <tbody>\n",
       "    <tr>\n",
       "      <th>0</th>\n",
       "      <td>MP:0005302</td>\n",
       "      <td>neurogenic bladder</td>\n",
       "    </tr>\n",
       "    <tr>\n",
       "      <th>1</th>\n",
       "      <td>MP:0006077</td>\n",
       "      <td>inguinal hernia</td>\n",
       "    </tr>\n",
       "    <tr>\n",
       "      <th>2</th>\n",
       "      <td>MP:0002286</td>\n",
       "      <td>cryptorchism</td>\n",
       "    </tr>\n",
       "    <tr>\n",
       "      <th>3</th>\n",
       "      <td>MP:0002160</td>\n",
       "      <td>abnormal reproductive system morphology | abno...</td>\n",
       "    </tr>\n",
       "    <tr>\n",
       "      <th>4</th>\n",
       "      <td>MP:0001145</td>\n",
       "      <td>abnormal reproductive system morphology | abno...</td>\n",
       "    </tr>\n",
       "    <tr>\n",
       "      <th>...</th>\n",
       "      <td>...</td>\n",
       "      <td>...</td>\n",
       "    </tr>\n",
       "    <tr>\n",
       "      <th>1210</th>\n",
       "      <td>HP:0410277</td>\n",
       "      <td>sternal pit</td>\n",
       "    </tr>\n",
       "    <tr>\n",
       "      <th>1213</th>\n",
       "      <td>HP:0410278</td>\n",
       "      <td>pituitary gland cyst</td>\n",
       "    </tr>\n",
       "    <tr>\n",
       "      <th>1214</th>\n",
       "      <td>HP:0410279</td>\n",
       "      <td>atrophic pituitary gland</td>\n",
       "    </tr>\n",
       "    <tr>\n",
       "      <th>1216</th>\n",
       "      <td>HP:0410287</td>\n",
       "      <td>intrathoracic hemangioma</td>\n",
       "    </tr>\n",
       "    <tr>\n",
       "      <th>1219</th>\n",
       "      <td>HP:0500049</td>\n",
       "      <td>retinopathy of prematurity</td>\n",
       "    </tr>\n",
       "  </tbody>\n",
       "</table>\n",
       "<p>1520 rows × 2 columns</p>\n",
       "</div>"
      ],
      "text/plain": [
       "         node_id                                         node_label\n",
       "0     MP:0005302                                 neurogenic bladder\n",
       "1     MP:0006077                                    inguinal hernia\n",
       "2     MP:0002286                                       cryptorchism\n",
       "3     MP:0002160  abnormal reproductive system morphology | abno...\n",
       "4     MP:0001145  abnormal reproductive system morphology | abno...\n",
       "...          ...                                                ...\n",
       "1210  HP:0410277                                        sternal pit\n",
       "1213  HP:0410278                               pituitary gland cyst\n",
       "1214  HP:0410279                           atrophic pituitary gland\n",
       "1216  HP:0410287                           intrathoracic hemangioma\n",
       "1219  HP:0500049                         retinopathy of prematurity\n",
       "\n",
       "[1520 rows x 2 columns]"
      ]
     },
     "execution_count": 30,
     "metadata": {},
     "output_type": "execute_result"
    }
   ],
   "source": [
    "nodes['node_id'] = [i.replace('HPO ','') if i.startswith('HPO') else i for i in nodes['node_id'] ]\n",
    "\n",
    "nodes"
   ]
  },
  {
   "cell_type": "markdown",
   "metadata": {},
   "source": [
    "## Make edges file"
   ]
  },
  {
   "cell_type": "code",
   "execution_count": 36,
   "metadata": {},
   "outputs": [
    {
     "data": {
      "text/html": [
       "<div>\n",
       "<style scoped>\n",
       "    .dataframe tbody tr th:only-of-type {\n",
       "        vertical-align: middle;\n",
       "    }\n",
       "\n",
       "    .dataframe tbody tr th {\n",
       "        vertical-align: top;\n",
       "    }\n",
       "\n",
       "    .dataframe thead th {\n",
       "        text-align: right;\n",
       "    }\n",
       "</style>\n",
       "<table border=\"1\" class=\"dataframe\">\n",
       "  <thead>\n",
       "    <tr style=\"text-align: right;\">\n",
       "      <th></th>\n",
       "      <th>subject</th>\n",
       "      <th>predicate</th>\n",
       "      <th>object</th>\n",
       "    </tr>\n",
       "  </thead>\n",
       "  <tbody>\n",
       "    <tr>\n",
       "      <th>0</th>\n",
       "      <td>MP MP:0005302</td>\n",
       "      <td>http://purl.obolibrary.org/obo/RO_0002603</td>\n",
       "      <td>HPO HP:0000011</td>\n",
       "    </tr>\n",
       "    <tr>\n",
       "      <th>1</th>\n",
       "      <td>MP MP:0006077</td>\n",
       "      <td>http://purl.obolibrary.org/obo/RO_0002603</td>\n",
       "      <td>HPO HP:0000023</td>\n",
       "    </tr>\n",
       "    <tr>\n",
       "      <th>2</th>\n",
       "      <td>MP MP:0002286</td>\n",
       "      <td>http://purl.obolibrary.org/obo/RO_0002603</td>\n",
       "      <td>HPO HP:0000028</td>\n",
       "    </tr>\n",
       "  </tbody>\n",
       "</table>\n",
       "</div>"
      ],
      "text/plain": [
       "         subject                                  predicate          object\n",
       "0  MP MP:0005302  http://purl.obolibrary.org/obo/RO_0002603  HPO HP:0000011\n",
       "1  MP MP:0006077  http://purl.obolibrary.org/obo/RO_0002603  HPO HP:0000023\n",
       "2  MP MP:0002286  http://purl.obolibrary.org/obo/RO_0002603  HPO HP:0000028"
      ]
     },
     "execution_count": 36,
     "metadata": {},
     "output_type": "execute_result"
    }
   ],
   "source": [
    "#df_ravel['predicate'] = 'RO:0002603' # 'is approximately equivalent to'     OLD rel: #'has_human_phenotype'\n",
    "\n",
    "df_ravel['predicate'] = 'http://purl.obolibrary.org/obo/RO_0002603'\n",
    "\n",
    "edges = df_ravel[['CodeID_MP','predicate','CodeID_HPO']]\n",
    "edges.columns = ['subject','predicate','object']\n",
    "edges.head(3)"
   ]
  },
  {
   "cell_type": "code",
   "execution_count": 37,
   "metadata": {},
   "outputs": [
    {
     "data": {
      "text/html": [
       "<div>\n",
       "<style scoped>\n",
       "    .dataframe tbody tr th:only-of-type {\n",
       "        vertical-align: middle;\n",
       "    }\n",
       "\n",
       "    .dataframe tbody tr th {\n",
       "        vertical-align: top;\n",
       "    }\n",
       "\n",
       "    .dataframe thead th {\n",
       "        text-align: right;\n",
       "    }\n",
       "</style>\n",
       "<table border=\"1\" class=\"dataframe\">\n",
       "  <thead>\n",
       "    <tr style=\"text-align: right;\">\n",
       "      <th></th>\n",
       "      <th>subject</th>\n",
       "      <th>predicate</th>\n",
       "      <th>object</th>\n",
       "    </tr>\n",
       "  </thead>\n",
       "  <tbody>\n",
       "    <tr>\n",
       "      <th>0</th>\n",
       "      <td>MP:0005302</td>\n",
       "      <td>http://purl.obolibrary.org/obo/RO_0002603</td>\n",
       "      <td>HP:0000011</td>\n",
       "    </tr>\n",
       "    <tr>\n",
       "      <th>1</th>\n",
       "      <td>MP:0006077</td>\n",
       "      <td>http://purl.obolibrary.org/obo/RO_0002603</td>\n",
       "      <td>HP:0000023</td>\n",
       "    </tr>\n",
       "    <tr>\n",
       "      <th>2</th>\n",
       "      <td>MP:0002286</td>\n",
       "      <td>http://purl.obolibrary.org/obo/RO_0002603</td>\n",
       "      <td>HP:0000028</td>\n",
       "    </tr>\n",
       "    <tr>\n",
       "      <th>3</th>\n",
       "      <td>MP:0002160</td>\n",
       "      <td>http://purl.obolibrary.org/obo/RO_0002603</td>\n",
       "      <td>HP:0000033</td>\n",
       "    </tr>\n",
       "    <tr>\n",
       "      <th>4</th>\n",
       "      <td>MP:0001145</td>\n",
       "      <td>http://purl.obolibrary.org/obo/RO_0002603</td>\n",
       "      <td>HP:0000033</td>\n",
       "    </tr>\n",
       "    <tr>\n",
       "      <th>...</th>\n",
       "      <td>...</td>\n",
       "      <td>...</td>\n",
       "      <td>...</td>\n",
       "    </tr>\n",
       "    <tr>\n",
       "      <th>1216</th>\n",
       "      <td>MP:0002006</td>\n",
       "      <td>http://purl.obolibrary.org/obo/RO_0002603</td>\n",
       "      <td>HP:0410287</td>\n",
       "    </tr>\n",
       "    <tr>\n",
       "      <th>1217</th>\n",
       "      <td>MP:0014086</td>\n",
       "      <td>http://purl.obolibrary.org/obo/RO_0002603</td>\n",
       "      <td>HP:0410287</td>\n",
       "    </tr>\n",
       "    <tr>\n",
       "      <th>1218</th>\n",
       "      <td>MP:0002947</td>\n",
       "      <td>http://purl.obolibrary.org/obo/RO_0002603</td>\n",
       "      <td>HP:0410287</td>\n",
       "    </tr>\n",
       "    <tr>\n",
       "      <th>1219</th>\n",
       "      <td>MP:0002092</td>\n",
       "      <td>http://purl.obolibrary.org/obo/RO_0002603</td>\n",
       "      <td>HP:0500049</td>\n",
       "    </tr>\n",
       "    <tr>\n",
       "      <th>1220</th>\n",
       "      <td>MP:0005195</td>\n",
       "      <td>http://purl.obolibrary.org/obo/RO_0002603</td>\n",
       "      <td>HP:0500049</td>\n",
       "    </tr>\n",
       "  </tbody>\n",
       "</table>\n",
       "<p>1221 rows × 3 columns</p>\n",
       "</div>"
      ],
      "text/plain": [
       "         subject                                  predicate      object\n",
       "0     MP:0005302  http://purl.obolibrary.org/obo/RO_0002603  HP:0000011\n",
       "1     MP:0006077  http://purl.obolibrary.org/obo/RO_0002603  HP:0000023\n",
       "2     MP:0002286  http://purl.obolibrary.org/obo/RO_0002603  HP:0000028\n",
       "3     MP:0002160  http://purl.obolibrary.org/obo/RO_0002603  HP:0000033\n",
       "4     MP:0001145  http://purl.obolibrary.org/obo/RO_0002603  HP:0000033\n",
       "...          ...                                        ...         ...\n",
       "1216  MP:0002006  http://purl.obolibrary.org/obo/RO_0002603  HP:0410287\n",
       "1217  MP:0014086  http://purl.obolibrary.org/obo/RO_0002603  HP:0410287\n",
       "1218  MP:0002947  http://purl.obolibrary.org/obo/RO_0002603  HP:0410287\n",
       "1219  MP:0002092  http://purl.obolibrary.org/obo/RO_0002603  HP:0500049\n",
       "1220  MP:0005195  http://purl.obolibrary.org/obo/RO_0002603  HP:0500049\n",
       "\n",
       "[1221 rows x 3 columns]"
      ]
     },
     "execution_count": 37,
     "metadata": {},
     "output_type": "execute_result"
    }
   ],
   "source": [
    "edges['subject'] = edges['subject'].str.replace('MP ','')\n",
    "edges['object'] = edges['object'].str.replace('HPO ','')\n",
    "edges"
   ]
  },
  {
   "cell_type": "markdown",
   "metadata": {},
   "source": [
    "# Save files "
   ]
  },
  {
   "cell_type": "code",
   "execution_count": 38,
   "metadata": {},
   "outputs": [],
   "source": [
    "#edges.to_csv('/Users/stearb/Desktop/DataDistilleryFiles/phenotype_mappings/edges_phenoMapping.tsv',sep='\\t',index=False)\n",
    "\n",
    "# save edges with this name for alan/js's script\n",
    "edges.to_csv('/Users/stearb/Desktop/DESKTOP_TRANSFER/DataDistilleryFiles/phenotype_mappings/OWLNETS_edgelist.txt',\n",
    "             sep='\\t',index=False)\n",
    "\n",
    "nodes.to_csv('/Users/stearb/Desktop/DESKTOP_TRANSFER/DataDistilleryFiles/phenotype_mappings/OWLNETS_node_metadata.txt',\n",
    "             sep='\\t',index=False)"
   ]
  },
  {
   "cell_type": "code",
   "execution_count": 30,
   "metadata": {},
   "outputs": [
    {
     "data": {
      "text/plain": [
       "1221"
      ]
     },
     "execution_count": 30,
     "metadata": {},
     "output_type": "execute_result"
    }
   ],
   "source": [
    "len(edges)"
   ]
  },
  {
   "cell_type": "code",
   "execution_count": null,
   "metadata": {},
   "outputs": [],
   "source": []
  },
  {
   "cell_type": "code",
   "execution_count": null,
   "metadata": {},
   "outputs": [],
   "source": []
  },
  {
   "cell_type": "code",
   "execution_count": null,
   "metadata": {},
   "outputs": [],
   "source": []
  },
  {
   "cell_type": "code",
   "execution_count": null,
   "metadata": {},
   "outputs": [],
   "source": []
  },
  {
   "cell_type": "code",
   "execution_count": null,
   "metadata": {},
   "outputs": [],
   "source": []
  },
  {
   "cell_type": "markdown",
   "metadata": {},
   "source": [
    "# OLD WAY"
   ]
  },
  {
   "cell_type": "markdown",
   "metadata": {},
   "source": [
    "### Merge in UMLS  HPO CUIs"
   ]
  },
  {
   "cell_type": "code",
   "execution_count": 23,
   "metadata": {},
   "outputs": [],
   "source": [
    "#df_merge = pd.merge(left=df_ravel,right=umls_hpo.drop_duplicates(['CODE_HPO']),on='CODE_HPO',how='inner')\n",
    "#df_merge.head()"
   ]
  },
  {
   "cell_type": "code",
   "execution_count": null,
   "metadata": {},
   "outputs": [],
   "source": []
  },
  {
   "cell_type": "code",
   "execution_count": null,
   "metadata": {},
   "outputs": [],
   "source": []
  },
  {
   "cell_type": "markdown",
   "metadata": {},
   "source": [
    "Save CUIs"
   ]
  },
  {
   "cell_type": "code",
   "execution_count": 32,
   "metadata": {},
   "outputs": [],
   "source": [
    "# Dont need to  save  df_merge['CUI_HPO'], they are already in UMLS\n",
    "#pd.DataFrame(df_merge['CUI_MP'].drop_duplicates(),columns=['CUI']).to_csv('CUIs_phenomapping.csv',index=False) \n",
    "\n",
    "#! mv CUIs_phenomapping.csv /Users/stearb/desktop/R03_local/data/ingest_files/hpo_mp_mapping/"
   ]
  },
  {
   "cell_type": "code",
   "execution_count": 33,
   "metadata": {},
   "outputs": [],
   "source": [
    "## Code for generating all HPO terms containing the word heart\n",
    "#heart_mp_terms = pd.read_csv('/Users/stearb/Desktop/R03_local/data/gene_sets/heart_mp_terms.csv',header=None)\n",
    "#q=df_merge[['CODE_MP','CODE_HPO']]\n",
    "\n",
    "#q[q['CODE_MP'].isin(q['CODE_MP'].isin(heart_mp_terms))]\n",
    "\n",
    "#t  = (list(heart_mp_terms.values))\n",
    "#heart_terms = [item for sublist in t for item in sublist]\n",
    "\n",
    "#df_merge['CODE_MP'].isin(heart_mp_terms)\n",
    "#set(df_merge['CODE_MP']).intersection(set(heart_mp_terms))"
   ]
  },
  {
   "cell_type": "markdown",
   "metadata": {},
   "source": [
    "\n",
    "Save CUI-CUIs ( Same relationship SAB for both HPO->MP & MP->HPO )"
   ]
  },
  {
   "cell_type": "code",
   "execution_count": 34,
   "metadata": {},
   "outputs": [],
   "source": [
    "CUI_CUI = df_merge[['CUI_HPO','CUI_MP']]\n",
    "\n",
    "# Add SAB and relationship type (:TYPE) so the df matches the format of the UMLS import files.\n",
    "CUI_CUI[':TYPE'] = 'has_mouse_phenotype'\n",
    "CUI_CUI['SAB'] = 'HPO__MP'\n",
    "\n",
    "# Reverse the columns to create the inverse relationship, has_human_phenotype\n",
    "CUI_CUI_inverse = df_merge[['CUI_MP','CUI_HPO']]\n",
    "CUI_CUI_inverse[':TYPE'] = 'has_human_phenotype'\n",
    "CUI_CUI_inverse['SAB'] = 'HPO__MP'\n",
    "\n",
    "# Now combine both (need to change column names first so they can be concatenated) and save.\n",
    "CUI_CUI.rename(columns={'CUI_HPO':':START_ID','CUI_MP':':END_ID'},inplace=True)\n",
    "CUI_CUI_inverse.rename(columns={'CUI_HPO':':END_ID','CUI_MP':':START_ID'},inplace=True)\n",
    "\n",
    "pd.concat([CUI_CUI,CUI_CUI_inverse]).to_csv(\n",
    "            '/Users/stearb/desktop/R03_local/data/ingest_files/hpo_mp_mapping/CUI-CUI_phenomapping.csv',index=False) \n",
    " "
   ]
  },
  {
   "cell_type": "markdown",
   "metadata": {},
   "source": [
    "Save CUI-CODEs"
   ]
  },
  {
   "cell_type": "code",
   "execution_count": 35,
   "metadata": {},
   "outputs": [],
   "source": [
    "#No need to save CUI-CODE relationships for the HPO terms, they are  already in UMLS\n",
    "mp_cui_codes = df_merge[['CUI_MP','CodeID_MP']]\n",
    "\n",
    "mp_cui_codes_reformat = mp_cui_codes.rename(columns={'CUI_MP':'CUI','CodeID_MP':'CODE'}).drop_duplicates()\n",
    "\n",
    "mp_cui_codes_reformat.to_csv('/Users/stearb/desktop/R03_local/data/ingest_files/hpo_mp_mapping/CUI-CODEs_phenomapping.csv',index=False)"
   ]
  },
  {
   "cell_type": "markdown",
   "metadata": {},
   "source": [
    "Save CODEs"
   ]
  },
  {
   "cell_type": "code",
   "execution_count": 37,
   "metadata": {},
   "outputs": [],
   "source": [
    "# hpo_codes = df_merge[['CodeID_HPO','CODE_HPO']]   # these are already in UMLS, no need to add them.\n",
    "mp_codes = df_merge[['CodeID_MP','CODE_MP']]\n",
    "mp_codes['SAB'] = 'MP'\n",
    "mp_codes.rename(columns={'CodeID_MP':'CodeID','CODE_MP':'CODE'},inplace=True)\n",
    "mp_codes  = mp_codes[['CodeID','SAB','CODE']]\n",
    "mp_codes.to_csv('/Users/stearb/desktop/R03_local/data/ingest_files/hpo_mp_mapping/CODEs_phenomapping.csv',index=False)\n"
   ]
  },
  {
   "cell_type": "code",
   "execution_count": null,
   "metadata": {},
   "outputs": [],
   "source": []
  },
  {
   "cell_type": "markdown",
   "metadata": {},
   "source": [
    "# End of data formatting for the HPO-MP mappings"
   ]
  },
  {
   "cell_type": "code",
   "execution_count": null,
   "metadata": {},
   "outputs": [],
   "source": []
  },
  {
   "cell_type": "code",
   "execution_count": null,
   "metadata": {},
   "outputs": [],
   "source": []
  },
  {
   "cell_type": "code",
   "execution_count": null,
   "metadata": {},
   "outputs": [],
   "source": []
  },
  {
   "cell_type": "code",
   "execution_count": null,
   "metadata": {},
   "outputs": [],
   "source": []
  },
  {
   "cell_type": "markdown",
   "metadata": {},
   "source": [
    "### Save HPO Terms to generate gene sets for\n",
    "We can only generate gene sets for each HPO terms that we have mapped to MP terms, so whatever HPO terms we end up with, we will have to drop the ones that are not currently mapped to an MP term."
   ]
  },
  {
   "cell_type": "code",
   "execution_count": null,
   "metadata": {},
   "outputs": [],
   "source": [
    "\n",
    "# Old way where we just took any term that had 'heart' in it.\n",
    "terms2query = df_ravel[df_ravel['MPO_LABEL'].str.contains('heart',case=False)]\n",
    "terms2query[['HP_ID','HP_LABEL']].to_csv('/Users/stearb/Desktop/R03_local/data/gene_sets/hpo_terms/heart_hpo_terms.csv',index=None)"
   ]
  },
  {
   "cell_type": "markdown",
   "metadata": {},
   "source": [
    "# New way is in /results_queries/get_gene_sets.ipynb"
   ]
  },
  {
   "cell_type": "code",
   "execution_count": null,
   "metadata": {},
   "outputs": [],
   "source": []
  },
  {
   "cell_type": "code",
   "execution_count": null,
   "metadata": {},
   "outputs": [],
   "source": []
  },
  {
   "cell_type": "code",
   "execution_count": 1,
   "metadata": {},
   "outputs": [],
   "source": [
    "#for m,i in enumerate(mp_codes['CODE'].values):\n",
    "#    if i  == 'MP:0003923':\n",
    "#        print('--------');print(m,i);print('--------')"
   ]
  },
  {
   "cell_type": "code",
   "execution_count": 30,
   "metadata": {},
   "outputs": [
    {
     "data": {
      "text/html": [
       "<div>\n",
       "<style scoped>\n",
       "    .dataframe tbody tr th:only-of-type {\n",
       "        vertical-align: middle;\n",
       "    }\n",
       "\n",
       "    .dataframe tbody tr th {\n",
       "        vertical-align: top;\n",
       "    }\n",
       "\n",
       "    .dataframe thead th {\n",
       "        text-align: right;\n",
       "    }\n",
       "</style>\n",
       "<table border=\"1\" class=\"dataframe\">\n",
       "  <thead>\n",
       "    <tr style=\"text-align: right;\">\n",
       "      <th></th>\n",
       "      <th>CODE_HPO</th>\n",
       "      <th>CODE_MP</th>\n",
       "      <th>CodeID_MP</th>\n",
       "      <th>CodeID_HPO</th>\n",
       "      <th>CUI_MP</th>\n",
       "      <th>CUI_HPO</th>\n",
       "    </tr>\n",
       "  </thead>\n",
       "  <tbody>\n",
       "    <tr>\n",
       "      <th>993</th>\n",
       "      <td>HP:0025579</td>\n",
       "      <td>MP:0003923</td>\n",
       "      <td>MP MP:0003923</td>\n",
       "      <td>HPO HP:0025579</td>\n",
       "      <td>TVAgTVA6MDAwMzkyMw==</td>\n",
       "      <td>C4703395</td>\n",
       "    </tr>\n",
       "  </tbody>\n",
       "</table>\n",
       "</div>"
      ],
      "text/plain": [
       "       CODE_HPO     CODE_MP      CodeID_MP      CodeID_HPO  \\\n",
       "993  HP:0025579  MP:0003923  MP MP:0003923  HPO HP:0025579   \n",
       "\n",
       "                   CUI_MP   CUI_HPO  \n",
       "993  TVAgTVA6MDAwMzkyMw==  C4703395  "
      ]
     },
     "execution_count": 30,
     "metadata": {},
     "output_type": "execute_result"
    }
   ],
   "source": [
    "df_merge[df_merge['CODE_HPO'] == 'HP:0025579']"
   ]
  },
  {
   "cell_type": "markdown",
   "metadata": {},
   "source": [
    "### Save whole df so we can check that there are no collisions with these CUIs and CUIs from the other steps"
   ]
  },
  {
   "cell_type": "code",
   "execution_count": 31,
   "metadata": {},
   "outputs": [],
   "source": [
    "df_merge.to_csv('/Users/stearb/desktop/R03_local/data/UI_check/hpo_mp_mappings.csv',index=False)"
   ]
  },
  {
   "cell_type": "markdown",
   "metadata": {},
   "source": [
    "#### Whats the overlap of these MP terms with the MP terms from step 2 (geno-pheno)?\n",
    "#### Dont need to worry about this because we created a MP nodes file 'MP_TERMS_NODES.csv' that contains mp terms from both lists"
   ]
  },
  {
   "cell_type": "code",
   "execution_count": 31,
   "metadata": {},
   "outputs": [],
   "source": [
    "g2p = pd.read_csv('/Users/stearb/desktop/R03_local/data/ingest_files/genopheno/geno2pheno_mapping.csv',index_col=0)"
   ]
  },
  {
   "cell_type": "code",
   "execution_count": 18,
   "metadata": {},
   "outputs": [
    {
     "data": {
      "text/plain": [
       "740"
      ]
     },
     "execution_count": 18,
     "metadata": {},
     "output_type": "execute_result"
    }
   ],
   "source": [
    "g2p['mp_term_id'].unique().shape[0]"
   ]
  },
  {
   "cell_type": "code",
   "execution_count": 19,
   "metadata": {},
   "outputs": [
    {
     "data": {
      "text/plain": [
       "51"
      ]
     },
     "execution_count": 19,
     "metadata": {},
     "output_type": "execute_result"
    }
   ],
   "source": [
    "# Whats the overlap?\n",
    "mp_overlap = set(df_ravel['MPO_URI'].unique()).intersection(set(g2p['mp_term_id'].unique()))\n",
    "len(mp_overlap)"
   ]
  },
  {
   "cell_type": "code",
   "execution_count": 87,
   "metadata": {},
   "outputs": [
    {
     "name": "stdout",
     "output_type": "stream",
     "text": [
      "51\n"
     ]
    }
   ],
   "source": [
    "# Really only 51 MP terms in both lists?\n",
    "a=0\n",
    "for k in g2p['mp_term_id'].unique():\n",
    "    if k in df_ravel['MPO_URI'].unique():\n",
    "        a+=1\n",
    "print(a)"
   ]
  },
  {
   "cell_type": "code",
   "execution_count": null,
   "metadata": {},
   "outputs": [],
   "source": []
  }
 ],
 "metadata": {
  "kernelspec": {
   "display_name": "Python 3 (ipykernel)",
   "language": "python",
   "name": "python3"
  },
  "language_info": {
   "codemirror_mode": {
    "name": "ipython",
    "version": 3
   },
   "file_extension": ".py",
   "mimetype": "text/x-python",
   "name": "python",
   "nbconvert_exporter": "python",
   "pygments_lexer": "ipython3",
   "version": "3.10.11"
  }
 },
 "nbformat": 4,
 "nbformat_minor": 2
}
