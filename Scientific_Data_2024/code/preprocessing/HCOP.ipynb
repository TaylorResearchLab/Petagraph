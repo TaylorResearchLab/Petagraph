{
 "cells": [
  {
   "cell_type": "code",
   "execution_count": 1,
   "metadata": {},
   "outputs": [],
   "source": [
    "import warnings\n",
    "warnings.filterwarnings('ignore')\n",
    "import numpy as np\n",
    "import pandas as pd\n",
    "#from matplotlib_venn import venn2,venn3\n",
    "from collections import Counter\n",
    "\n",
    "pd.options.display.max_colwidth = 100"
   ]
  },
  {
   "cell_type": "code",
   "execution_count": 2,
   "metadata": {},
   "outputs": [],
   "source": [
    "# !jupyter nbconvert --to script orthologs_JS.ipynb"
   ]
  },
  {
   "cell_type": "code",
   "execution_count": 2,
   "metadata": {},
   "outputs": [],
   "source": [
    "def fill_missing_cols(df):\n",
    "    \n",
    "    if 'node_id' not in df.columns:\n",
    "        raise ValueError('Must have at least a \"node_id\" column.')\n",
    "        \n",
    "    all_cols = set([ 'node_label', 'node_synonyms', 'node_dbxrefs',\n",
    "            'node_definition','node_namespace','value','lowerbound','upperbound','unit'])\n",
    "   \n",
    "    missing_cols = list(all_cols - set(df.columns))\n",
    "    nan_cols_df = pd.DataFrame(np.full([len(df), len(missing_cols)], np.nan),columns=missing_cols)\n",
    "    nan_cols_df.index = df.index\n",
    "    return pd.concat([df,nan_cols_df],axis=1)"
   ]
  },
  {
   "cell_type": "markdown",
   "metadata": {},
   "source": [
    "## Notebook for preprocessing human-mouse ortholog genes from HGNC HCOP \n",
    "From HGNC website: https://www.genenames.org/tools/hcop/   (select bulk download at the bottom)\n",
    "The SAB (source ontology) for the mouse gene concept nodes is HGNC Comparison of Orthology Predictions (HCOP),so I will make the SAB attribute on the mouse gene Code nodes 'HGNC HCOP'"
   ]
  },
  {
   "cell_type": "markdown",
   "metadata": {},
   "source": [
    "# The end of this workflow is different from the original orthologs.ipynb notebook located at /Users/stearb/Dropbox/CHOP/R03/code/orthologs, because we are using Jonathan Silversteins workflow for the Neo4j CSV creation (meaning the files produced by this workflow will be the inputs into JS's workflow) ...so we only need to create 2 files, a nodes.tsv and an edges.tsv (instead of the ~6 files, CUIs, CUI-CUIs, Code-CUIs, Terms, etc.)\n",
    "\n",
    "## The guide for how to create these new nodes and edges files can be found on [github]( https://ubkg.docs.xconsortia.org/formats/)"
   ]
  },
  {
   "cell_type": "markdown",
   "metadata": {},
   "source": [
    "# As of 1/6/24 we are using MGI as SAB for mouse gene nodes (previously HCOP)"
   ]
  },
  {
   "cell_type": "code",
   "execution_count": 3,
   "metadata": {},
   "outputs": [
    {
     "name": "stdout",
     "output_type": "stream",
     "text": [
      "(69937, 15)\n",
      "Index(['human_entrez_gene', 'human_ensembl_gene', 'hgnc_id', 'human_name',\n",
      "       'human_symbol', 'human_chr', 'human_assert_ids', 'mouse_entrez_gene',\n",
      "       'mouse_ensembl_gene', 'mgi_id', 'mouse_name', 'mouse_symbol',\n",
      "       'mouse_chr', 'mouse_assert_ids', 'support'],\n",
      "      dtype='object')\n"
     ]
    },
    {
     "data": {
      "text/html": [
       "<div>\n",
       "<style scoped>\n",
       "    .dataframe tbody tr th:only-of-type {\n",
       "        vertical-align: middle;\n",
       "    }\n",
       "\n",
       "    .dataframe tbody tr th {\n",
       "        vertical-align: top;\n",
       "    }\n",
       "\n",
       "    .dataframe thead th {\n",
       "        text-align: right;\n",
       "    }\n",
       "</style>\n",
       "<table border=\"1\" class=\"dataframe\">\n",
       "  <thead>\n",
       "    <tr style=\"text-align: right;\">\n",
       "      <th></th>\n",
       "      <th>human_entrez_gene</th>\n",
       "      <th>human_ensembl_gene</th>\n",
       "      <th>hgnc_id</th>\n",
       "      <th>human_name</th>\n",
       "      <th>human_symbol</th>\n",
       "      <th>human_chr</th>\n",
       "      <th>human_assert_ids</th>\n",
       "      <th>mouse_entrez_gene</th>\n",
       "      <th>mouse_ensembl_gene</th>\n",
       "      <th>mgi_id</th>\n",
       "      <th>mouse_name</th>\n",
       "      <th>mouse_symbol</th>\n",
       "      <th>mouse_chr</th>\n",
       "      <th>mouse_assert_ids</th>\n",
       "      <th>support</th>\n",
       "    </tr>\n",
       "  </thead>\n",
       "  <tbody>\n",
       "    <tr>\n",
       "      <th>0</th>\n",
       "      <td>1</td>\n",
       "      <td>ENSG00000121410</td>\n",
       "      <td>HGNC:5</td>\n",
       "      <td>alpha-1-B glycoprotein</td>\n",
       "      <td>A1BG</td>\n",
       "      <td>19q13.43</td>\n",
       "      <td>ENOG5035G3W,P04217,11167,Phy00089XY_HUMAN,1,HGNC:5,ENSP00000263100,141638at9347,ENSG00000121410,...</td>\n",
       "      <td>117586</td>\n",
       "      <td>ENSMUSG00000022347</td>\n",
       "      <td>MGI:2152878</td>\n",
       "      <td>alpha-1-B glycoprotein</td>\n",
       "      <td>A1bg</td>\n",
       "      <td>15</td>\n",
       "      <td>ENOG5035G3W,Q19LI2,11167,Phy001S3S6_MOUSE,117586,MGI:2152878,ENSMUSP00000094151,141638at9347,ENS...</td>\n",
       "      <td>EggNOG,Inparanoid,HomoloGene,PhylomeDB,NCBI,HGNC,Treefam,OrthoDB,Ensembl,OMA,Panther,OrthoMCL</td>\n",
       "    </tr>\n",
       "    <tr>\n",
       "      <th>1</th>\n",
       "      <td>29974</td>\n",
       "      <td>ENSG00000148584</td>\n",
       "      <td>HGNC:24086</td>\n",
       "      <td>APOBEC1 complementation factor</td>\n",
       "      <td>A1CF</td>\n",
       "      <td>10q11.23</td>\n",
       "      <td>Q9NQ94,ENOG5035F4P,16363,HGNC:24086,29974,ENSP00000363105,ENSG00000148584,67756at9347,HUMAN|HGNC...</td>\n",
       "      <td>69865</td>\n",
       "      <td>ENSMUSG00000052595</td>\n",
       "      <td>MGI:1917115</td>\n",
       "      <td>APOBEC1 complementation factor</td>\n",
       "      <td>A1cf</td>\n",
       "      <td>19</td>\n",
       "      <td>Q5YD48,ENOG5035F4P,16363,MGI:1917115,69865,ENSMUSP00000075235,ENSMUSG00000052595,67756at9347,MOU...</td>\n",
       "      <td>Inparanoid,EggNOG,HomoloGene,HGNC,NCBI,Treefam,Ensembl,OrthoDB,Panther,OrthoMCL</td>\n",
       "    </tr>\n",
       "    <tr>\n",
       "      <th>2</th>\n",
       "      <td>2</td>\n",
       "      <td>ENSG00000175899</td>\n",
       "      <td>HGNC:7</td>\n",
       "      <td>alpha-2-macroglobulin</td>\n",
       "      <td>A2M</td>\n",
       "      <td>12p13.31</td>\n",
       "      <td>P01023,ENOG5035HJM,37248,HGNC:7,ENSP00000323929,13407at9347,ENSG00000175899,HUMAN|HGNC=7|UniProt...</td>\n",
       "      <td>232345</td>\n",
       "      <td>ENSMUSG00000030111</td>\n",
       "      <td>MGI:2449119</td>\n",
       "      <td>alpha-2-macroglobulin</td>\n",
       "      <td>A2m</td>\n",
       "      <td>6</td>\n",
       "      <td>Q6GQT1,ENOG5035HJM,37248,MGI:2449119,ENSMUSP00000032203,13407at9347,ENSMUSG00000030111,MOUSE|MGI...</td>\n",
       "      <td>Inparanoid,EggNOG,HomoloGene,HGNC,Treefam,OrthoDB,Ensembl,Panther,OMA,OrthoMCL</td>\n",
       "    </tr>\n",
       "  </tbody>\n",
       "</table>\n",
       "</div>"
      ],
      "text/plain": [
       "  human_entrez_gene human_ensembl_gene     hgnc_id   \n",
       "0                 1    ENSG00000121410      HGNC:5  \\\n",
       "1             29974    ENSG00000148584  HGNC:24086   \n",
       "2                 2    ENSG00000175899      HGNC:7   \n",
       "\n",
       "                       human_name human_symbol human_chr   \n",
       "0          alpha-1-B glycoprotein         A1BG  19q13.43  \\\n",
       "1  APOBEC1 complementation factor         A1CF  10q11.23   \n",
       "2           alpha-2-macroglobulin          A2M  12p13.31   \n",
       "\n",
       "                                                                                      human_assert_ids   \n",
       "0  ENOG5035G3W,P04217,11167,Phy00089XY_HUMAN,1,HGNC:5,ENSP00000263100,141638at9347,ENSG00000121410,...  \\\n",
       "1  Q9NQ94,ENOG5035F4P,16363,HGNC:24086,29974,ENSP00000363105,ENSG00000148584,67756at9347,HUMAN|HGNC...   \n",
       "2  P01023,ENOG5035HJM,37248,HGNC:7,ENSP00000323929,13407at9347,ENSG00000175899,HUMAN|HGNC=7|UniProt...   \n",
       "\n",
       "  mouse_entrez_gene  mouse_ensembl_gene       mgi_id   \n",
       "0            117586  ENSMUSG00000022347  MGI:2152878  \\\n",
       "1             69865  ENSMUSG00000052595  MGI:1917115   \n",
       "2            232345  ENSMUSG00000030111  MGI:2449119   \n",
       "\n",
       "                       mouse_name mouse_symbol mouse_chr   \n",
       "0          alpha-1-B glycoprotein         A1bg        15  \\\n",
       "1  APOBEC1 complementation factor         A1cf        19   \n",
       "2           alpha-2-macroglobulin          A2m         6   \n",
       "\n",
       "                                                                                      mouse_assert_ids   \n",
       "0  ENOG5035G3W,Q19LI2,11167,Phy001S3S6_MOUSE,117586,MGI:2152878,ENSMUSP00000094151,141638at9347,ENS...  \\\n",
       "1  Q5YD48,ENOG5035F4P,16363,MGI:1917115,69865,ENSMUSP00000075235,ENSMUSG00000052595,67756at9347,MOU...   \n",
       "2  Q6GQT1,ENOG5035HJM,37248,MGI:2449119,ENSMUSP00000032203,13407at9347,ENSMUSG00000030111,MOUSE|MGI...   \n",
       "\n",
       "                                                                                         support  \n",
       "0  EggNOG,Inparanoid,HomoloGene,PhylomeDB,NCBI,HGNC,Treefam,OrthoDB,Ensembl,OMA,Panther,OrthoMCL  \n",
       "1                Inparanoid,EggNOG,HomoloGene,HGNC,NCBI,Treefam,Ensembl,OrthoDB,Panther,OrthoMCL  \n",
       "2                 Inparanoid,EggNOG,HomoloGene,HGNC,Treefam,OrthoDB,Ensembl,Panther,OMA,OrthoMCL  "
      ]
     },
     "execution_count": 3,
     "metadata": {},
     "output_type": "execute_result"
    }
   ],
   "source": [
    "hgnc_bulk = pd.read_csv('/Users/stearb/Desktop/DESKTOP_TRANSFER/R03_local/data 2/orthologs/human_mouse_hcop_fifteen_column.txt',sep='\\t')\n",
    "\n",
    "assert hgnc_bulk.isna().sum().sum() == 0\n",
    "\n",
    "print(hgnc_bulk.shape)\n",
    "print(hgnc_bulk.columns)\n",
    "hgnc_bulk.head(3)"
   ]
  },
  {
   "cell_type": "code",
   "execution_count": 4,
   "metadata": {},
   "outputs": [],
   "source": [
    "df = hgnc_bulk[['hgnc_id','mouse_symbol','mouse_name','mgi_id']]"
   ]
  },
  {
   "cell_type": "code",
   "execution_count": 5,
   "metadata": {},
   "outputs": [],
   "source": [
    "\n",
    "df['CODE_mouse'] = ['HCOP:'+i for i in df['mouse_symbol']]\n",
    "df['CodeID_mouse']  = ['HCOP '+i for i in df['CODE_mouse']]"
   ]
  },
  {
   "cell_type": "code",
   "execution_count": 6,
   "metadata": {},
   "outputs": [],
   "source": [
    "df[['CodeID_mouse','mgi_id']].to_csv('mgi_name_map.csv',index=False)"
   ]
  },
  {
   "cell_type": "code",
   "execution_count": 7,
   "metadata": {},
   "outputs": [],
   "source": [
    "hgnc_bulk['hgnc_id'] = ['HGNC '+ i for i in df['hgnc_id']]"
   ]
  },
  {
   "cell_type": "code",
   "execution_count": 8,
   "metadata": {},
   "outputs": [
    {
     "data": {
      "text/html": [
       "<div>\n",
       "<style scoped>\n",
       "    .dataframe tbody tr th:only-of-type {\n",
       "        vertical-align: middle;\n",
       "    }\n",
       "\n",
       "    .dataframe tbody tr th {\n",
       "        vertical-align: top;\n",
       "    }\n",
       "\n",
       "    .dataframe thead th {\n",
       "        text-align: right;\n",
       "    }\n",
       "</style>\n",
       "<table border=\"1\" class=\"dataframe\">\n",
       "  <thead>\n",
       "    <tr style=\"text-align: right;\">\n",
       "      <th></th>\n",
       "      <th>subject</th>\n",
       "      <th>predicate</th>\n",
       "      <th>object</th>\n",
       "    </tr>\n",
       "  </thead>\n",
       "  <tbody>\n",
       "    <tr>\n",
       "      <th>0</th>\n",
       "      <td>MGI:2152878</td>\n",
       "      <td>RO_HOM0000020</td>\n",
       "      <td>HGNC:5</td>\n",
       "    </tr>\n",
       "    <tr>\n",
       "      <th>1</th>\n",
       "      <td>MGI:1917115</td>\n",
       "      <td>RO_HOM0000020</td>\n",
       "      <td>HGNC:24086</td>\n",
       "    </tr>\n",
       "    <tr>\n",
       "      <th>2</th>\n",
       "      <td>MGI:2449119</td>\n",
       "      <td>RO_HOM0000020</td>\n",
       "      <td>HGNC:7</td>\n",
       "    </tr>\n",
       "  </tbody>\n",
       "</table>\n",
       "</div>"
      ],
      "text/plain": [
       "       subject      predicate      object\n",
       "0  MGI:2152878  RO_HOM0000020      HGNC:5\n",
       "1  MGI:1917115  RO_HOM0000020  HGNC:24086\n",
       "2  MGI:2449119  RO_HOM0000020      HGNC:7"
      ]
     },
     "execution_count": 8,
     "metadata": {},
     "output_type": "execute_result"
    }
   ],
   "source": [
    "\n",
    "\n",
    "nodes = df[['mgi_id','mouse_name','mouse_symbol']]\n",
    "nodes.columns = ['node_id','node_label','node_synonyms']\n",
    "\n",
    "nodes = nodes.drop_duplicates()\n",
    "nodes = fill_missing_cols(nodes)\n",
    "\n",
    "df['predicate'] =    'RO_HOM0000020'  # in 1 to 1 orthology relationship with, old rel:    'has_ortholog'\n",
    "\n",
    "edges = df[['mgi_id','predicate','hgnc_id']]\n",
    "edges.columns = ['subject','predicate','object']\n",
    "edges.head(3)"
   ]
  },
  {
   "cell_type": "code",
   "execution_count": 9,
   "metadata": {},
   "outputs": [],
   "source": [
    "edges = edges.drop_duplicates()"
   ]
  },
  {
   "cell_type": "code",
   "execution_count": 10,
   "metadata": {},
   "outputs": [],
   "source": [
    "assert len(edges) == len(edges[edges['subject'].isin(nodes['node_id'])])"
   ]
  },
  {
   "cell_type": "code",
   "execution_count": 11,
   "metadata": {},
   "outputs": [],
   "source": [
    "nodes['node_id'] = [i.replace(':',' ') for i in nodes['node_id']]\n",
    "edges['subject'] = [i.replace(':',' ') for i in edges['subject']]\n",
    "edges['object'] = [i.replace(':',' ') for i in edges['object']]"
   ]
  },
  {
   "cell_type": "code",
   "execution_count": null,
   "metadata": {},
   "outputs": [],
   "source": []
  },
  {
   "cell_type": "code",
   "execution_count": 14,
   "metadata": {},
   "outputs": [],
   "source": [
    "nodes.to_csv('/Users/stearb/Desktop/DESKTOP_TRANSFER/DataDistilleryFiles/orthologs/OWLNETS_node_metadata_MGI.txt',\n",
    "             sep='\\t',index=False)\n",
    "\n",
    "edges.to_csv('/Users/stearb/Desktop/DESKTOP_TRANSFER/DataDistilleryFiles/orthologs/OWLNETS_edgelist_MGI.txt',\n",
    "             sep='\\t',index=False)"
   ]
  }
 ],
 "metadata": {
  "kernelspec": {
   "display_name": "Python 3 (ipykernel)",
   "language": "python",
   "name": "python3"
  },
  "language_info": {
   "codemirror_mode": {
    "name": "ipython",
    "version": 3
   },
   "file_extension": ".py",
   "mimetype": "text/x-python",
   "name": "python",
   "nbconvert_exporter": "python",
   "pygments_lexer": "ipython3",
   "version": "3.10.11"
  }
 },
 "nbformat": 4,
 "nbformat_minor": 2
}
